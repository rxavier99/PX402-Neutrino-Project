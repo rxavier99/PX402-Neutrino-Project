{
 "cells": [
  {
   "cell_type": "code",
   "execution_count": 1,
   "metadata": {},
   "outputs": [],
   "source": [
    "import numpy as np\n",
    "import matplotlib.pyplot as plt\n",
    "from sklearn.tree import DecisionTreeClassifier\n",
    "from sklearn.ensemble import AdaBoostClassifier\n",
    "from sklearn.datasets import make_classification"
   ]
  },
  {
   "cell_type": "code",
   "execution_count": 2,
   "metadata": {},
   "outputs": [],
   "source": [
    "pdg_train = np.abs(np.load('trainpdg.npy'))\n",
    "pdg_test = np.abs(np.load('testpdg.npy'))"
   ]
  },
  {
   "cell_type": "markdown",
   "metadata": {},
   "source": [
    "# Training data sets"
   ]
  },
  {
   "cell_type": "code",
   "execution_count": 3,
   "metadata": {},
   "outputs": [],
   "source": [
    "trainangles = np.load('trainangles.npy', allow_pickle = True)\n",
    "trainenergy = np.load('trainenergies.npy', allow_pickle = True)\n",
    "trainbinfrac = np.load('trainbinfrac.npy', allow_pickle = True)\n",
    "trainrsq = np.load('trainrsquare.npy', allow_pickle = True)\n",
    "trainisTrack = np.load('trainisTrack.npy')\n",
    "traindedx = np.load('dedx_train.npy', allow_pickle = True)"
   ]
  },
  {
   "cell_type": "code",
   "execution_count": 4,
   "metadata": {},
   "outputs": [],
   "source": [
    "x_train = np.array(list(zip(trainangles, trainbinfrac, trainenergy, trainrsq)))"
   ]
  },
  {
   "cell_type": "code",
   "execution_count": 5,
   "metadata": {
    "scrolled": true
   },
   "outputs": [
    {
     "data": {
      "text/plain": [
       "array([[14.31261616,  0.20238095,  0.18191113,  0.99312023],\n",
       "       [ 1.51185943,  0.20512821,  0.23647127,  0.97985841],\n",
       "       [ 5.77915535,  0.20588235,  0.28685775,  0.99722832],\n",
       "       ...,\n",
       "       [ 2.36683276,  0.22028986,  0.21082538,  0.99921892],\n",
       "       [ 2.46280738,  0.20036101,  0.19711588,  0.99943964],\n",
       "       [ 3.43693059,  0.21428571,  0.19193022,  0.99883645]])"
      ]
     },
     "execution_count": 5,
     "metadata": {},
     "output_type": "execute_result"
    }
   ],
   "source": [
    "x_train"
   ]
  },
  {
   "cell_type": "code",
   "execution_count": 6,
   "metadata": {},
   "outputs": [],
   "source": [
    "y_train = trainisTrack"
   ]
  },
  {
   "cell_type": "code",
   "execution_count": 7,
   "metadata": {},
   "outputs": [
    {
     "data": {
      "text/plain": [
       "117318"
      ]
     },
     "execution_count": 7,
     "metadata": {},
     "output_type": "execute_result"
    }
   ],
   "source": [
    "len(y_train)"
   ]
  },
  {
   "cell_type": "markdown",
   "metadata": {},
   "source": [
    "# Create and train BDT"
   ]
  },
  {
   "cell_type": "code",
   "execution_count": 8,
   "metadata": {},
   "outputs": [
    {
     "data": {
      "text/plain": [
       "AdaBoostClassifier(base_estimator=DecisionTreeClassifier(max_depth=5),\n",
       "                   n_estimators=200, random_state=0)"
      ]
     },
     "execution_count": 8,
     "metadata": {},
     "output_type": "execute_result"
    }
   ],
   "source": [
    "base = DecisionTreeClassifier(max_depth=5)\n",
    "bdt = AdaBoostClassifier(base_estimator=base, n_estimators=200, random_state=0)\n",
    "bdt.fit(x_train, y_train)"
   ]
  },
  {
   "cell_type": "code",
   "execution_count": 9,
   "metadata": {},
   "outputs": [
    {
     "data": {
      "text/plain": [
       "0.9428305971803134"
      ]
     },
     "execution_count": 9,
     "metadata": {},
     "output_type": "execute_result"
    }
   ],
   "source": [
    "bdt.score(x_train, y_train)"
   ]
  },
  {
   "cell_type": "markdown",
   "metadata": {},
   "source": [
    "# Testing data sets"
   ]
  },
  {
   "cell_type": "code",
   "execution_count": 10,
   "metadata": {},
   "outputs": [],
   "source": [
    "testangles = np.load('testangles.npy', allow_pickle = True)\n",
    "testenergy = np.load('testenergies - Copy.npy', allow_pickle = True)\n",
    "testbinfrac = np.load('testbinfrac.npy', allow_pickle = True)\n",
    "testrsq = np.load('testrsquare.npy', allow_pickle = True)\n",
    "testisTrack = np.load('testisTrack.npy')\n",
    "testdedx = np.load('dedx_test.npy', allow_pickle = True)"
   ]
  },
  {
   "cell_type": "code",
   "execution_count": 11,
   "metadata": {},
   "outputs": [],
   "source": [
    "x_test = np.array(list(zip(testangles, testbinfrac, testenergy, testrsq)))"
   ]
  },
  {
   "cell_type": "code",
   "execution_count": 12,
   "metadata": {},
   "outputs": [],
   "source": [
    "y_test = testisTrack"
   ]
  },
  {
   "cell_type": "markdown",
   "metadata": {},
   "source": [
    "# Create and test BDT"
   ]
  },
  {
   "cell_type": "code",
   "execution_count": 13,
   "metadata": {},
   "outputs": [
    {
     "data": {
      "text/plain": [
       "AdaBoostClassifier(base_estimator=DecisionTreeClassifier(max_depth=5),\n",
       "                   n_estimators=200, random_state=0)"
      ]
     },
     "execution_count": 13,
     "metadata": {},
     "output_type": "execute_result"
    }
   ],
   "source": [
    "base = DecisionTreeClassifier(max_depth=5)\n",
    "bdt = AdaBoostClassifier(base_estimator=base, n_estimators=200, random_state=0)\n",
    "bdt.fit(x_test, y_test)"
   ]
  },
  {
   "cell_type": "code",
   "execution_count": 14,
   "metadata": {},
   "outputs": [
    {
     "data": {
      "text/plain": [
       "0.9421274008006892"
      ]
     },
     "execution_count": 14,
     "metadata": {},
     "output_type": "execute_result"
    }
   ],
   "source": [
    "bdt.score(x_test, y_test)"
   ]
  },
  {
   "cell_type": "markdown",
   "metadata": {},
   "source": [
    "# BDT training score"
   ]
  },
  {
   "cell_type": "code",
   "execution_count": 15,
   "metadata": {},
   "outputs": [
    {
     "data": {
      "text/plain": [
       "<matplotlib.legend.Legend at 0x242ea9ff438>"
      ]
     },
     "execution_count": 15,
     "metadata": {},
     "output_type": "execute_result"
    },
    {
     "data": {
      "image/png": "[encoded data removed]",
      "text/plain": [
       "<Figure size 432x288 with 1 Axes>"
      ]
     },
     "metadata": {
      "needs_background": "light"
     },
     "output_type": "display_data"
    }
   ],
   "source": [
    "f_train = bdt.decision_function(x_train)\n",
    "min_f_train = np.round(np.min(f_train), 1)\n",
    "max_f_train = np.round(np.max(f_train), 1)\n",
    "bins = np.linspace(min_f_train, max_f_train, 100)\n",
    "cls_0_f_train = f_train[np.where(y_train == 0)]\n",
    "cls_1_f_train = f_train[np.where(y_train == 1)]\n",
    "weights_0 = np.ones_like(cls_0_f_train) / len(cls_0_f_train)\n",
    "weights_1 = np.ones_like(cls_1_f_train) / len(cls_1_f_train)\n",
    "plt.hist(cls_0_f_train, color='r', weights=weights_0, bins=bins, histtype='step', label='Showers')\n",
    "plt.hist(cls_1_f_train, color='b', weights=weights_1, bins=bins, histtype='step', label='Tracks')\n",
    "plt.legend()"
   ]
  },
  {
   "cell_type": "markdown",
   "metadata": {},
   "source": [
    "# BDT testing score"
   ]
  },
  {
   "cell_type": "code",
   "execution_count": 16,
   "metadata": {},
   "outputs": [],
   "source": [
    "#Which one do we talk about training or testing?"
   ]
  },
  {
   "cell_type": "code",
   "execution_count": 17,
   "metadata": {},
   "outputs": [
    {
     "data": {
      "text/plain": [
       "<matplotlib.legend.Legend at 0x242ea30b160>"
      ]
     },
     "execution_count": 17,
     "metadata": {},
     "output_type": "execute_result"
    },
    {
     "data": {
      "image/png": "[encoded data removed]",
      "text/plain": [
       "<Figure size 432x288 with 1 Axes>"
      ]
     },
     "metadata": {
      "needs_background": "light"
     },
     "output_type": "display_data"
    }
   ],
   "source": [
    "f_test = bdt.decision_function(x_test)\n",
    "min_f_test = np.round(np.min(f_test), 1)\n",
    "max_f_test = np.round(np.max(f_test), 1)\n",
    "bins = np.linspace(min_f_test, max_f_test, 100)\n",
    "cls_0_f_test = f_test[np.where(y_test == 0)]\n",
    "cls_1_f_test = f_test[np.where(y_test == 1)]\n",
    "weights_0 = np.ones_like(cls_0_f_test) / len(cls_0_f_test)\n",
    "weights_1 = np.ones_like(cls_1_f_test) / len(cls_1_f_test)\n",
    "plt.hist(cls_0_f_test, color='r', weights=weights_0, bins=bins, histtype='step', label='Showers')\n",
    "plt.hist(cls_1_f_test, color='b', weights=weights_1, bins=bins, histtype='step', label='Tracks')\n",
    "plt.legend()"
   ]
  },
  {
   "cell_type": "markdown",
   "metadata": {},
   "source": [
    "# Track particle id training sample"
   ]
  },
  {
   "cell_type": "code",
   "execution_count": 18,
   "metadata": {},
   "outputs": [],
   "source": [
    "tracks_train = np.where(f_train > 0)[0]\n",
    "tracks_test = np.where(f_test > 0)[0]"
   ]
  },
  {
   "cell_type": "code",
   "execution_count": 19,
   "metadata": {},
   "outputs": [],
   "source": [
    "pdg2_train = pdg_train[tracks_train]"
   ]
  },
  {
   "cell_type": "code",
   "execution_count": 20,
   "metadata": {},
   "outputs": [],
   "source": [
    "for n, i in enumerate(pdg2_train):\n",
    "    if i == 11:\n",
    "        pdg2_train[n] = 0\n",
    "    elif i == 22:\n",
    "        pdg2_train[n] = 0\n",
    "    elif i == 321: \n",
    "        pdg2_train[n] = 0\n",
    "    elif i == 2112: \n",
    "        pdg2_train[n] = 0\n",
    "    elif i == 3112:\n",
    "        pdg2_train[n] = 0\n",
    "    elif i == 3222:\n",
    "        pdg2_train[n] = 0      "
   ]
  },
  {
   "cell_type": "markdown",
   "metadata": {},
   "source": [
    "# Track particle id testing sample"
   ]
  },
  {
   "cell_type": "code",
   "execution_count": 21,
   "metadata": {},
   "outputs": [],
   "source": [
    "pdg2_test = pdg_test[tracks_test]"
   ]
  },
  {
   "cell_type": "code",
   "execution_count": 22,
   "metadata": {},
   "outputs": [
    {
     "data": {
      "text/plain": [
       "{11, 13, 22, 211, 321, 2112, 2212, 3112, 3222}"
      ]
     },
     "execution_count": 22,
     "metadata": {},
     "output_type": "execute_result"
    }
   ],
   "source": [
    "set(pdg2_test)"
   ]
  },
  {
   "cell_type": "code",
   "execution_count": 23,
   "metadata": {},
   "outputs": [],
   "source": [
    "for n, i in enumerate(pdg2_test):\n",
    "    if i == 11:\n",
    "        pdg2_test[n] = 0\n",
    "    elif i == 22:\n",
    "        pdg2_test[n] = 0\n",
    "    elif i == 321: \n",
    "        pdg2_test[n] = 0\n",
    "    elif i == 2112: \n",
    "        pdg2_test[n] = 0\n",
    "    elif i == 3112:\n",
    "        pdg2_test[n] = 0\n",
    "    elif i == 3222:\n",
    "        pdg2_test[n] = 0      "
   ]
  },
  {
   "cell_type": "code",
   "execution_count": 24,
   "metadata": {},
   "outputs": [],
   "source": [
    "tracks_train = np.where(f_train > 0)[0]\n",
    "tracks_test = np.where(f_test > 0)[0]"
   ]
  },
  {
   "cell_type": "code",
   "execution_count": 25,
   "metadata": {},
   "outputs": [],
   "source": [
    "trainangles_tracks = trainangles[tracks_train]\n",
    "trainenergy_tracks = trainenergy[tracks_train]\n",
    "trainbinfrac_tracks= trainbinfrac[tracks_train]\n",
    "trainrsq_tracks = trainrsq[tracks_train]"
   ]
  },
  {
   "cell_type": "code",
   "execution_count": 26,
   "metadata": {},
   "outputs": [],
   "source": [
    "testangles_tracks = testangles[tracks_test]\n",
    "testenergy_tracks = testenergy[tracks_test]\n",
    "testbinfrac_tracks = testbinfrac[tracks_test]\n",
    "testrsq_tracks = testrsq[tracks_test]"
   ]
  },
  {
   "cell_type": "code",
   "execution_count": 27,
   "metadata": {},
   "outputs": [],
   "source": [
    "#Variables values with bdt score > 0\n",
    "np.save('trainangles_t.npy', trainangles_tracks)\n",
    "np.save('trainenergy_t.npy', trainenergy_tracks)\n",
    "np.save('trainbinfrac_t.npy', trainbinfrac_tracks)\n",
    "np.save('trainrsq_t.npy', trainrsq_tracks)"
   ]
  },
  {
   "cell_type": "code",
   "execution_count": 28,
   "metadata": {},
   "outputs": [],
   "source": [
    "np.save('testangles_t.npy', testangles_tracks)\n",
    "np.save('testenergy_t.npy', testenergy_tracks)\n",
    "np.save('testbinfrac_t.npy', testbinfrac_tracks)\n",
    "np.save('testrsq_t.npy', testrsq_tracks)"
   ]
  },
  {
   "cell_type": "code",
   "execution_count": 29,
   "metadata": {},
   "outputs": [],
   "source": [
    "np.save('pdg2_train.npy', pdg2_train)\n",
    "np.save('pdg2_test.npy', pdg2_test)"
   ]
  },
  {
   "cell_type": "markdown",
   "metadata": {},
   "source": [
    "# Confusion Matrix training "
   ]
  },
  {
   "cell_type": "code",
   "execution_count": 30,
   "metadata": {},
   "outputs": [],
   "source": [
    "#PDGs predicted by the 4 cat BDT\n",
    "pred_train = np.load('fourcat_pred_train.npy')\n",
    "pred_test = np.load('fourcat_pred_test.npy')"
   ]
  },
  {
   "cell_type": "code",
   "execution_count": 31,
   "metadata": {
    "scrolled": true
   },
   "outputs": [
    {
     "data": {
      "text/plain": [
       "array([  13,   13,    0,   13, 2212,   13, 2212,   13, 2212,   13, 2212,\n",
       "         13, 2212,   13, 2212,   13,    0, 2212, 2212, 2212,  211,   13,\n",
       "       2212,   13,    0,   13, 2212,    0, 2212, 2212,   13, 2212,   13,\n",
       "       2212, 2212, 2212,   13,   13, 2212, 2212,   13, 2212,   13, 2212,\n",
       "         13, 2212,   13, 2212, 2212, 2212,    0, 2212,   13,   13, 2212,\n",
       "       2212,   13,   13,   13,   13,   13,   13,   13,   13,   13,    0,\n",
       "       2212,   13,   13, 2212,   13,  211, 2212,   13,    0,   13, 2212,\n",
       "         13, 2212, 2212,   13,    0, 2212, 2212, 2212,   13, 2212, 2212,\n",
       "         13, 2212,   13,   13,    0, 2212, 2212,   13,   13,   13,  211,\n",
       "         13])"
      ]
     },
     "execution_count": 31,
     "metadata": {},
     "output_type": "execute_result"
    }
   ],
   "source": [
    "pred_train[:100]"
   ]
  },
  {
   "cell_type": "code",
   "execution_count": 32,
   "metadata": {
    "scrolled": true
   },
   "outputs": [
    {
     "data": {
      "text/plain": [
       "array([  13, 2212, 2212,   13, 2212, 2212, 2212,   13, 2212,   13,  211,\n",
       "         13,   13,   13, 2212,   13,    0,    0, 2212, 2212,   13, 2212,\n",
       "       2212, 2212, 2212, 2212, 2212,    0, 2212, 2212,   13, 2212, 2212,\n",
       "       2212,   13, 2212,   13,   13,   13, 2212,   13, 2212,   13,   13,\n",
       "         13, 2212,   13, 2212, 2212, 2212,    0, 2212, 2212,   13, 2212,\n",
       "       2212,   13,   13,   13,   13,   13,   13,  211,   13, 2212,   13,\n",
       "       2212,   13,   13, 2212,   13,  211, 2212,   13,   13,   13,   13,\n",
       "         13, 2212, 2212,  211,   13, 2212, 2212, 2212, 2212,   13, 2212,\n",
       "         13, 2212,   13,   13,    0,   13, 2212,   13,   13,  211,  211,\n",
       "         13])"
      ]
     },
     "execution_count": 32,
     "metadata": {},
     "output_type": "execute_result"
    }
   ],
   "source": [
    "#True PDG values\n",
    "pdg2_train[:100]"
   ]
  },
  {
   "cell_type": "code",
   "execution_count": 33,
   "metadata": {},
   "outputs": [],
   "source": [
    "true_muon_train = np.where(pdg2_train == 13)[0]\n",
    "true_proton_train = np.where(pdg2_train == 2212)[0]\n",
    "true_pion_train = np.where(pdg2_train == 211)[0]\n",
    "true_other_train = np.where(pdg2_train == 0)[0]"
   ]
  },
  {
   "cell_type": "code",
   "execution_count": 34,
   "metadata": {},
   "outputs": [],
   "source": [
    "pred_muon_train = np.where(pred_train == 13)[0]\n",
    "pred_proton_train = np.where(pred_train == 2212)[0]\n",
    "pred_pion_train = np.where(pred_train == 211)[0]\n",
    "pred_other_train = np.where(pred_train == 0)[0]"
   ]
  },
  {
   "cell_type": "code",
   "execution_count": 35,
   "metadata": {},
   "outputs": [],
   "source": [
    "mumu_train = len(np.intersect1d(true_muon_train, pred_muon_train))/len(true_muon_train)\n",
    "protprot_train = len(np.intersect1d(true_proton_train, pred_proton_train))/len(true_proton_train)\n",
    "pipi_train = len(np.intersect1d(true_pion_train, pred_pion_train))/len(true_pion_train)\n",
    "otherother_train = len(np.intersect1d(true_other_train, pred_other_train))/len(true_other_train)"
   ]
  },
  {
   "cell_type": "code",
   "execution_count": 36,
   "metadata": {},
   "outputs": [
    {
     "data": {
      "text/plain": [
       "0.7564461421938288"
      ]
     },
     "execution_count": 36,
     "metadata": {},
     "output_type": "execute_result"
    }
   ],
   "source": [
    "mumu_train"
   ]
  },
  {
   "cell_type": "code",
   "execution_count": 37,
   "metadata": {},
   "outputs": [
    {
     "data": {
      "text/plain": [
       "0.7948968755240065"
      ]
     },
     "execution_count": 37,
     "metadata": {},
     "output_type": "execute_result"
    }
   ],
   "source": [
    "protprot_train"
   ]
  },
  {
   "cell_type": "code",
   "execution_count": 38,
   "metadata": {},
   "outputs": [
    {
     "data": {
      "text/plain": [
       "0.23242630385487528"
      ]
     },
     "execution_count": 38,
     "metadata": {},
     "output_type": "execute_result"
    }
   ],
   "source": [
    "pipi_train"
   ]
  },
  {
   "cell_type": "code",
   "execution_count": 39,
   "metadata": {},
   "outputs": [
    {
     "data": {
      "text/plain": [
       "0.5202740492170023"
      ]
     },
     "execution_count": 39,
     "metadata": {},
     "output_type": "execute_result"
    }
   ],
   "source": [
    "otherother_train"
   ]
  },
  {
   "cell_type": "code",
   "execution_count": 40,
   "metadata": {},
   "outputs": [],
   "source": [
    "muprot_train = len(np.intersect1d(true_muon_train, pred_proton_train))/len(true_muon_train)\n",
    "mupi_train = len(np.intersect1d(true_muon_train, pred_pion_train))/len(true_muon_train)\n",
    "muother_train = len(np.intersect1d(true_muon_train, pred_other_train))/len(true_muon_train)"
   ]
  },
  {
   "cell_type": "code",
   "execution_count": 41,
   "metadata": {},
   "outputs": [
    {
     "data": {
      "text/plain": [
       "0.1875720354332005"
      ]
     },
     "execution_count": 41,
     "metadata": {},
     "output_type": "execute_result"
    }
   ],
   "source": [
    "muprot_train"
   ]
  },
  {
   "cell_type": "code",
   "execution_count": 42,
   "metadata": {
    "scrolled": true
   },
   "outputs": [
    {
     "data": {
      "text/plain": [
       "0.02789211973523891"
      ]
     },
     "execution_count": 42,
     "metadata": {},
     "output_type": "execute_result"
    }
   ],
   "source": [
    "mupi_train"
   ]
  },
  {
   "cell_type": "code",
   "execution_count": 43,
   "metadata": {},
   "outputs": [
    {
     "data": {
      "text/plain": [
       "0.028089702637731747"
      ]
     },
     "execution_count": 43,
     "metadata": {},
     "output_type": "execute_result"
    }
   ],
   "source": [
    "muother_train"
   ]
  },
  {
   "cell_type": "code",
   "execution_count": 44,
   "metadata": {},
   "outputs": [],
   "source": [
    "protmu_train = len(np.intersect1d(true_proton_train, pred_muon_train))/len(true_proton_train)\n",
    "protpi_train = len(np.intersect1d(true_proton_train, pred_pion_train))/len(true_proton_train)\n",
    "protother_train = len(np.intersect1d(true_proton_train, pred_other_train))/len(true_proton_train)"
   ]
  },
  {
   "cell_type": "code",
   "execution_count": 45,
   "metadata": {},
   "outputs": [
    {
     "data": {
      "text/plain": [
       "0.16077916270750656"
      ]
     },
     "execution_count": 45,
     "metadata": {},
     "output_type": "execute_result"
    }
   ],
   "source": [
    "protmu_train"
   ]
  },
  {
   "cell_type": "code",
   "execution_count": 46,
   "metadata": {},
   "outputs": [
    {
     "data": {
      "text/plain": [
       "0.014560393493935498"
      ]
     },
     "execution_count": 46,
     "metadata": {},
     "output_type": "execute_result"
    }
   ],
   "source": [
    "protpi_train"
   ]
  },
  {
   "cell_type": "code",
   "execution_count": 47,
   "metadata": {},
   "outputs": [
    {
     "data": {
      "text/plain": [
       "0.02976356827455145"
      ]
     },
     "execution_count": 47,
     "metadata": {},
     "output_type": "execute_result"
    }
   ],
   "source": [
    "protother_train"
   ]
  },
  {
   "cell_type": "code",
   "execution_count": 48,
   "metadata": {},
   "outputs": [],
   "source": [
    "pimu_train = len(np.intersect1d(true_pion_train, pred_muon_train))/len(true_pion_train) \n",
    "piprot_train = len(np.intersect1d(true_pion_train, pred_proton_train))/len(true_pion_train)\n",
    "piother_train = len(np.intersect1d(true_pion_train, pred_other_train))/len(true_pion_train)"
   ]
  },
  {
   "cell_type": "code",
   "execution_count": 49,
   "metadata": {},
   "outputs": [
    {
     "data": {
      "text/plain": [
       "0.4261148904006047"
      ]
     },
     "execution_count": 49,
     "metadata": {},
     "output_type": "execute_result"
    }
   ],
   "source": [
    "pimu_train"
   ]
  },
  {
   "cell_type": "code",
   "execution_count": 50,
   "metadata": {},
   "outputs": [
    {
     "data": {
      "text/plain": [
       "0.28703703703703703"
      ]
     },
     "execution_count": 50,
     "metadata": {},
     "output_type": "execute_result"
    }
   ],
   "source": [
    "piprot_train"
   ]
  },
  {
   "cell_type": "code",
   "execution_count": 51,
   "metadata": {},
   "outputs": [
    {
     "data": {
      "text/plain": [
       "0.05442176870748299"
      ]
     },
     "execution_count": 51,
     "metadata": {},
     "output_type": "execute_result"
    }
   ],
   "source": [
    "piother_train"
   ]
  },
  {
   "cell_type": "code",
   "execution_count": 52,
   "metadata": {},
   "outputs": [],
   "source": [
    "othermu_train = len(np.intersect1d(true_other_train, pred_muon_train))/len(true_other_train) \n",
    "otherprot_train = len(np.intersect1d(true_other_train, pred_proton_train))/len(true_other_train)\n",
    "otherpi_train = len(np.intersect1d(true_other_train, pred_pion_train))/len(true_other_train)"
   ]
  },
  {
   "cell_type": "code",
   "execution_count": 53,
   "metadata": {
    "scrolled": true
   },
   "outputs": [
    {
     "data": {
      "text/plain": [
       "0.1960290827740492"
      ]
     },
     "execution_count": 53,
     "metadata": {},
     "output_type": "execute_result"
    }
   ],
   "source": [
    "othermu_train"
   ]
  },
  {
   "cell_type": "code",
   "execution_count": 54,
   "metadata": {},
   "outputs": [
    {
     "data": {
      "text/plain": [
       "0.2701342281879195"
      ]
     },
     "execution_count": 54,
     "metadata": {},
     "output_type": "execute_result"
    }
   ],
   "source": [
    "otherprot_train"
   ]
  },
  {
   "cell_type": "code",
   "execution_count": 55,
   "metadata": {
    "scrolled": true
   },
   "outputs": [
    {
     "data": {
      "text/plain": [
       "0.013562639821029083"
      ]
     },
     "execution_count": 55,
     "metadata": {},
     "output_type": "execute_result"
    }
   ],
   "source": [
    "otherpi_train"
   ]
  },
  {
   "cell_type": "markdown",
   "metadata": {},
   "source": [
    "# Confusion Matrix testing"
   ]
  },
  {
   "cell_type": "code",
   "execution_count": 56,
   "metadata": {},
   "outputs": [],
   "source": [
    "true_muon_test = np.where(pdg2_test == 13)[0]\n",
    "true_proton_test = np.where(pdg2_test == 2212)[0]\n",
    "true_pion_test = np.where(pdg2_test == 211)[0]\n",
    "true_other_test = np.where(pdg2_test == 0)[0]"
   ]
  },
  {
   "cell_type": "code",
   "execution_count": 57,
   "metadata": {},
   "outputs": [],
   "source": [
    "pred_muon_test = np.where(pred_test == 13)[0]\n",
    "pred_proton_test = np.where(pred_test == 2212)[0]\n",
    "pred_pion_test = np.where(pred_test == 211)[0]\n",
    "pred_other_test = np.where(pred_test == 0)[0]"
   ]
  },
  {
   "cell_type": "code",
   "execution_count": 58,
   "metadata": {},
   "outputs": [],
   "source": [
    "mumu_test = len(np.intersect1d(true_muon_test, pred_muon_test))/len(true_muon_test)\n",
    "protprot_test = len(np.intersect1d(true_proton_test, pred_proton_test))/len(true_proton_test)\n",
    "pipi_test = len(np.intersect1d(true_pion_test, pred_pion_test))/len(true_pion_test)\n",
    "otherother_test = len(np.intersect1d(true_other_test, pred_other_test))/len(true_other_test)"
   ]
  },
  {
   "cell_type": "code",
   "execution_count": 59,
   "metadata": {},
   "outputs": [],
   "source": [
    "muonscalledmuons = len(np.intersect1d(true_muon_test, pred_muon_test))\n",
    "muonscalledprotons = len(np.intersect1d(true_muon_test, pred_proton_test))\n",
    "muonscalledpions = len(np.intersect1d(true_muon_test, pred_pion_test))\n",
    "muonscalledother = len(np.intersect1d(true_muon_test, pred_other_test))"
   ]
  },
  {
   "cell_type": "code",
   "execution_count": 60,
   "metadata": {},
   "outputs": [
    {
     "data": {
      "text/plain": [
       "0.7138346727898967"
      ]
     },
     "execution_count": 60,
     "metadata": {},
     "output_type": "execute_result"
    }
   ],
   "source": [
    "mumu_test"
   ]
  },
  {
   "cell_type": "code",
   "execution_count": 61,
   "metadata": {},
   "outputs": [
    {
     "data": {
      "text/plain": [
       "0.8042596897129575"
      ]
     },
     "execution_count": 61,
     "metadata": {},
     "output_type": "execute_result"
    }
   ],
   "source": [
    "protprot_test"
   ]
  },
  {
   "cell_type": "code",
   "execution_count": 62,
   "metadata": {},
   "outputs": [
    {
     "data": {
      "text/plain": [
       "0.2543888704869162"
      ]
     },
     "execution_count": 62,
     "metadata": {},
     "output_type": "execute_result"
    }
   ],
   "source": [
    "pipi_test"
   ]
  },
  {
   "cell_type": "code",
   "execution_count": 63,
   "metadata": {},
   "outputs": [
    {
     "data": {
      "text/plain": [
       "0.3960073334691383"
      ]
     },
     "execution_count": 63,
     "metadata": {},
     "output_type": "execute_result"
    }
   ],
   "source": [
    "otherother_test"
   ]
  },
  {
   "cell_type": "code",
   "execution_count": 64,
   "metadata": {},
   "outputs": [],
   "source": [
    "muprot_test = len(np.intersect1d(true_muon_test, pred_proton_test))/len(true_muon_test)\n",
    "mupi_test = len(np.intersect1d(true_muon_test, pred_pion_test))/len(true_muon_test)\n",
    "muother_test = len(np.intersect1d(true_muon_test, pred_other_test))/len(true_muon_test)"
   ]
  },
  {
   "cell_type": "code",
   "execution_count": 65,
   "metadata": {},
   "outputs": [
    {
     "data": {
      "text/plain": [
       "0.20863630565123104"
      ]
     },
     "execution_count": 65,
     "metadata": {},
     "output_type": "execute_result"
    }
   ],
   "source": [
    "muprot_test"
   ]
  },
  {
   "cell_type": "code",
   "execution_count": 66,
   "metadata": {
    "scrolled": true
   },
   "outputs": [
    {
     "data": {
      "text/plain": [
       "0.05683122847301952"
      ]
     },
     "execution_count": 66,
     "metadata": {},
     "output_type": "execute_result"
    }
   ],
   "source": [
    "mupi_test"
   ]
  },
  {
   "cell_type": "code",
   "execution_count": 67,
   "metadata": {},
   "outputs": [
    {
     "data": {
      "text/plain": [
       "0.020697793085852786"
      ]
     },
     "execution_count": 67,
     "metadata": {},
     "output_type": "execute_result"
    }
   ],
   "source": [
    "muother_test"
   ]
  },
  {
   "cell_type": "code",
   "execution_count": 68,
   "metadata": {},
   "outputs": [],
   "source": [
    "protmu_test = len(np.intersect1d(true_proton_test, pred_muon_test))/len(true_proton_test)\n",
    "protpi_test = len(np.intersect1d(true_proton_test, pred_pion_test))/len(true_proton_test)\n",
    "protother_test = len(np.intersect1d(true_proton_test, pred_other_test))/len(true_proton_test)"
   ]
  },
  {
   "cell_type": "code",
   "execution_count": 69,
   "metadata": {},
   "outputs": [
    {
     "data": {
      "text/plain": [
       "0.15017027947456618"
      ]
     },
     "execution_count": 69,
     "metadata": {},
     "output_type": "execute_result"
    }
   ],
   "source": [
    "protmu_test"
   ]
  },
  {
   "cell_type": "code",
   "execution_count": 70,
   "metadata": {},
   "outputs": [
    {
     "data": {
      "text/plain": [
       "0.02321747121466025"
      ]
     },
     "execution_count": 70,
     "metadata": {},
     "output_type": "execute_result"
    }
   ],
   "source": [
    "protpi_test"
   ]
  },
  {
   "cell_type": "code",
   "execution_count": 71,
   "metadata": {},
   "outputs": [
    {
     "data": {
      "text/plain": [
       "0.0223525595978161"
      ]
     },
     "execution_count": 71,
     "metadata": {},
     "output_type": "execute_result"
    }
   ],
   "source": [
    "protother_test"
   ]
  },
  {
   "cell_type": "code",
   "execution_count": 72,
   "metadata": {},
   "outputs": [],
   "source": [
    "pimu_test = len(np.intersect1d(true_pion_test, pred_muon_test))/len(true_pion_test) \n",
    "piprot_test = len(np.intersect1d(true_pion_test, pred_proton_test))/len(true_pion_test)\n",
    "piother_test = len(np.intersect1d(true_pion_test, pred_other_test))/len(true_pion_test)"
   ]
  },
  {
   "cell_type": "code",
   "execution_count": 73,
   "metadata": {},
   "outputs": [],
   "source": [
    "pionscalledpions = len(np.intersect1d(true_pion_test, pred_pion_test))\n",
    "pionscalledmuons = len(np.intersect1d(true_pion_test, pred_muon_test))\n",
    "pionscalledprotons = len(np.intersect1d(true_pion_test, pred_proton_test))\n",
    "pionscalledother = len(np.intersect1d(true_pion_test, pred_other_test))"
   ]
  },
  {
   "cell_type": "code",
   "execution_count": 74,
   "metadata": {},
   "outputs": [],
   "source": [
    "protcalledprot = len(np.intersect1d(true_proton_test, pred_proton_test))\n",
    "protcalledmu = len(np.intersect1d(true_proton_test, pred_muon_test))\n",
    "protcalledpi = len(np.intersect1d(true_proton_test, pred_pion_test))\n",
    "protcalledother = len(np.intersect1d(true_proton_test, pred_other_test))"
   ]
  },
  {
   "cell_type": "code",
   "execution_count": 75,
   "metadata": {},
   "outputs": [
    {
     "data": {
      "text/plain": [
       "0.38953295793309045"
      ]
     },
     "execution_count": 75,
     "metadata": {},
     "output_type": "execute_result"
    }
   ],
   "source": [
    "pimu_test"
   ]
  },
  {
   "cell_type": "code",
   "execution_count": 76,
   "metadata": {},
   "outputs": [
    {
     "data": {
      "text/plain": [
       "0.3181517058628685"
      ]
     },
     "execution_count": 76,
     "metadata": {},
     "output_type": "execute_result"
    }
   ],
   "source": [
    "piprot_test"
   ]
  },
  {
   "cell_type": "code",
   "execution_count": 77,
   "metadata": {},
   "outputs": [
    {
     "data": {
      "text/plain": [
       "0.03792646571712487"
      ]
     },
     "execution_count": 77,
     "metadata": {},
     "output_type": "execute_result"
    }
   ],
   "source": [
    "piother_test"
   ]
  },
  {
   "cell_type": "code",
   "execution_count": 78,
   "metadata": {},
   "outputs": [],
   "source": [
    "othermu_test = len(np.intersect1d(true_other_test, pred_muon_test))/len(true_other_test) \n",
    "otherprot_test = len(np.intersect1d(true_other_test, pred_proton_test))/len(true_other_test)\n",
    "otherpi_test = len(np.intersect1d(true_other_test, pred_pion_test))/len(true_other_test)"
   ]
  },
  {
   "cell_type": "code",
   "execution_count": 79,
   "metadata": {},
   "outputs": [
    {
     "data": {
      "text/plain": [
       "0.2493379507027908"
      ]
     },
     "execution_count": 79,
     "metadata": {},
     "output_type": "execute_result"
    }
   ],
   "source": [
    "othermu_test"
   ]
  },
  {
   "cell_type": "code",
   "execution_count": 80,
   "metadata": {},
   "outputs": [
    {
     "data": {
      "text/plain": [
       "0.33224689346099"
      ]
     },
     "execution_count": 80,
     "metadata": {},
     "output_type": "execute_result"
    }
   ],
   "source": [
    "otherprot_test"
   ]
  },
  {
   "cell_type": "code",
   "execution_count": 81,
   "metadata": {
    "scrolled": true
   },
   "outputs": [
    {
     "data": {
      "text/plain": [
       "0.022407822367080873"
      ]
     },
     "execution_count": 81,
     "metadata": {},
     "output_type": "execute_result"
    }
   ],
   "source": [
    "otherpi_test"
   ]
  },
  {
   "cell_type": "code",
   "execution_count": 82,
   "metadata": {},
   "outputs": [],
   "source": [
    "#pipi = pion identified as a pion\n",
    "piasmu = np.intersect1d(true_pion_test, pred_muon_test)\n",
    "piasprot = np.intersect1d(true_pion_test, pred_proton_test)\n",
    "piaspi = np.intersect1d(true_pion_test, pred_pion_test)"
   ]
  },
  {
   "cell_type": "code",
   "execution_count": 83,
   "metadata": {},
   "outputs": [],
   "source": [
    "muasmu = np.intersect1d(true_muon_test, pred_muon_test)\n",
    "protasprot = np.intersect1d(true_proton_test, pred_proton_test)"
   ]
  },
  {
   "cell_type": "code",
   "execution_count": 84,
   "metadata": {},
   "outputs": [],
   "source": [
    "np.save('piaspi.npy', piaspi)\n",
    "np.save('piasmu.npy', piasmu)\n",
    "np.save('piasprot.npy', piasprot)\n",
    "np.save('muasmu.npy', muasmu)\n",
    "np.save('protasprot.npy', protasprot)"
   ]
  },
  {
   "cell_type": "code",
   "execution_count": 85,
   "metadata": {
    "scrolled": false
   },
   "outputs": [],
   "source": [
    "wirePos_test = np.load('test_wirePos.npy')\n",
    "driftPos_test = np.load('test_driftPos.npy')"
   ]
  },
  {
   "cell_type": "code",
   "execution_count": 86,
   "metadata": {},
   "outputs": [],
   "source": [
    "wirePos_tracks = wirePos_test[tracks_test]\n",
    "driftPos_tracks = driftPos_test[tracks_test]"
   ]
  },
  {
   "cell_type": "markdown",
   "metadata": {},
   "source": [
    "# Pions identified as pions"
   ]
  },
  {
   "cell_type": "code",
   "execution_count": 87,
   "metadata": {},
   "outputs": [
    {
     "data": {
      "image/png": "[encoded data removed]",
      "text/plain": [
       "<Figure size 360x720 with 1 Axes>"
      ]
     },
     "metadata": {
      "needs_background": "light"
     },
     "output_type": "display_data"
    }
   ],
   "source": [
    "plt.figure(figsize=(5,10))\n",
    "plt.scatter(np.concatenate(driftPos_test[piaspi[:10]]), np.concatenate(wirePos_test[piaspi[:10]]), color = 'orange', s = 10)\n",
    "plt.xlabel('Drift position (cm)')\n",
    "plt.ylabel('Wire position (cm)')\n",
    "plt.title('Pions identified as pions', fontsize = 20)\n",
    "plt.savefig('pionsaspionsfourcat.png')"
   ]
  },
  {
   "cell_type": "markdown",
   "metadata": {},
   "source": [
    "# Pions identified as muons"
   ]
  },
  {
   "cell_type": "code",
   "execution_count": 88,
   "metadata": {
    "scrolled": false
   },
   "outputs": [
    {
     "data": {
      "image/png": "[encoded data removed]",
      "text/plain": [
       "<Figure size 360x720 with 1 Axes>"
      ]
     },
     "metadata": {
      "needs_background": "light"
     },
     "output_type": "display_data"
    }
   ],
   "source": [
    "plt.figure(figsize=(5,10))\n",
    "plt.scatter(np.concatenate(driftPos_test[piasmu[:10]]), np.concatenate(wirePos_test[piasmu[:10]]), color = 'orange', s = 10)\n",
    "plt.xlabel('Drift position (cm)')\n",
    "plt.ylabel('Wire position (cm)')\n",
    "plt.title('Pions identified as muons', fontsize = 20)\n",
    "plt.savefig('pionsasmuonsfourcat.png')"
   ]
  },
  {
   "cell_type": "markdown",
   "metadata": {},
   "source": [
    "# Pions identified as protons"
   ]
  },
  {
   "cell_type": "code",
   "execution_count": 89,
   "metadata": {},
   "outputs": [
    {
     "data": {
      "image/png": "[encoded data removed]",
      "text/plain": [
       "<Figure size 360x720 with 1 Axes>"
      ]
     },
     "metadata": {
      "needs_background": "light"
     },
     "output_type": "display_data"
    }
   ],
   "source": [
    "plt.figure(figsize=(5,10))\n",
    "plt.scatter(np.concatenate(driftPos_test[piasprot[:10]]), np.concatenate(wirePos_test[piasprot[:10]]), color = 'orange', s = 10)\n",
    "plt.xlabel('Drift position (cm)')\n",
    "plt.ylabel('Wire position (cm)')\n",
    "plt.title('Pions identified as protons', fontsize = 20)\n",
    "plt.savefig('pionsasprotonsfourcat.png')\n",
    "plt.show()"
   ]
  },
  {
   "cell_type": "markdown",
   "metadata": {},
   "source": [
    "# BDT assessment"
   ]
  },
  {
   "cell_type": "code",
   "execution_count": 90,
   "metadata": {},
   "outputs": [
    {
     "data": {
      "text/plain": [
       "0.7138346727898967"
      ]
     },
     "execution_count": 90,
     "metadata": {},
     "output_type": "execute_result"
    }
   ],
   "source": [
    "mu_completeness = muonscalledmuons / ((muonscalledmuons) + (muonscalledprotons) + (muonscalledpions) + (muonscalledother))\n",
    "mu_completeness"
   ]
  },
  {
   "cell_type": "code",
   "execution_count": 93,
   "metadata": {},
   "outputs": [
    {
     "data": {
      "text/plain": [
       "6.514693606098923e-06"
      ]
     },
     "execution_count": 93,
     "metadata": {},
     "output_type": "execute_result"
    }
   ],
   "source": [
    "mu_uncertainty = (mu_completeness * (1 - mu_completeness)) / ((muonscalledmuons) + (muonscalledprotons) + (muonscalledpions) + (muonscalledother))\n",
    "mu_uncertainty"
   ]
  },
  {
   "cell_type": "code",
   "execution_count": 91,
   "metadata": {},
   "outputs": [
    {
     "data": {
      "text/plain": [
       "0.2543888704869162"
      ]
     },
     "execution_count": 91,
     "metadata": {},
     "output_type": "execute_result"
    }
   ],
   "source": [
    "pi_completeness = pionscalledpions / ((pionscalledpions) + (pionscalledmuons) + (pionscalledprotons) + (pionscalledother))\n",
    "pi_completeness"
   ]
  },
  {
   "cell_type": "code",
   "execution_count": 94,
   "metadata": {},
   "outputs": [
    {
     "data": {
      "text/plain": [
       "3.632232345065247e-05"
      ]
     },
     "execution_count": 94,
     "metadata": {},
     "output_type": "execute_result"
    }
   ],
   "source": [
    "pi_uncertainty = (pi_completeness * (1 - pi_completeness)) / ((pionscalledpions) + (pionscalledprotons) + (pionscalledpions) + (pionscalledother))\n",
    "pi_uncertainty"
   ]
  },
  {
   "cell_type": "code",
   "execution_count": 92,
   "metadata": {},
   "outputs": [
    {
     "data": {
      "text/plain": [
       "0.8042596897129575"
      ]
     },
     "execution_count": 92,
     "metadata": {},
     "output_type": "execute_result"
    }
   ],
   "source": [
    "proton_completeness = protcalledprot / ((protcalledprot) + (protcalledpi) + (protcalledmu) + (protcalledother))\n",
    "proton_completeness "
   ]
  },
  {
   "cell_type": "code",
   "execution_count": 102,
   "metadata": {
    "scrolled": true
   },
   "outputs": [
    {
     "data": {
      "text/plain": [
       "1.7473338278014854e-06"
      ]
     },
     "execution_count": 102,
     "metadata": {},
     "output_type": "execute_result"
    }
   ],
   "source": [
    "prot_uncertainty = (proton_completeness * (1 - proton_completeness)) / ((protcalledprot) + (protcalledprot) + (protcalledprot) + (protcalledother))\n",
    "prot_uncertainty"
   ]
  },
  {
   "cell_type": "code",
   "execution_count": null,
   "metadata": {},
   "outputs": [],
   "source": []
  }
 ],
 "metadata": {
  "kernelspec": {
   "display_name": "Python 3",
   "language": "python",
   "name": "python3"
  },
  "language_info": {
   "codemirror_mode": {
    "name": "ipython",
    "version": 3
   },
   "file_extension": ".py",
   "mimetype": "text/x-python",
   "name": "python",
   "nbconvert_exporter": "python",
   "pygments_lexer": "ipython3",
   "version": "3.7.3"
  }
 },
 "nbformat": 4,
 "nbformat_minor": 2
}
