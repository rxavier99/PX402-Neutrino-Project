{
 "cells": [
  {
   "cell_type": "code",
   "execution_count": 1,
   "metadata": {},
   "outputs": [],
   "source": [
    "import numpy as np\n",
    "import matplotlib.pyplot as plt\n",
    "import sys\n",
    "TNR = {'fontname':'Times New Roman'}"
   ]
  },
  {
   "cell_type": "code",
   "execution_count": 2,
   "metadata": {},
   "outputs": [],
   "source": [
    "energies = np.load(\"trainenergies.npy\",allow_pickle = True)\n",
    "binfrac = np.load(\"trainbinfrac.npy\",allow_pickle = True)\n",
    "angles = np.load(\"trainangles.npy\",allow_pickle = True)\n",
    "rsquare = np.load(\"trainrsquare.npy\",allow_pickle = True)\n",
    "isTrack = np.load(\"trainisTrack.npy\",allow_pickle = True)\n",
    "pdg = np.load(\"trainpdg.npy\",allow_pickle = True)"
   ]
  },
  {
   "cell_type": "code",
   "execution_count": 3,
   "metadata": {},
   "outputs": [
    {
     "data": {
      "text/plain": [
       "{-321, -211, -13, -11, 11, 13, 22, 211, 321, 2112, 2212, 3222}"
      ]
     },
     "execution_count": 3,
     "metadata": {},
     "output_type": "execute_result"
    }
   ],
   "source": [
    "set(pdg)"
   ]
  },
  {
   "cell_type": "code",
   "execution_count": 4,
   "metadata": {},
   "outputs": [],
   "source": [
    "trackid = np.where(isTrack==1)\n",
    "showerid = np.where(isTrack==0)"
   ]
  },
  {
   "cell_type": "code",
   "execution_count": 5,
   "metadata": {},
   "outputs": [],
   "source": [
    "trackenergy = energies[trackid]\n",
    "showerenergy = energies[showerid]\n",
    "trackangle = angles[trackid]\n",
    "showerangle = angles[showerid]\n",
    "trackrsquare = rsquare[trackid]\n",
    "showerrsquare = rsquare[showerid]\n",
    "trackbinfrac = binfrac[trackid]\n",
    "showerbinfrac = binfrac[showerid]"
   ]
  },
  {
   "cell_type": "markdown",
   "metadata": {},
   "source": [
    "# Energies Histogram"
   ]
  },
  {
   "cell_type": "code",
   "execution_count": 6,
   "metadata": {},
   "outputs": [
    {
     "data": {
      "image/png": "[encoded data removed]",
      "text/plain": [
       "<Figure size 432x288 with 1 Axes>"
      ]
     },
     "metadata": {
      "needs_background": "light"
     },
     "output_type": "display_data"
    }
   ],
   "source": [
    "trackenergyweight = np.ones_like(trackenergy)/len(trackenergy)\n",
    "showerenergyweight = np.ones_like(showerenergy)/len(showerenergy)\n",
    "tracke, trackb, trackh = plt.hist(trackenergy,bins=500,range=[0,1],weights=trackenergyweight,color='g',histtype=u'step')\n",
    "showere, showerb, showerh = plt.hist(showerenergy,bins=500,range=[0,1],weights=showerenergyweight,color='b',histtype=u'step')"
   ]
  },
  {
   "cell_type": "markdown",
   "metadata": {},
   "source": [
    "# Angles Histogram"
   ]
  },
  {
   "cell_type": "code",
   "execution_count": 7,
   "metadata": {},
   "outputs": [
    {
     "data": {
      "image/png": "[encoded data removed]",
      "text/plain": [
       "<Figure size 432x288 with 1 Axes>"
      ]
     },
     "metadata": {
      "needs_background": "light"
     },
     "output_type": "display_data"
    }
   ],
   "source": [
    "trackangleweight = np.ones_like(trackangle)/len(trackenergy)\n",
    "showerangleweight = np.ones_like(showerangle)/len(showerenergy)\n",
    "trackae, trackab, trackah = plt.hist(trackangle,bins=500,range=[0,180],weights=trackangleweight,color='g',histtype=u'step')\n",
    "showerae, showerab, showerah = plt.hist(showerangle,bins=500,range=[0,180],weights=showerangleweight,color='b',histtype=u'step')"
   ]
  },
  {
   "cell_type": "markdown",
   "metadata": {},
   "source": [
    "# RSquare Histogram"
   ]
  },
  {
   "cell_type": "code",
   "execution_count": 8,
   "metadata": {},
   "outputs": [
    {
     "data": {
      "image/png": "[encoded data removed]",
      "text/plain": [
       "<Figure size 432x288 with 1 Axes>"
      ]
     },
     "metadata": {
      "needs_background": "light"
     },
     "output_type": "display_data"
    }
   ],
   "source": [
    "trackrsquareweight = np.ones_like(trackrsquare)/len(trackenergy)\n",
    "showerrsquareweight = np.ones_like(showerrsquare)/len(showerenergy)\n",
    "trackre, trackrb, trackrh = plt.hist(trackrsquare,bins=500,range=[0,1],weights=trackrsquareweight,color='g',histtype=u'step')\n",
    "showerre, showerrb, showerrh = plt.hist(showerrsquare,bins=500,range=[0,1],weights=showerrsquareweight,color='b',histtype=u'step')"
   ]
  },
  {
   "cell_type": "markdown",
   "metadata": {},
   "source": [
    "# Bin Frac Histogram"
   ]
  },
  {
   "cell_type": "code",
   "execution_count": 9,
   "metadata": {},
   "outputs": [
    {
     "data": {
      "image/png": "[encoded data removed]",
      "text/plain": [
       "<Figure size 432x288 with 1 Axes>"
      ]
     },
     "metadata": {
      "needs_background": "light"
     },
     "output_type": "display_data"
    }
   ],
   "source": [
    "trackbinfracweight = np.ones_like(trackbinfrac)/len(trackenergy)\n",
    "showerbinfracweight = np.ones_like(showerbinfrac)/len(showerenergy)\n",
    "trackbe, trackbb, trackbh = plt.hist(trackbinfrac,bins=500,range=[0,1],weights=trackbinfracweight,color='g',histtype=u'step')\n",
    "showerbe, showerbb, showerbh = plt.hist(showerbinfrac,bins=500,range=[0,1],weights=showerbinfracweight,color='b',histtype=u'step')"
   ]
  },
  {
   "cell_type": "markdown",
   "metadata": {},
   "source": [
    "# Histogram Bin for Each Variable"
   ]
  },
  {
   "cell_type": "code",
   "execution_count": 10,
   "metadata": {},
   "outputs": [
    {
     "name": "stderr",
     "output_type": "stream",
     "text": [
      "C:\\Users\\r.xavier\\Anaconda3\\lib\\site-packages\\ipykernel_launcher.py:3: RuntimeWarning: invalid value encountered in true_divide\n",
      "  This is separate from the ipykernel package so we can avoid doing imports until\n",
      "C:\\Users\\r.xavier\\Anaconda3\\lib\\site-packages\\ipykernel_launcher.py:4: RuntimeWarning: invalid value encountered in true_divide\n",
      "  after removing the cwd from sys.path.\n",
      "C:\\Users\\r.xavier\\Anaconda3\\lib\\site-packages\\ipykernel_launcher.py:7: RuntimeWarning: invalid value encountered in true_divide\n",
      "  import sys\n",
      "C:\\Users\\r.xavier\\Anaconda3\\lib\\site-packages\\ipykernel_launcher.py:8: RuntimeWarning: invalid value encountered in true_divide\n",
      "  \n"
     ]
    }
   ],
   "source": [
    "trackenergyprobs = tracke/(tracke+showere)\n",
    "showerenergyprobs = showere/(showere+tracke)\n",
    "trackangleprobs = trackae/(trackae+showerae)\n",
    "showerangleprobs = showerae/(showerae+trackae)\n",
    "trackrsquareprobs = trackre/(trackre+showerre)\n",
    "showerrsquareprobs = showerre/(trackre+showerre)\n",
    "trackbinfracprobs = trackbe/(trackbe+showerbe)\n",
    "showerbinfracprobs = showerbe/(showerbe+trackbe)\n",
    "np.save(\"trackenergyprobs.npy\",trackenergyprobs)\n",
    "np.save(\"showerenergyprobs.npy\",showerenergyprobs)\n",
    "np.save(\"trackangleprobs.npy\",trackangleprobs)\n",
    "np.save(\"showerangleprobs.npy\",showerangleprobs)\n",
    "np.save(\"trackrsquareprobs.npy\",trackrsquareprobs)\n",
    "np.save(\"showerrsquareprobs.npy\",showerrsquareprobs)\n",
    "np.save(\"trackbinfracprobs.npy\",trackbinfracprobs)\n",
    "np.save(\"showerbinfracprobs.npy\",showerbinfracprobs)"
   ]
  },
  {
   "cell_type": "code",
   "execution_count": 11,
   "metadata": {},
   "outputs": [],
   "source": [
    "trackenergybin = np.floor(trackenergy*500)\n",
    "trackenergybin = trackenergybin.astype(int)\n",
    "showerenergybin = np.floor(showerenergy*500)\n",
    "showerenergybin = showerenergybin.astype(int)\n",
    "trackanglebin = np.floor(trackangle*500/180)\n",
    "trackanglebin = trackanglebin.astype(int)\n",
    "showeranglebin = np.floor(showerangle*500/180)\n",
    "showeranglebin = showeranglebin.astype(int)\n",
    "trackrsquarebin = np.floor(trackrsquare*500)\n",
    "trackrsquarebin = trackrsquarebin.astype(int)\n",
    "showerrsquarebin = np.floor(showerrsquare*500)\n",
    "showerrsquarebin = showerrsquarebin.astype(int)\n",
    "trackbinfracbin = np.floor(trackbinfrac*500)\n",
    "trackbinfracbin = trackbinfracbin.astype(int)\n",
    "showerbinfracbin = np.floor(showerbinfrac*500)\n",
    "showerbinfracbin = showerbinfracbin.astype(int)"
   ]
  },
  {
   "cell_type": "code",
   "execution_count": 12,
   "metadata": {},
   "outputs": [],
   "source": [
    "maxrsquaretrack = np.where(trackrsquarebin == 500)\n",
    "maxrsquareshower = np.where(showerrsquarebin == 500)\n",
    "trackrsquarebin[maxrsquaretrack] = 499\n",
    "showerrsquarebin[maxrsquareshower] = 499"
   ]
  },
  {
   "cell_type": "markdown",
   "metadata": {},
   "source": [
    "# Likelihood of Being a Track or Shower or Each Variable"
   ]
  },
  {
   "cell_type": "code",
   "execution_count": 13,
   "metadata": {},
   "outputs": [],
   "source": [
    "trackenergypfoprobs_t = trackenergyprobs[trackenergybin]\n",
    "showerenergypfoprobs_t = trackenergyprobs[showerenergybin]\n",
    "trackanglepfoprobs_t = trackangleprobs[trackanglebin]\n",
    "showeranglepfoprobs_t = trackangleprobs[showeranglebin]\n",
    "trackrsquarepfoprobs_t = trackrsquareprobs[trackrsquarebin]\n",
    "showerrsquarepfoprobs_t = trackrsquareprobs[showerrsquarebin]\n",
    "trackbinfracpfoprobs_t = trackbinfracprobs[trackbinfracbin]\n",
    "showerbinfracpfoprobs_t = trackbinfracprobs[showerbinfracbin]"
   ]
  },
  {
   "cell_type": "code",
   "execution_count": 14,
   "metadata": {},
   "outputs": [],
   "source": [
    "trackenergypfoprobs_s = showerenergyprobs[trackenergybin]\n",
    "showerenergypfoprobs_s = showerenergyprobs[showerenergybin]\n",
    "trackanglepfoprobs_s = showerangleprobs[trackanglebin]\n",
    "showeranglepfoprobs_s = showerangleprobs[showeranglebin]\n",
    "trackrsquarepfoprobs_s = showerrsquareprobs[trackrsquarebin]\n",
    "showerrsquarepfoprobs_s = showerrsquareprobs[showerrsquarebin]\n",
    "trackbinfracpfoprobs_s = showerbinfracprobs[trackbinfracbin]\n",
    "showerbinfracpfoprobs_s = showerbinfracprobs[showerbinfracbin]"
   ]
  },
  {
   "cell_type": "code",
   "execution_count": 15,
   "metadata": {},
   "outputs": [],
   "source": [
    "priortrackprob = len(trackid[0])/(len(trackid[0]) + len(showerid[0]))\n",
    "priorshowerprob = len(showerid[0])/(len(trackid[0]) + len(showerid[0]))\n",
    "np.save(\"priortrackprob.npy\",priortrackprob)\n",
    "np.save(\"priorshowerprob.npy\",priorshowerprob)"
   ]
  },
  {
   "cell_type": "code",
   "execution_count": 16,
   "metadata": {},
   "outputs": [],
   "source": [
    "trackprobs_t = trackenergypfoprobs_t*trackanglepfoprobs_t*trackrsquarepfoprobs_t*trackbinfracpfoprobs_t*priortrackprob\n",
    "showerprobs_t = showerenergypfoprobs_t*showeranglepfoprobs_t*showerrsquarepfoprobs_t*showerbinfracpfoprobs_t*priortrackprob\n",
    "trackprobs_s = trackenergypfoprobs_s*trackanglepfoprobs_s*trackrsquarepfoprobs_s*trackbinfracpfoprobs_s*priorshowerprob\n",
    "showerprobs_s = showerenergypfoprobs_s*showeranglepfoprobs_s*showerrsquarepfoprobs_s*showerbinfracpfoprobs_s*priorshowerprob"
   ]
  },
  {
   "cell_type": "code",
   "execution_count": 17,
   "metadata": {},
   "outputs": [],
   "source": [
    "normtrackprobs_t = trackprobs_t/(trackprobs_t + trackprobs_s)\n",
    "normshowerprobs_t = showerprobs_t/(showerprobs_t + showerprobs_s)\n",
    "normtrackprobs_s = trackprobs_s/(trackprobs_t + trackprobs_s)\n",
    "normshowerprobs_s = showerprobs_s/(showerprobs_t + showerprobs_s)"
   ]
  },
  {
   "cell_type": "code",
   "execution_count": 18,
   "metadata": {
    "scrolled": true
   },
   "outputs": [
    {
     "name": "stderr",
     "output_type": "stream",
     "text": [
      "C:\\Users\\r.xavier\\Anaconda3\\lib\\site-packages\\numpy\\lib\\histograms.py:824: RuntimeWarning: invalid value encountered in greater_equal\n",
      "  keep = (tmp_a >= first_edge)\n",
      "C:\\Users\\r.xavier\\Anaconda3\\lib\\site-packages\\numpy\\lib\\histograms.py:825: RuntimeWarning: invalid value encountered in less_equal\n",
      "  keep &= (tmp_a <= last_edge)\n"
     ]
    },
    {
     "data": {
      "image/png": "[encoded data removed]",
      "text/plain": [
       "<Figure size 720x720 with 1 Axes>"
      ]
     },
     "metadata": {
      "needs_background": "light"
     },
     "output_type": "display_data"
    }
   ],
   "source": [
    "likelihoodfig = plt.figure(1,figsize=(10,10),frameon=True)\n",
    "plt.hist(normtrackprobs_t,bins=100,range=[0,1],color='g',histtype=u'step')\n",
    "plt.hist(normshowerprobs_t,bins=100,range=[0,1],color='b',histtype=u'step')\n",
    "plt.xlabel('Track Likelihood',fontsize=20,**TNR)\n",
    "plt.xticks(fontsize=20,**TNR)\n",
    "plt.yticks(fontsize=20,**TNR)\n",
    "plt.xlimit = (0.0,1.0)\n",
    "plt.ylimit = (0.0,60000.0)\n",
    "plt.savefig(\"likelihoodtrackshowerdist.png\")\n",
    "plt.show()\n",
    "plt.show()"
   ]
  },
  {
   "cell_type": "code",
   "execution_count": 90,
   "metadata": {},
   "outputs": [],
   "source": [
    "cutpositions = np.linspace(0.0,1.0,35000)\n",
    "truepositive = []\n",
    "for i in range(len(cutpositions)):\n",
    "    pos = cutpositions[i]\n",
    "    numtruepositives = len(np.where(normtrackprobs_t > pos)[0])\n",
    "    truepositive.append(numtruepositives)\n",
    "truepositive = np.array(truepositive)\n",
    "truepositive = truepositive/len(trackid[0])"
   ]
  },
  {
   "cell_type": "code",
   "execution_count": 91,
   "metadata": {},
   "outputs": [
    {
     "name": "stderr",
     "output_type": "stream",
     "text": [
      "C:\\Users\\r.xavier\\Anaconda3\\lib\\site-packages\\ipykernel_launcher.py:4: RuntimeWarning: invalid value encountered in greater\n",
      "  after removing the cwd from sys.path.\n"
     ]
    }
   ],
   "source": [
    "falsepositive = []\n",
    "for i in range(len(cutpositions)):\n",
    "    pos = cutpositions[i]\n",
    "    numfalsepositives = len(np.where(normshowerprobs_t > pos)[0])\n",
    "    falsepositive.append(numfalsepositives)\n",
    "falsepositive = np.array(falsepositive)\n",
    "falsepositive = falsepositive/len(trackid[0])"
   ]
  },
  {
   "cell_type": "code",
   "execution_count": 92,
   "metadata": {},
   "outputs": [
    {
     "data": {
      "image/png": "[encoded data removed]",
      "text/plain": [
       "<Figure size 720x720 with 1 Axes>"
      ]
     },
     "metadata": {
      "needs_background": "light"
     },
     "output_type": "display_data"
    }
   ],
   "source": [
    "rocfig = plt.figure(1,figsize=(10,10),frameon=True)\n",
    "plt.scatter(falsepositive,truepositive,c='black')\n",
    "plt.xlabel('False Positive Rate',fontsize=20,**TNR)\n",
    "plt.ylabel('True Positive Rate',fontsize=20,**TNR)\n",
    "plt.xticks(fontsize=20,**TNR)\n",
    "plt.yticks(fontsize=20,**TNR)\n",
    "plt.xlimit = (0.06,0.115)\n",
    "plt.ylimit = (0.885,0.95)\n",
    "plt.savefig(\"likelihoodroccurve.png\")\n",
    "plt.show()"
   ]
  },
  {
   "cell_type": "code",
   "execution_count": 93,
   "metadata": {},
   "outputs": [
    {
     "data": {
      "text/plain": [
       "array([0.51970056])"
      ]
     },
     "execution_count": 93,
     "metadata": {},
     "output_type": "execute_result"
    }
   ],
   "source": [
    "distfromtopleft = (1.0 - truepositive)**2 + falsepositive**2\n",
    "optimalcutposindex = np.where(distfromtopleft==distfromtopleft.min())\n",
    "optimalcutpos = cutpositions[optimalcutposindex]\n",
    "optimalcutpos"
   ]
  },
  {
   "cell_type": "code",
   "execution_count": 94,
   "metadata": {},
   "outputs": [
    {
     "data": {
      "text/plain": [
       "0.011968970519805527"
      ]
     },
     "execution_count": 94,
     "metadata": {},
     "output_type": "execute_result"
    }
   ],
   "source": [
    "distfromtopleft.min()"
   ]
  },
  {
   "cell_type": "code",
   "execution_count": 95,
   "metadata": {
    "scrolled": true
   },
   "outputs": [
    {
     "name": "stderr",
     "output_type": "stream",
     "text": [
      "C:\\Users\\r.xavier\\Anaconda3\\lib\\site-packages\\ipykernel_launcher.py:3: RuntimeWarning: invalid value encountered in greater\n",
      "  This is separate from the ipykernel package so we can avoid doing imports until\n",
      "C:\\Users\\r.xavier\\Anaconda3\\lib\\site-packages\\ipykernel_launcher.py:4: RuntimeWarning: invalid value encountered in less\n",
      "  after removing the cwd from sys.path.\n"
     ]
    }
   ],
   "source": [
    "trackscalledtracks = len(np.where(normtrackprobs_t > optimalcutpos)[0])\n",
    "trackscalledshowers = len(np.where(normtrackprobs_t < optimalcutpos)[0])\n",
    "showerscalledtracks = len(np.where(normshowerprobs_t > optimalcutpos)[0])\n",
    "showerscalledshowers = len(np.where(normshowerprobs_t < optimalcutpos)[0])"
   ]
  },
  {
   "cell_type": "code",
   "execution_count": 96,
   "metadata": {
    "scrolled": false
   },
   "outputs": [
    {
     "data": {
      "text/plain": [
       "0.9263685825533122"
      ]
     },
     "execution_count": 96,
     "metadata": {},
     "output_type": "execute_result"
    }
   ],
   "source": [
    "completeness = (trackscalledtracks)/((trackscalledtracks) + (trackscalledshowers))\n",
    "completeness"
   ]
  },
  {
   "cell_type": "code",
   "execution_count": 103,
   "metadata": {},
   "outputs": [
    {
     "data": {
      "text/plain": [
       "8.794233234248651e-07"
      ]
     },
     "execution_count": 103,
     "metadata": {},
     "output_type": "execute_result"
    }
   ],
   "source": [
    "uncertainty = (completeness * (1 - completeness)) / ((trackscalledtracks) + (trackscalledshowers))\n",
    "uncertainty"
   ]
  },
  {
   "cell_type": "code",
   "execution_count": 104,
   "metadata": {},
   "outputs": [
    {
     "data": {
      "text/plain": [
       "0.9196692564670345"
      ]
     },
     "execution_count": 104,
     "metadata": {},
     "output_type": "execute_result"
    }
   ],
   "source": [
    "purity = trackscalledtracks / ((trackscalledtracks) + (showerscalledtracks))\n",
    "purity"
   ]
  },
  {
   "cell_type": "code",
   "execution_count": null,
   "metadata": {},
   "outputs": [],
   "source": [
    "np.save(\"likelihoodcutpos.npy\",optimalcutpos)"
   ]
  },
  {
   "cell_type": "code",
   "execution_count": null,
   "metadata": {},
   "outputs": [],
   "source": [
    "completeness_shower = (showerscalledshowers)/((showerscalledshowers) + (showerscalledtracks))\n",
    "completeness_shower"
   ]
  },
  {
   "cell_type": "code",
   "execution_count": null,
   "metadata": {},
   "outputs": [],
   "source": [
    "purity_shower = showerscalledshowers / ((showerscalledshowers) + (trackscalledshowers))\n",
    "purity_shower"
   ]
  },
  {
   "cell_type": "code",
   "execution_count": null,
   "metadata": {},
   "outputs": [],
   "source": []
  },
  {
   "cell_type": "markdown",
   "metadata": {},
   "source": [
    "# Spereation by PFO Type"
   ]
  },
  {
   "cell_type": "code",
   "execution_count": null,
   "metadata": {},
   "outputs": [],
   "source": [
    "trackpdg = pdg[trackid]\n",
    "showerpdg = pdg[showerid]"
   ]
  },
  {
   "cell_type": "code",
   "execution_count": null,
   "metadata": {},
   "outputs": [],
   "source": [
    "set(showerpdg)"
   ]
  },
  {
   "cell_type": "code",
   "execution_count": null,
   "metadata": {},
   "outputs": [],
   "source": [
    "#trackpdg = abs(trackpdg)\n",
    "muonid = np.where(trackpdg==13)\n",
    "protonid = np.where(trackpdg==2212)\n",
    "piplusid = np.where(trackpdg==211)\n",
    "piminusid = np.where(trackpdg==-211) "
   ]
  },
  {
   "cell_type": "code",
   "execution_count": null,
   "metadata": {},
   "outputs": [],
   "source": [
    "len(piplusid[0])"
   ]
  },
  {
   "cell_type": "code",
   "execution_count": null,
   "metadata": {},
   "outputs": [],
   "source": [
    "electronid = np.where(showerpdg==11)\n",
    "photonid = np.where(showerpdg==22)"
   ]
  },
  {
   "cell_type": "code",
   "execution_count": null,
   "metadata": {},
   "outputs": [],
   "source": [
    "muonprobs_t = normtrackprobs_t[muonid]\n",
    "protonprobs_t = normtrackprobs_t[protonid]\n",
    "piplusprobs_t = normtrackprobs_t[piplusid]\n",
    "piminusprobs_t = normtrackprobs_t[piminusid]"
   ]
  },
  {
   "cell_type": "code",
   "execution_count": null,
   "metadata": {},
   "outputs": [],
   "source": [
    "photonid[0]"
   ]
  },
  {
   "cell_type": "code",
   "execution_count": null,
   "metadata": {},
   "outputs": [],
   "source": [
    "electronprobs_t = normshowerprobs_t[electronid]\n",
    "photonprobs_t = normshowerprobs_t[photonid]"
   ]
  },
  {
   "cell_type": "code",
   "execution_count": null,
   "metadata": {
    "scrolled": false
   },
   "outputs": [],
   "source": [
    "pdglabels = [\"Muons\",\"Protons\",\"pi+\",\"e-\",\"gamma\"]\n",
    "plt.figure(1,figsize=(10,10),frameon=True)\n",
    "plt.hist([muonprobs_t,protonprobs_t,piplusprobs_t,electronprobs_t,photonprobs_t],bins=100,stacked=True)\n",
    "plt.legend(pdglabels,fontsize=15)\n",
    "plt.show()"
   ]
  },
  {
   "cell_type": "code",
   "execution_count": null,
   "metadata": {},
   "outputs": [],
   "source": [
    "pdglabels = [r'$\\mu^-$',r'$p$',r'$\\pi^+$',r'$\\pi^-$',r'$e^-$',r'$\\gamma$']\n",
    "plt.figure(1,figsize=(10,10),frameon=True)\n",
    "plt.hist([muonprobs_t,protonprobs_t,piplusprobs_t, piminusprobs_t, electronprobs_t,photonprobs_t],bins=50, stacked = True)\n",
    "plt.legend(pdglabels,fontsize=15, loc = 'upper left')\n",
    "plt.show()"
   ]
  },
  {
   "cell_type": "code",
   "execution_count": null,
   "metadata": {},
   "outputs": [],
   "source": [
    "pdglabels = [r'$\\mu^-$', r'$p$', r'$\\pi^+$',r'$\\pi^-$']\n",
    "plt.figure(1,figsize=(10,10))\n",
    "plt.hist([muonprobs_t, protonprobs_t, piplusprobs_t, piminusprobs_t],bins=50, histtype = u'step')\n",
    "plt.legend(pdglabels,fontsize=15, loc = 'upper left')\n",
    "plt.show()"
   ]
  },
  {
   "cell_type": "code",
   "execution_count": null,
   "metadata": {},
   "outputs": [],
   "source": [
    "len(piminusid[0])"
   ]
  },
  {
   "cell_type": "code",
   "execution_count": null,
   "metadata": {},
   "outputs": [],
   "source": [
    "plt.figure(1,figsize=(10,10))\n",
    "plt.subplot(2, 2, 1) \n",
    "pdglabels_1 = [r'$\\mu^-$']\n",
    "plt.hist(muonprobs_t, bins = 50, color = 'r')\n",
    "plt.legend(pdglabels_1,fontsize=15, loc = 'upper left')\n",
    "plt.subplot(2, 2, 2) \n",
    "pdglabels_2 = [r'$\\pi^+$',r'$\\pi^-$']\n",
    "plt.hist(piplusprobs_t, bins = 50, histtype = u'step', color = 'orange')\n",
    "plt.hist(piminusprobs_t, bins = 50, histtype = u'step', color = 'g')\n",
    "plt.legend(pdglabels_2,fontsize=15, loc = 'upper left')\n",
    "plt.subplot(2, 2, 3) \n",
    "pdglabels_3 = [r'$p$']\n",
    "plt.hist(protonprobs_t, bins = 50, color = 'b')\n",
    "plt.legend(pdglabels_3,fontsize=15, loc = 'upper left')\n",
    "plt.subplot(2, 2, 4) \n",
    "pdglabels_4 = [r'$\\mu^-$', r'$p$', r'$\\pi^+$',r'$\\pi^-$']\n",
    "plt.figure(1,figsize=(10,10))\n",
    "plt.hist(muonprobs_t, bins = 50, color = 'r', histtype = u'step')\n",
    "plt.hist(protonprobs_t, bins = 50, color = 'b', histtype = u'step')\n",
    "plt.hist(piplusprobs_t, bins = 50, histtype = u'step', color = 'orange')\n",
    "plt.hist(piminusprobs_t, bins = 50, histtype = u'step', color = 'g')\n",
    "plt.legend(pdglabels_4,fontsize=15, loc = 'upper left')\n",
    "\n",
    "plt.savefig('tracklikelihoods.png')\n",
    "plt.show()"
   ]
  },
  {
   "cell_type": "code",
   "execution_count": null,
   "metadata": {},
   "outputs": [],
   "source": [
    "plt.figure(1,figsize=(20,10))\n",
    "plt.subplot(1, 2, 1) \n",
    "pdglabels_1 = [r'$e^-$']\n",
    "plt.hist(electronprobs_t, bins = 50, color = 'y')\n",
    "plt.legend(pdglabels_1,fontsize=15, loc = 'upper right')\n",
    "plt.subplot(1, 2, 2) \n",
    "pdglabels_2 = [r'$\\gamma$']\n",
    "plt.hist(photonprobs_t, bins = 50, color = 'm')\n",
    "plt.legend(pdglabels_2,fontsize=15, loc = 'upper right')\n",
    "plt.savefig('showerlikelihood1.png')\n",
    "plt.show()"
   ]
  },
  {
   "cell_type": "code",
   "execution_count": null,
   "metadata": {
    "scrolled": false
   },
   "outputs": [],
   "source": [
    "pdglabels = [r'$e^-$',r'$\\gamma^-$']\n",
    "plt.figure(1,figsize=(10,10),frameon=True)\n",
    "plt.hist(electronprobs_t, bins = 50, color = 'y')\n",
    "plt.hist(photonprobs_t, bins = 50, color = 'm')\n",
    "plt.legend(pdglabels,fontsize=15, loc = 'upper right')\n",
    "plt.savefig('showerlikelihood2.png')\n",
    "plt.show()"
   ]
  },
  {
   "cell_type": "code",
   "execution_count": null,
   "metadata": {},
   "outputs": [],
   "source": [
    "photonid"
   ]
  }
 ],
 "metadata": {
  "kernelspec": {
   "display_name": "Python 3",
   "language": "python",
   "name": "python3"
  },
  "language_info": {
   "codemirror_mode": {
    "name": "ipython",
    "version": 3
   },
   "file_extension": ".py",
   "mimetype": "text/x-python",
   "name": "python",
   "nbconvert_exporter": "python",
   "pygments_lexer": "ipython3",
   "version": "3.7.3"
  }
 },
 "nbformat": 4,
 "nbformat_minor": 4
}
