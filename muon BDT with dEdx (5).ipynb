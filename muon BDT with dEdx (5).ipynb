{
 "cells": [
  {
   "cell_type": "code",
   "execution_count": 1,
   "metadata": {},
   "outputs": [],
   "source": [
    "import numpy as np\n",
    "import matplotlib.pyplot as plt\n",
    "from sklearn.tree import DecisionTreeClassifier\n",
    "from sklearn.ensemble import AdaBoostClassifier\n",
    "from sklearn.datasets import make_classification"
   ]
  },
  {
   "cell_type": "markdown",
   "metadata": {},
   "source": [
    "# Training data sets"
   ]
  },
  {
   "cell_type": "code",
   "execution_count": 2,
   "metadata": {},
   "outputs": [],
   "source": [
    "trainangles_pdg = np.load('trainangles_t.npy', allow_pickle = True)\n",
    "trainenergy_pdg = np.load('trainenergy_t.npy', allow_pickle = True)\n",
    "trainbinfrac_pdg = np.load('trainbinfrac_t.npy', allow_pickle = True)\n",
    "trainrsq_pdg = np.load('trainrsq_t.npy', allow_pickle = True)\n",
    "traindedx = np.load('traindedx_t.npy', allow_pickle = True)\n",
    "pdg_muon_train = np.load('pdg_muon_train.npy')"
   ]
  },
  {
   "cell_type": "code",
   "execution_count": 3,
   "metadata": {},
   "outputs": [],
   "source": [
    "x_train = np.array(list(zip(trainangles_pdg, trainbinfrac_pdg, trainenergy_pdg, trainrsq_pdg, traindedx)))"
   ]
  },
  {
   "cell_type": "code",
   "execution_count": 4,
   "metadata": {
    "scrolled": true
   },
   "outputs": [
    {
     "data": {
      "text/plain": [
       "78513"
      ]
     },
     "execution_count": 4,
     "metadata": {},
     "output_type": "execute_result"
    }
   ],
   "source": [
    "len(x_train)"
   ]
  },
  {
   "cell_type": "code",
   "execution_count": 5,
   "metadata": {},
   "outputs": [],
   "source": [
    "y_train = pdg_muon_train"
   ]
  },
  {
   "cell_type": "markdown",
   "metadata": {},
   "source": [
    "# Create and train BDT"
   ]
  },
  {
   "cell_type": "code",
   "execution_count": 6,
   "metadata": {},
   "outputs": [
    {
     "data": {
      "text/plain": [
       "AdaBoostClassifier(base_estimator=DecisionTreeClassifier(max_depth=5),\n",
       "                   n_estimators=100, random_state=0)"
      ]
     },
     "execution_count": 6,
     "metadata": {},
     "output_type": "execute_result"
    }
   ],
   "source": [
    "base = DecisionTreeClassifier(max_depth=5)\n",
    "bdt = AdaBoostClassifier(base_estimator=base, n_estimators=100, random_state=0)\n",
    "bdt.fit(x_train, y_train)"
   ]
  },
  {
   "cell_type": "code",
   "execution_count": 7,
   "metadata": {},
   "outputs": [
    {
     "data": {
      "text/plain": [
       "array([ 0, 13])"
      ]
     },
     "execution_count": 7,
     "metadata": {},
     "output_type": "execute_result"
    }
   ],
   "source": [
    "bdt.classes_"
   ]
  },
  {
   "cell_type": "code",
   "execution_count": 8,
   "metadata": {},
   "outputs": [
    {
     "data": {
      "text/plain": [
       "0.8541642785271228"
      ]
     },
     "execution_count": 8,
     "metadata": {},
     "output_type": "execute_result"
    }
   ],
   "source": [
    "bdt.score(x_train, y_train)"
   ]
  },
  {
   "cell_type": "code",
   "execution_count": 9,
   "metadata": {
    "scrolled": true
   },
   "outputs": [
    {
     "data": {
      "text/plain": [
       "<matplotlib.legend.Legend at 0x1af2cf53080>"
      ]
     },
     "execution_count": 9,
     "metadata": {},
     "output_type": "execute_result"
    },
    {
     "data": {
      "image/png": "[encoded data removed]",
      "text/plain": [
       "<Figure size 432x288 with 1 Axes>"
      ]
     },
     "metadata": {
      "needs_background": "light"
     },
     "output_type": "display_data"
    }
   ],
   "source": [
    "f_train = bdt.decision_function(x_train)\n",
    "min_f_train = np.round(np.min(f_train), 1)\n",
    "max_f_train = np.round(np.max(f_train), 1)\n",
    "bins_train = np.linspace(min_f_train, max_f_train, 100)\n",
    "cls_0_f_train = f_train[np.where(y_train == 0)]\n",
    "cls_1_f_train = f_train[np.where(y_train == 13)]\n",
    "weights_0 = np.ones_like(cls_0_f_train) / len(cls_0_f_train)\n",
    "weights_1 = np.ones_like(cls_1_f_train) / len(cls_1_f_train)\n",
    "plt.hist(cls_0_f_train, color='r', weights=weights_0, bins=bins_train, histtype='step', label='Others')\n",
    "plt.hist(cls_1_f_train, color='b', weights=weights_1, bins=bins_train, histtype='step', label='muons')\n",
    "plt.legend()"
   ]
  },
  {
   "cell_type": "markdown",
   "metadata": {},
   "source": [
    "# Testing data sets"
   ]
  },
  {
   "cell_type": "code",
   "execution_count": 10,
   "metadata": {},
   "outputs": [],
   "source": [
    "testangles = np.load('testangles_t.npy', allow_pickle = True)\n",
    "testenergy = np.load('testenergy_t.npy', allow_pickle = True)\n",
    "testbinfrac = np.load('testbinfrac_t.npy', allow_pickle = True)\n",
    "testrsq = np.load('testrsq_t.npy', allow_pickle = True)\n",
    "testdedx = np.load('testdedx_t.npy', allow_pickle = True)\n",
    "pdg_muon_test = np.load('pdg_muon_test.npy', allow_pickle = True)"
   ]
  },
  {
   "cell_type": "code",
   "execution_count": 11,
   "metadata": {},
   "outputs": [],
   "source": [
    "x_test = np.array(list(zip(testangles, testbinfrac, testenergy, testrsq, testdedx)))"
   ]
  },
  {
   "cell_type": "code",
   "execution_count": 12,
   "metadata": {},
   "outputs": [
    {
     "data": {
      "text/plain": [
       "79124"
      ]
     },
     "execution_count": 12,
     "metadata": {},
     "output_type": "execute_result"
    }
   ],
   "source": [
    "len(x_test)"
   ]
  },
  {
   "cell_type": "code",
   "execution_count": 13,
   "metadata": {},
   "outputs": [],
   "source": [
    "y_test = pdg_muon_test"
   ]
  },
  {
   "cell_type": "markdown",
   "metadata": {},
   "source": [
    "# Create and test BDT"
   ]
  },
  {
   "cell_type": "code",
   "execution_count": 14,
   "metadata": {},
   "outputs": [
    {
     "data": {
      "text/plain": [
       "AdaBoostClassifier(base_estimator=DecisionTreeClassifier(max_depth=5),\n",
       "                   n_estimators=100, random_state=0)"
      ]
     },
     "execution_count": 14,
     "metadata": {},
     "output_type": "execute_result"
    }
   ],
   "source": [
    "base = DecisionTreeClassifier(max_depth=5)\n",
    "bdt = AdaBoostClassifier(base_estimator=base, n_estimators=100, random_state=0)\n",
    "bdt.fit(x_test, y_test)"
   ]
  },
  {
   "cell_type": "code",
   "execution_count": 15,
   "metadata": {},
   "outputs": [
    {
     "data": {
      "text/plain": [
       "0.8507532480663262"
      ]
     },
     "execution_count": 15,
     "metadata": {},
     "output_type": "execute_result"
    }
   ],
   "source": [
    "bdt.score(x_test, y_test)"
   ]
  },
  {
   "cell_type": "code",
   "execution_count": 16,
   "metadata": {},
   "outputs": [],
   "source": [
    "muon_pred_train = bdt.predict(x_train)"
   ]
  },
  {
   "cell_type": "code",
   "execution_count": 17,
   "metadata": {},
   "outputs": [],
   "source": [
    "np.save('muon_pred_train.npy', muon_pred_train)"
   ]
  },
  {
   "cell_type": "markdown",
   "metadata": {},
   "source": [
    "# BDT testing score"
   ]
  },
  {
   "cell_type": "code",
   "execution_count": 18,
   "metadata": {
    "scrolled": true
   },
   "outputs": [
    {
     "data": {
      "text/plain": [
       "<matplotlib.legend.Legend at 0x1af2e56b5c0>"
      ]
     },
     "execution_count": 18,
     "metadata": {},
     "output_type": "execute_result"
    },
    {
     "data": {
      "image/png": "[encoded data removed]",
      "text/plain": [
       "<Figure size 432x288 with 1 Axes>"
      ]
     },
     "metadata": {
      "needs_background": "light"
     },
     "output_type": "display_data"
    }
   ],
   "source": [
    "f_test = bdt.decision_function(x_test)\n",
    "min_f_test = np.round(np.min(f_test), 1)\n",
    "max_f_test = np.round(np.max(f_test), 1)\n",
    "bins_test = np.linspace(min_f_test, max_f_test, 100)\n",
    "cls_0_f_test = f_test[np.where(y_test == 0)]\n",
    "cls_1_f_test = f_test[np.where(y_test == 13)]\n",
    "weights_0 = np.ones_like(cls_0_f_test) / len(cls_0_f_test)\n",
    "weights_1 = np.ones_like(cls_1_f_test) / len(cls_1_f_test)\n",
    "plt.hist(cls_0_f_test, color='r', weights=weights_0, bins=bins_test, histtype='step', label='Other')\n",
    "plt.hist(cls_1_f_test, color='b', weights=weights_1, bins=bins_test, histtype='step', label=r'$p$')\n",
    "plt.legend()"
   ]
  }
 ],
 "metadata": {
  "kernelspec": {
   "display_name": "Python 3",
   "language": "python",
   "name": "python3"
  },
  "language_info": {
   "codemirror_mode": {
    "name": "ipython",
    "version": 3
   },
   "file_extension": ".py",
   "mimetype": "text/x-python",
   "name": "python",
   "nbconvert_exporter": "python",
   "pygments_lexer": "ipython3",
   "version": "3.7.3"
  }
 },
 "nbformat": 4,
 "nbformat_minor": 2
}
