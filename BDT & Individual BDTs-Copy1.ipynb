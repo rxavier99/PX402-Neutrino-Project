{
 "cells": [
  {
   "cell_type": "code",
   "execution_count": 1,
   "metadata": {},
   "outputs": [],
   "source": [
    "import numpy as np\n",
    "import matplotlib.pyplot as plt\n",
    "from sklearn.tree import DecisionTreeClassifier\n",
    "from sklearn.ensemble import AdaBoostClassifier\n",
    "from sklearn.datasets import make_classification"
   ]
  },
  {
   "cell_type": "code",
   "execution_count": 2,
   "metadata": {},
   "outputs": [],
   "source": [
    "pdg_train = np.abs(np.load('trainpdg.npy'))\n",
    "pdg_test = np.abs(np.load('testpdg.npy'))"
   ]
  },
  {
   "cell_type": "code",
   "execution_count": 3,
   "metadata": {},
   "outputs": [
    {
     "data": {
      "text/plain": [
       "117318"
      ]
     },
     "execution_count": 3,
     "metadata": {},
     "output_type": "execute_result"
    }
   ],
   "source": [
    "len(pdg_train)"
   ]
  },
  {
   "cell_type": "code",
   "execution_count": 4,
   "metadata": {},
   "outputs": [
    {
     "data": {
      "text/plain": [
       "{11, 13, 22, 211, 321, 2112, 2212, 3222}"
      ]
     },
     "execution_count": 4,
     "metadata": {},
     "output_type": "execute_result"
    }
   ],
   "source": [
    "set(pdg_train)"
   ]
  },
  {
   "cell_type": "markdown",
   "metadata": {},
   "source": [
    "# Training data sets"
   ]
  },
  {
   "cell_type": "code",
   "execution_count": 5,
   "metadata": {},
   "outputs": [],
   "source": [
    "trainangles = np.load('trainangles.npy', allow_pickle = True)\n",
    "trainenergy = np.load('trainenergies.npy', allow_pickle = True)\n",
    "trainbinfrac = np.load('trainbinfrac.npy', allow_pickle = True)\n",
    "trainrsq = np.load('trainrsquare.npy', allow_pickle = True)\n",
    "trainisTrack = np.load('trainisTrack.npy')"
   ]
  },
  {
   "cell_type": "code",
   "execution_count": 6,
   "metadata": {},
   "outputs": [],
   "source": [
    "x_train = np.array(list(zip(trainangles, trainbinfrac, trainenergy, trainrsq)))"
   ]
  },
  {
   "cell_type": "code",
   "execution_count": 7,
   "metadata": {
    "scrolled": true
   },
   "outputs": [
    {
     "data": {
      "text/plain": [
       "array([[14.31261616,  0.20238095,  0.18191113,  0.99312023],\n",
       "       [ 1.51185943,  0.20512821,  0.23647127,  0.97985841],\n",
       "       [ 5.77915535,  0.20588235,  0.28685775,  0.99722832],\n",
       "       ...,\n",
       "       [ 2.36683276,  0.22028986,  0.21082538,  0.99921892],\n",
       "       [ 2.46280738,  0.20036101,  0.19711588,  0.99943964],\n",
       "       [ 3.43693059,  0.21428571,  0.19193022,  0.99883645]])"
      ]
     },
     "execution_count": 7,
     "metadata": {},
     "output_type": "execute_result"
    }
   ],
   "source": [
    "x_train"
   ]
  },
  {
   "cell_type": "code",
   "execution_count": 8,
   "metadata": {},
   "outputs": [],
   "source": [
    "y_train = trainisTrack"
   ]
  },
  {
   "cell_type": "code",
   "execution_count": 9,
   "metadata": {},
   "outputs": [
    {
     "data": {
      "text/plain": [
       "117318"
      ]
     },
     "execution_count": 9,
     "metadata": {},
     "output_type": "execute_result"
    }
   ],
   "source": [
    "len(y_train)"
   ]
  },
  {
   "cell_type": "markdown",
   "metadata": {},
   "source": [
    "# Create and train BDT"
   ]
  },
  {
   "cell_type": "code",
   "execution_count": 10,
   "metadata": {},
   "outputs": [
    {
     "data": {
      "text/plain": [
       "AdaBoostClassifier(base_estimator=DecisionTreeClassifier(max_depth=5),\n",
       "                   n_estimators=200, random_state=0)"
      ]
     },
     "execution_count": 10,
     "metadata": {},
     "output_type": "execute_result"
    }
   ],
   "source": [
    "base = DecisionTreeClassifier(max_depth=5)\n",
    "bdt = AdaBoostClassifier(base_estimator=base, n_estimators=200, random_state=0)\n",
    "bdt.fit(x_train, y_train)"
   ]
  },
  {
   "cell_type": "code",
   "execution_count": 11,
   "metadata": {},
   "outputs": [
    {
     "data": {
      "text/plain": [
       "0.9428305971803134"
      ]
     },
     "execution_count": 11,
     "metadata": {},
     "output_type": "execute_result"
    }
   ],
   "source": [
    "bdt.score(x_train, y_train)"
   ]
  },
  {
   "cell_type": "markdown",
   "metadata": {},
   "source": [
    "# Testing data sets"
   ]
  },
  {
   "cell_type": "code",
   "execution_count": 12,
   "metadata": {},
   "outputs": [],
   "source": [
    "testangles = np.load('testangles.npy', allow_pickle = True)\n",
    "testenergy = np.load('testenergies - Copy.npy', allow_pickle = True)\n",
    "testbinfrac = np.load('testbinfrac.npy', allow_pickle = True)\n",
    "testrsq = np.load('testrsquare.npy', allow_pickle = True)\n",
    "testisTrack = np.load('testisTrack.npy')"
   ]
  },
  {
   "cell_type": "code",
   "execution_count": 13,
   "metadata": {},
   "outputs": [],
   "source": [
    "x_test = np.array(list(zip(testangles, testbinfrac, testenergy, testrsq)))"
   ]
  },
  {
   "cell_type": "code",
   "execution_count": 14,
   "metadata": {},
   "outputs": [],
   "source": [
    "y_test = testisTrack"
   ]
  },
  {
   "cell_type": "markdown",
   "metadata": {},
   "source": [
    "# Create and test BDT"
   ]
  },
  {
   "cell_type": "code",
   "execution_count": 15,
   "metadata": {},
   "outputs": [
    {
     "data": {
      "text/plain": [
       "AdaBoostClassifier(base_estimator=DecisionTreeClassifier(max_depth=5),\n",
       "                   n_estimators=200, random_state=0)"
      ]
     },
     "execution_count": 15,
     "metadata": {},
     "output_type": "execute_result"
    }
   ],
   "source": [
    "base = DecisionTreeClassifier(max_depth=5)\n",
    "bdt = AdaBoostClassifier(base_estimator=base, n_estimators=200, random_state=0)\n",
    "bdt.fit(x_test, y_test)"
   ]
  },
  {
   "cell_type": "code",
   "execution_count": 16,
   "metadata": {},
   "outputs": [
    {
     "data": {
      "text/plain": [
       "0.9421274008006892"
      ]
     },
     "execution_count": 16,
     "metadata": {},
     "output_type": "execute_result"
    }
   ],
   "source": [
    "bdt.score(x_test, y_test)"
   ]
  },
  {
   "cell_type": "markdown",
   "metadata": {},
   "source": [
    "# BDT training score"
   ]
  },
  {
   "cell_type": "code",
   "execution_count": 17,
   "metadata": {},
   "outputs": [
    {
     "data": {
      "text/plain": [
       "<matplotlib.legend.Legend at 0x27d6943c8d0>"
      ]
     },
     "execution_count": 17,
     "metadata": {},
     "output_type": "execute_result"
    },
    {
     "data": {
      "image/png": "[encoded data removed]",
      "text/plain": [
       "<Figure size 432x288 with 1 Axes>"
      ]
     },
     "metadata": {
      "needs_background": "light"
     },
     "output_type": "display_data"
    }
   ],
   "source": [
    "f_train = bdt.decision_function(x_train)\n",
    "min_f_train = np.round(np.min(f_train), 1)\n",
    "max_f_train = np.round(np.max(f_train), 1)\n",
    "bins_train = np.linspace(min_f_train, max_f_train, 100)\n",
    "cls_0_f_train = f_train[np.where(y_train == 0)]\n",
    "cls_1_f_train = f_train[np.where(y_train == 1)]\n",
    "weights_0 = np.ones_like(cls_0_f_train) / len(cls_0_f_train)\n",
    "weights_1 = np.ones_like(cls_1_f_train) / len(cls_1_f_train)\n",
    "plt.hist(cls_0_f_train, color='r', weights=weights_0, bins=bins_train, histtype='step', label='Showers')\n",
    "plt.hist(cls_1_f_train, color='b', weights=weights_1, bins=bins_train, histtype='step', label='Tracks')\n",
    "plt.legend()"
   ]
  },
  {
   "cell_type": "markdown",
   "metadata": {},
   "source": [
    "# BDT testing score"
   ]
  },
  {
   "cell_type": "code",
   "execution_count": 18,
   "metadata": {},
   "outputs": [],
   "source": [
    "#Which one do we talk about training or testing?"
   ]
  },
  {
   "cell_type": "code",
   "execution_count": 19,
   "metadata": {},
   "outputs": [
    {
     "data": {
      "text/plain": [
       "<matplotlib.legend.Legend at 0x27d67a02ba8>"
      ]
     },
     "execution_count": 19,
     "metadata": {},
     "output_type": "execute_result"
    },
    {
     "data": {
      "image/png": "[encoded data removed]",
      "text/plain": [
       "<Figure size 432x288 with 1 Axes>"
      ]
     },
     "metadata": {
      "needs_background": "light"
     },
     "output_type": "display_data"
    }
   ],
   "source": [
    "f_test = bdt.decision_function(x_test)\n",
    "min_f_test = np.round(np.min(f_test), 1)\n",
    "max_f_test = np.round(np.max(f_test), 1)\n",
    "bins_test = np.linspace(min_f_test, max_f_test, 100)\n",
    "cls_0_f_test = f_test[np.where(y_test == 0)]\n",
    "cls_1_f_test = f_test[np.where(y_test == 1)]\n",
    "weights_0 = np.ones_like(cls_0_f_test) / len(cls_0_f_test)\n",
    "weights_1 = np.ones_like(cls_1_f_test) / len(cls_1_f_test)\n",
    "plt.hist(cls_0_f_test, color='r', weights=weights_0, bins=bins_test, histtype='step', label='Showers')\n",
    "plt.hist(cls_1_f_test, color='b', weights=weights_1, bins=bins_test, histtype='step', label='Tracks')\n",
    "plt.legend()"
   ]
  },
  {
   "cell_type": "code",
   "execution_count": 20,
   "metadata": {},
   "outputs": [],
   "source": [
    "tracks_train = np.where(f_train > 0)[0]\n",
    "tracks_test = np.where(f_test > 0)[0] "
   ]
  },
  {
   "cell_type": "markdown",
   "metadata": {},
   "source": [
    "# Track particle id training sample"
   ]
  },
  {
   "cell_type": "code",
   "execution_count": 21,
   "metadata": {},
   "outputs": [],
   "source": [
    "pdg_muon_train = pdg_train[tracks_train]\n",
    "pdg_pion_train = pdg_train[tracks_train]\n",
    "pdg_proton_train = pdg_train[tracks_train]"
   ]
  },
  {
   "cell_type": "code",
   "execution_count": 22,
   "metadata": {},
   "outputs": [],
   "source": [
    "for n, i in enumerate(pdg_muon_train):\n",
    "    if i != 13:\n",
    "        pdg_muon_train[n] = 0"
   ]
  },
  {
   "cell_type": "code",
   "execution_count": 23,
   "metadata": {},
   "outputs": [
    {
     "data": {
      "text/plain": [
       "{0, 13}"
      ]
     },
     "execution_count": 23,
     "metadata": {},
     "output_type": "execute_result"
    }
   ],
   "source": [
    "set(pdg_muon_train)"
   ]
  },
  {
   "cell_type": "code",
   "execution_count": 24,
   "metadata": {},
   "outputs": [],
   "source": [
    "for n, i in enumerate(pdg_pion_train):\n",
    "    if i != 211:\n",
    "        pdg_pion_train[n] = 0"
   ]
  },
  {
   "cell_type": "code",
   "execution_count": 25,
   "metadata": {},
   "outputs": [],
   "source": [
    "for n, i in enumerate(pdg_proton_train):\n",
    "    if i != 2212:\n",
    "        pdg_proton_train[n] = 0"
   ]
  },
  {
   "cell_type": "code",
   "execution_count": 26,
   "metadata": {},
   "outputs": [],
   "source": [
    "np.save('pdg_muon_train.npy', pdg_muon_train)\n",
    "np.save('pdg_pion_train.npy', pdg_pion_train)\n",
    "np.save('pdg_proton_train.npy', pdg_proton_train)"
   ]
  },
  {
   "cell_type": "code",
   "execution_count": 27,
   "metadata": {},
   "outputs": [],
   "source": [
    "trainangles_tracks = trainangles[tracks_train]\n",
    "trainenergy_tracks = trainenergy[tracks_train]\n",
    "trainbinfrac_tracks= trainbinfrac[tracks_train]\n",
    "trainrsq_tracks = trainrsq[tracks_train]"
   ]
  },
  {
   "cell_type": "code",
   "execution_count": 28,
   "metadata": {},
   "outputs": [],
   "source": [
    "testangles_tracks = testangles[tracks_test]\n",
    "testenergy_tracks = testenergy[tracks_test]\n",
    "testbinfrac_tracks = testbinfrac[tracks_test]\n",
    "testrsq_tracks = testrsq[tracks_test]"
   ]
  },
  {
   "cell_type": "code",
   "execution_count": 29,
   "metadata": {},
   "outputs": [],
   "source": [
    "#Variables values with bdt score > 0\n",
    "np.save('trainangles_t.npy', trainangles_tracks)\n",
    "np.save('trainenergy_t.npy', trainenergy_tracks)\n",
    "np.save('trainbinfrac_t.npy', trainbinfrac_tracks)\n",
    "np.save('trainrsq_t.npy', trainrsq_tracks)"
   ]
  },
  {
   "cell_type": "code",
   "execution_count": 30,
   "metadata": {},
   "outputs": [],
   "source": [
    "np.save('testangles_t.npy', testangles_tracks)\n",
    "np.save('testenergy_t.npy', testenergy_tracks)\n",
    "np.save('testbinfrac_t.npy', testbinfrac_tracks)\n",
    "np.save('testrsq_t.npy', testrsq_tracks)"
   ]
  },
  {
   "cell_type": "code",
   "execution_count": 31,
   "metadata": {},
   "outputs": [
    {
     "data": {
      "text/plain": [
       "{11, 13, 22, 211, 321, 2112, 2212, 3222}"
      ]
     },
     "execution_count": 31,
     "metadata": {},
     "output_type": "execute_result"
    }
   ],
   "source": [
    "set(pdg_train)"
   ]
  },
  {
   "cell_type": "code",
   "execution_count": 32,
   "metadata": {},
   "outputs": [
    {
     "data": {
      "text/plain": [
       "{0, 211}"
      ]
     },
     "execution_count": 32,
     "metadata": {},
     "output_type": "execute_result"
    }
   ],
   "source": [
    "set(pdg_pion_train)"
   ]
  },
  {
   "cell_type": "code",
   "execution_count": 33,
   "metadata": {},
   "outputs": [
    {
     "data": {
      "text/plain": [
       "{0, 2212}"
      ]
     },
     "execution_count": 33,
     "metadata": {},
     "output_type": "execute_result"
    }
   ],
   "source": [
    "set(pdg_proton_train)"
   ]
  },
  {
   "cell_type": "code",
   "execution_count": 34,
   "metadata": {},
   "outputs": [
    {
     "data": {
      "text/plain": [
       "{0, 13}"
      ]
     },
     "execution_count": 34,
     "metadata": {},
     "output_type": "execute_result"
    }
   ],
   "source": [
    "set(pdg_muon_train)"
   ]
  },
  {
   "cell_type": "markdown",
   "metadata": {},
   "source": [
    "# Track particle id testing sample"
   ]
  },
  {
   "cell_type": "code",
   "execution_count": 35,
   "metadata": {},
   "outputs": [],
   "source": [
    "pdg_muon_test = pdg_test[tracks_test]\n",
    "pdg_pion_test = pdg_test[tracks_test]\n",
    "pdg_proton_test = pdg_test[tracks_test]"
   ]
  },
  {
   "cell_type": "code",
   "execution_count": 36,
   "metadata": {},
   "outputs": [],
   "source": [
    "for n, i in enumerate(pdg_muon_test):\n",
    "    if i != 13:\n",
    "        pdg_muon_test[n] = 0"
   ]
  },
  {
   "cell_type": "code",
   "execution_count": 37,
   "metadata": {},
   "outputs": [],
   "source": [
    "for n, i in enumerate(pdg_pion_test):\n",
    "    if i != 211:\n",
    "        pdg_pion_test[n] = 0"
   ]
  },
  {
   "cell_type": "code",
   "execution_count": 38,
   "metadata": {},
   "outputs": [],
   "source": [
    "for n, i in enumerate(pdg_proton_test):\n",
    "    if i != 2212:\n",
    "        pdg_proton_test[n] = 0"
   ]
  },
  {
   "cell_type": "code",
   "execution_count": 39,
   "metadata": {},
   "outputs": [
    {
     "data": {
      "text/plain": [
       "{0, 13}"
      ]
     },
     "execution_count": 39,
     "metadata": {},
     "output_type": "execute_result"
    }
   ],
   "source": [
    "set(pdg_muon_test)"
   ]
  },
  {
   "cell_type": "code",
   "execution_count": 40,
   "metadata": {},
   "outputs": [
    {
     "data": {
      "text/plain": [
       "{11, 13, 22, 211, 321, 2112, 2212, 3112, 3222}"
      ]
     },
     "execution_count": 40,
     "metadata": {},
     "output_type": "execute_result"
    }
   ],
   "source": [
    "set(pdg_test)"
   ]
  },
  {
   "cell_type": "code",
   "execution_count": 41,
   "metadata": {},
   "outputs": [],
   "source": [
    "np.save('pdg_muon_test.npy', pdg_muon_test)\n",
    "np.save('pdg_pion_test.npy', pdg_pion_test)\n",
    "np.save('pdg_proton_test.npy', pdg_proton_test)"
   ]
  },
  {
   "cell_type": "code",
   "execution_count": 42,
   "metadata": {},
   "outputs": [
    {
     "data": {
      "text/plain": [
       "79301"
      ]
     },
     "execution_count": 42,
     "metadata": {},
     "output_type": "execute_result"
    }
   ],
   "source": [
    "len(pdg_muon_test)"
   ]
  },
  {
   "cell_type": "markdown",
   "metadata": {},
   "source": [
    "# Variable comparison"
   ]
  },
  {
   "cell_type": "code",
   "execution_count": 81,
   "metadata": {},
   "outputs": [],
   "source": [
    "pionid = np.where(pdg_train == 211)[0]\n",
    "muonid = np.where(pdg_train == 13)[0]\n",
    "protonid = np.where(pdg_train == 2212)[0]\n",
    "otherid_pion = np.where(pdg_train != 211)[0]\n",
    "otherid_muon = np.where(pdg_train != 13)[0]\n",
    "otherid_proton = np.where(pdg_train != 2212)[0]"
   ]
  },
  {
   "cell_type": "code",
   "execution_count": 82,
   "metadata": {},
   "outputs": [],
   "source": [
    "pionid_test = np.where(pdg_test == 211)[0]\n",
    "muonid_test = np.where(pdg_test == 13)[0]\n",
    "protonid_test = np.where(pdg_test == 2212)[0]\n",
    "otherid_pion_test = np.where(pdg_train != 211)[0]\n",
    "otherid_muon_test = np.where(pdg_train != 13)[0]\n",
    "otherid_proton_test = np.where(pdg_train != 2212)[0]"
   ]
  },
  {
   "cell_type": "code",
   "execution_count": 83,
   "metadata": {},
   "outputs": [
    {
     "ename": "NameError",
     "evalue": "name 'traindedx' is not defined",
     "output_type": "error",
     "traceback": [
      "\u001b[1;31m---------------------------------------------------------------------------\u001b[0m",
      "\u001b[1;31mNameError\u001b[0m                                 Traceback (most recent call last)",
      "\u001b[1;32m<ipython-input-83-8d1e4def5585>\u001b[0m in \u001b[0;36m<module>\u001b[1;34m\u001b[0m\n\u001b[0;32m     27\u001b[0m \u001b[0mtrainrsq_other_protons\u001b[0m \u001b[1;33m=\u001b[0m \u001b[0mtrainrsq\u001b[0m\u001b[1;33m[\u001b[0m\u001b[0motherid_proton\u001b[0m\u001b[1;33m]\u001b[0m\u001b[1;33m\u001b[0m\u001b[1;33m\u001b[0m\u001b[0m\n\u001b[0;32m     28\u001b[0m \u001b[1;33m\u001b[0m\u001b[0m\n\u001b[1;32m---> 29\u001b[1;33m \u001b[0mtraindedx_pions\u001b[0m \u001b[1;33m=\u001b[0m \u001b[0mtraindedx\u001b[0m\u001b[1;33m[\u001b[0m\u001b[0mpionid\u001b[0m\u001b[1;33m]\u001b[0m\u001b[1;33m\u001b[0m\u001b[1;33m\u001b[0m\u001b[0m\n\u001b[0m\u001b[0;32m     30\u001b[0m \u001b[0mtraindedx_muons\u001b[0m \u001b[1;33m=\u001b[0m \u001b[0mtraindedx\u001b[0m\u001b[1;33m[\u001b[0m\u001b[0mmuonid\u001b[0m\u001b[1;33m]\u001b[0m\u001b[1;33m\u001b[0m\u001b[1;33m\u001b[0m\u001b[0m\n\u001b[0;32m     31\u001b[0m \u001b[0mtraindedx_protons\u001b[0m \u001b[1;33m=\u001b[0m \u001b[0mtraindedx\u001b[0m\u001b[1;33m[\u001b[0m\u001b[0mprotonid\u001b[0m\u001b[1;33m]\u001b[0m\u001b[1;33m\u001b[0m\u001b[1;33m\u001b[0m\u001b[0m\n",
      "\u001b[1;31mNameError\u001b[0m: name 'traindedx' is not defined"
     ]
    }
   ],
   "source": [
    "trainangles_pions = trainangles[pionid]\n",
    "trainangles_muons = trainangles[muonid]\n",
    "trainangles_protons = trainangles[protonid]\n",
    "trainangles_other_pions = trainangles[otherid_pion]\n",
    "trainangles_other_muons = trainangles[otherid_muon]\n",
    "trainangles_other_protons = trainangles[otherid_proton]\n",
    "\n",
    "trainenergy_pions = trainenergy[pionid]\n",
    "trainenergy_muons = trainenergy[muonid]\n",
    "trainenergy_protons = trainenergy[protonid]\n",
    "trainenergy_other_pions = trainenergy[otherid_pion]\n",
    "trainenergy_other_muons = trainenergy[otherid_muon]\n",
    "trainenergy_other_protons = trainenergy[otherid_proton]\n",
    "\n",
    "trainbinfrac_pions = trainbinfrac[pionid]\n",
    "trainbinfrac_muons = trainbinfrac[muonid]\n",
    "trainbinfrac_protons = trainbinfrac[protonid]\n",
    "trainbinfrac_other_pions = trainbinfrac[otherid_pion]\n",
    "trainbinfrac_other_muons = trainbinfrac[otherid_muon]\n",
    "trainbinfrac_other_protons = trainbinfrac[otherid_proton]\n",
    "\n",
    "trainrsq_pions = trainrsq[pionid]\n",
    "trainrsq_muons = trainrsq[muonid]\n",
    "trainrsq_protons = trainrsq[protonid]\n",
    "trainrsq_other_pions = trainrsq[otherid_pion]\n",
    "trainrsq_other_muons = trainrsq[otherid_muon]\n",
    "trainrsq_other_protons = trainrsq[otherid_proton]\n",
    "\n",
    "# traindedx_pions = traindedx[pionid]\n",
    "# traindedx_muons = traindedx[muonid]\n",
    "# traindedx_protons = traindedx[protonid]\n",
    "# traindedx_other_pions = traindedx[otherid_pion]\n",
    "# traindedx_other_muons = traindedx[otherid_muon]\n",
    "# traindedx_other_protons = traindedx[otherid_proton]"
   ]
  },
  {
   "cell_type": "code",
   "execution_count": 84,
   "metadata": {},
   "outputs": [
    {
     "ename": "NameError",
     "evalue": "name 'testdedx' is not defined",
     "output_type": "error",
     "traceback": [
      "\u001b[1;31m---------------------------------------------------------------------------\u001b[0m",
      "\u001b[1;31mNameError\u001b[0m                                 Traceback (most recent call last)",
      "\u001b[1;32m<ipython-input-84-dd5ce1802212>\u001b[0m in \u001b[0;36m<module>\u001b[1;34m\u001b[0m\n\u001b[0;32m     27\u001b[0m \u001b[0mtestrsq_other_protons\u001b[0m \u001b[1;33m=\u001b[0m \u001b[0mtestrsq\u001b[0m\u001b[1;33m[\u001b[0m\u001b[0motherid_proton_test\u001b[0m\u001b[1;33m]\u001b[0m\u001b[1;33m\u001b[0m\u001b[1;33m\u001b[0m\u001b[0m\n\u001b[0;32m     28\u001b[0m \u001b[1;33m\u001b[0m\u001b[0m\n\u001b[1;32m---> 29\u001b[1;33m \u001b[0mtestdedx_pions\u001b[0m \u001b[1;33m=\u001b[0m \u001b[0mtestdedx\u001b[0m\u001b[1;33m[\u001b[0m\u001b[0mpionid_test\u001b[0m\u001b[1;33m]\u001b[0m\u001b[1;33m\u001b[0m\u001b[1;33m\u001b[0m\u001b[0m\n\u001b[0m\u001b[0;32m     30\u001b[0m \u001b[0mtestdedx_muons\u001b[0m \u001b[1;33m=\u001b[0m \u001b[0mtestdedx\u001b[0m\u001b[1;33m[\u001b[0m\u001b[0mmuonid_test\u001b[0m\u001b[1;33m]\u001b[0m\u001b[1;33m\u001b[0m\u001b[1;33m\u001b[0m\u001b[0m\n\u001b[0;32m     31\u001b[0m \u001b[0mtestdedx_protons\u001b[0m \u001b[1;33m=\u001b[0m \u001b[0mtestdedx\u001b[0m\u001b[1;33m[\u001b[0m\u001b[0mprotonid_test\u001b[0m\u001b[1;33m]\u001b[0m\u001b[1;33m\u001b[0m\u001b[1;33m\u001b[0m\u001b[0m\n",
      "\u001b[1;31mNameError\u001b[0m: name 'testdedx' is not defined"
     ]
    }
   ],
   "source": [
    "testangles_pions = testangles[pionid_test]\n",
    "testangles_muons = testangles[muonid_test]\n",
    "testangles_protons = testangles[protonid_test]\n",
    "testangles_other_pions = testangles[otherid_pion_test]\n",
    "testangles_other_muons = testangles[otherid_muon_test]\n",
    "testangles_other_protons = testangles[otherid_proton_test]\n",
    "\n",
    "testenergy_pions = testenergy[pionid_test]\n",
    "testenergy_muons = testenergy[muonid_test]\n",
    "testenergy_protons = testenergy[protonid_test]\n",
    "testenergy_other_pions = testenergy[otherid_pion_test]\n",
    "testenergy_other_muons = testenergy[otherid_muon_test]\n",
    "testenergy_other_protons = testenergy[otherid_proton_test]\n",
    "\n",
    "testbinfrac_pions = testbinfrac[pionid_test]\n",
    "testbinfrac_muons = testbinfrac[muonid_test]\n",
    "testbinfrac_protons = testbinfrac[protonid_test]\n",
    "testbinfrac_other_pions = testbinfrac[otherid_pion_test]\n",
    "testbinfrac_other_muons = testbinfrac[otherid_muon_test]\n",
    "testbinfrac_other_protons = testbinfrac[otherid_proton_test]\n",
    "\n",
    "testrsq_pions = testrsq[pionid_test]\n",
    "testrsq_muons = testrsq[muonid_test]\n",
    "testrsq_protons = testrsq[protonid_test]\n",
    "testrsq_other_pions = testrsq[otherid_pion_test]\n",
    "testrsq_other_muons = testrsq[otherid_muon_test]\n",
    "testrsq_other_protons = testrsq[otherid_proton_test]\n",
    "\n",
    "# testdedx_pions = testdedx[pionid_test]\n",
    "# testdedx_muons = testdedx[muonid_test]\n",
    "# testdedx_protons = testdedx[protonid_test]\n",
    "# testdedx_other_pions = testdedx[otherid_pion_test]\n",
    "# testdedx_other_muons = testdedx[otherid_muon_test]\n",
    "# testdedx_other_protons = testdedx[otherid_proton_test]"
   ]
  },
  {
   "cell_type": "code",
   "execution_count": 85,
   "metadata": {},
   "outputs": [
    {
     "ename": "NameError",
     "evalue": "name 'traindedx_protons' is not defined",
     "output_type": "error",
     "traceback": [
      "\u001b[1;31m---------------------------------------------------------------------------\u001b[0m",
      "\u001b[1;31mNameError\u001b[0m                                 Traceback (most recent call last)",
      "\u001b[1;32m<ipython-input-85-3ef2dae6d1c2>\u001b[0m in \u001b[0;36m<module>\u001b[1;34m\u001b[0m\n\u001b[0;32m    138\u001b[0m         \u001b[0mtrainrsq_muons_tracks\u001b[0m\u001b[1;33m.\u001b[0m\u001b[0mappend\u001b[0m\u001b[1;33m(\u001b[0m\u001b[0mtrainrsq_muons\u001b[0m\u001b[1;33m[\u001b[0m\u001b[0mi\u001b[0m\u001b[1;33m]\u001b[0m\u001b[1;33m)\u001b[0m\u001b[1;33m\u001b[0m\u001b[1;33m\u001b[0m\u001b[0m\n\u001b[0;32m    139\u001b[0m \u001b[1;33m\u001b[0m\u001b[0m\n\u001b[1;32m--> 140\u001b[1;33m \u001b[1;32mfor\u001b[0m \u001b[0mi\u001b[0m \u001b[1;32min\u001b[0m \u001b[0mrange\u001b[0m\u001b[1;33m(\u001b[0m\u001b[0mlen\u001b[0m\u001b[1;33m(\u001b[0m\u001b[0mtraindedx_protons\u001b[0m\u001b[1;33m)\u001b[0m\u001b[1;33m)\u001b[0m\u001b[1;33m:\u001b[0m\u001b[1;33m\u001b[0m\u001b[1;33m\u001b[0m\u001b[0m\n\u001b[0m\u001b[0;32m    141\u001b[0m     \u001b[1;32mif\u001b[0m \u001b[0mf_train\u001b[0m\u001b[1;33m[\u001b[0m\u001b[0mi\u001b[0m\u001b[1;33m]\u001b[0m \u001b[1;33m>\u001b[0m \u001b[1;36m0\u001b[0m\u001b[1;33m:\u001b[0m\u001b[1;33m\u001b[0m\u001b[1;33m\u001b[0m\u001b[0m\n\u001b[0;32m    142\u001b[0m         \u001b[0mtraindedx_protons_tracks\u001b[0m\u001b[1;33m.\u001b[0m\u001b[0mappend\u001b[0m\u001b[1;33m(\u001b[0m\u001b[0mtraindedx_protons\u001b[0m\u001b[1;33m[\u001b[0m\u001b[0mi\u001b[0m\u001b[1;33m]\u001b[0m\u001b[1;33m)\u001b[0m\u001b[1;33m\u001b[0m\u001b[1;33m\u001b[0m\u001b[0m\n",
      "\u001b[1;31mNameError\u001b[0m: name 'traindedx_protons' is not defined"
     ]
    }
   ],
   "source": [
    "trainangles_pions_tracks = []\n",
    "trainangles_muons_tracks = []\n",
    "trainangles_protons_tracks = []\n",
    "trainangles_other_tracks_pions = []\n",
    "trainangles_other_tracks_protons = []\n",
    "trainangles_other_tracks_muons = []\n",
    "\n",
    "trainenergy_pions_tracks = []\n",
    "trainenergy_muons_tracks = []\n",
    "trainenergy_protons_tracks = []\n",
    "trainenergy_other_tracks_pions = []\n",
    "trainenergy_other_tracks_protons = []\n",
    "trainenergy_other_tracks_muons = []\n",
    "\n",
    "trainbinfrac_pions_tracks = []\n",
    "trainbinfrac_muons_tracks = []\n",
    "trainbinfrac_protons_tracks = []\n",
    "trainbinfrac_other_tracks_pions = []\n",
    "trainbinfrac_other_tracks_protons = []\n",
    "trainbinfrac_other_tracks_muons = []\n",
    "\n",
    "trainrsq_pions_tracks = []\n",
    "trainrsq_muons_tracks = []\n",
    "trainrsq_protons_tracks = []\n",
    "trainrsq_other_tracks_pions = []\n",
    "trainrsq_other_tracks_protons = []\n",
    "trainrsq_other_tracks_muons = []\n",
    "\n",
    "# traindedx_pions_tracks = []\n",
    "# traindedx_muons_tracks = []\n",
    "# traindedx_protons_tracks = []\n",
    "# traindedx_other_tracks_pions = []\n",
    "# traindedx_other_tracks_protons = []\n",
    "# traindedx_other_tracks_muons = []\n",
    "\n",
    "for i in range(len(trainangles_pions)):\n",
    "    if f_train[i] > 0:\n",
    "        trainangles_pions_tracks.append(trainangles_pions[i])\n",
    "        \n",
    "for i in range(len(trainangles_muons)):\n",
    "    if f_train[i] > 0:\n",
    "        trainangles_muons_tracks.append(trainangles_muons[i])\n",
    "        \n",
    "for i in range(len(trainangles_protons)):\n",
    "    if f_train[i] > 0:\n",
    "        trainangles_protons_tracks.append(trainangles_protons[i])\n",
    "        \n",
    "for i in range(len(trainangles_other_pions)):\n",
    "    if f_train[i] > 0:\n",
    "        trainangles_other_tracks_pions.append(trainangles_other_pions[i])\n",
    "\n",
    "for i in range(len(trainangles_other_protons)):\n",
    "    if f_train[i] > 0:\n",
    "        trainangles_other_tracks_protons.append(trainangles_other_protons[i])\n",
    "        \n",
    "for i in range(len(trainangles_other_muons)):\n",
    "    if f_train[i] > 0:\n",
    "        trainangles_other_tracks_muons.append(trainangles_other_muons[i])\n",
    "        \n",
    "for i in range(len(trainenergy_pions)):\n",
    "    if f_train[i] > 0:\n",
    "        trainenergy_pions_tracks.append(trainenergy_pions[i])\n",
    "        \n",
    "for i in range(len(trainenergy_muons)):\n",
    "    if f_train[i] > 0:\n",
    "        trainenergy_muons_tracks.append(trainenergy_muons[i])\n",
    "        \n",
    "for i in range(len(trainenergy_protons)):\n",
    "    if f_train[i] > 0:\n",
    "        trainenergy_protons_tracks.append(trainenergy_protons[i])\n",
    "\n",
    "for i in range(len(trainenergy_other_pions)):\n",
    "    if f_train[i] > 0:\n",
    "        trainenergy_other_tracks_pions.append(trainenergy_other_pions[i])\n",
    "\n",
    "for i in range(len(trainenergy_other_protons)):\n",
    "    if f_train[i] > 0:\n",
    "        trainenergy_other_tracks_protons.append(trainenergy_other_protons[i])\n",
    "        \n",
    "for i in range(len(trainenergy_other_muons)):\n",
    "    if f_train[i] > 0:\n",
    "        trainenergy_other_tracks_muons.append(trainenergy_other_muons[i])\n",
    "        \n",
    "for i in range(len(trainbinfrac_pions)):\n",
    "    if f_train[i] > 0:\n",
    "        trainbinfrac_pions_tracks.append(trainbinfrac_pions[i])\n",
    "        \n",
    "for i in range(len(trainbinfrac_muons)):\n",
    "    if f_train[i] > 0:\n",
    "        trainbinfrac_muons_tracks.append(trainbinfrac_muons[i])\n",
    "        \n",
    "for i in range(len(trainbinfrac_protons)):\n",
    "    if f_train[i] > 0:\n",
    "        trainbinfrac_protons_tracks.append(trainbinfrac_protons[i])\n",
    "        \n",
    "for i in range(len(trainbinfrac_other_pions)):\n",
    "    if f_train[i] > 0:\n",
    "        trainbinfrac_other_tracks_pions.append(trainbinfrac_other_pions[i])\n",
    "\n",
    "for i in range(len(trainbinfrac_other_protons)):\n",
    "    if f_train[i] > 0:\n",
    "        trainbinfrac_other_tracks_protons.append(trainbinfrac_other_protons[i])\n",
    "        \n",
    "for i in range(len(trainbinfrac_other_muons)):\n",
    "    if f_train[i] > 0:\n",
    "        trainbinfrac_other_tracks_muons.append(trainbinfrac_other_muons[i])\n",
    "        \n",
    "for i in range(len(trainrsq_pions)):\n",
    "    if f_train[i] > 0:\n",
    "        trainrsq_pions_tracks.append(trainrsq_pions[i])\n",
    "        \n",
    "for i in range(len(trainrsq_muons)):\n",
    "    if f_train[i] > 0:\n",
    "        trainrsq_muons_tracks.append(trainrsq_muons[i])\n",
    "        \n",
    "for i in range(len(trainrsq_protons)):\n",
    "    if f_train[i] > 0:\n",
    "        trainrsq_protons_tracks.append(trainrsq_protons[i])\n",
    "        \n",
    "for i in range(len(trainrsq_other_pions)):\n",
    "    if f_train[i] > 0:\n",
    "        trainrsq_other_tracks_pions.append(trainrsq_other_pions[i])\n",
    "\n",
    "for i in range(len(trainrsq_other_protons)):\n",
    "    if f_train[i] > 0:\n",
    "        trainrsq_other_tracks_protons.append(trainrsq_other_protons[i])\n",
    "        \n",
    "for i in range(len(trainrsq_other_muons)):\n",
    "    if f_train[i] > 0:\n",
    "        trainrsq_other_tracks_muons.append(trainrsq_other_muons[i])\n",
    "        \n",
    "# for i in range(len(traindedx_pions)):\n",
    "#     if f_train[i] > 0:\n",
    "#         trainrsq_pions_tracks.append(trainrsq_pions[i])\n",
    "        \n",
    "# for i in range(len(traindedx_muons)):\n",
    "#     if f_train[i] > 0:\n",
    "#         trainrsq_muons_tracks.append(trainrsq_muons[i])\n",
    "        \n",
    "# for i in range(len(traindedx_protons)):\n",
    "#     if f_train[i] > 0:\n",
    "#         traindedx_protons_tracks.append(traindedx_protons[i])\n",
    "        \n",
    "# for i in range(len(traindedx_other_pions)):\n",
    "#     if f_train[i] > 0:\n",
    "#         traindedx_other_tracks_pions.append(traindedx_other_pions[i])\n",
    "\n",
    "# for i in range(len(traindedx_other_protons)):\n",
    "#     if f_train[i] > 0:\n",
    "#         traindedx_other_tracks_protons.append(traindedx_other_protons[i])\n",
    "        \n",
    "# for i in range(len(traindedx_other_muons)):\n",
    "#     if f_train[i] > 0:\n",
    "#         traindedx_other_tracks_muons.append(traindedx_other_muons[i])   "
   ]
  },
  {
   "cell_type": "code",
   "execution_count": null,
   "metadata": {},
   "outputs": [],
   "source": [
    "testangles_pions_tracks = []\n",
    "testangles_muons_tracks = []\n",
    "testangles_protons_tracks = []\n",
    "testangles_other_tracks_pions = []\n",
    "testangles_other_tracks_protons = []\n",
    "testangles_other_tracks_muons = []\n",
    "\n",
    "testenergy_pions_tracks = []\n",
    "testenergy_muons_tracks = []\n",
    "testenergy_protons_tracks = []\n",
    "testenergy_other_tracks_pions = []\n",
    "testenergy_other_tracks_protons = []\n",
    "testenergy_other_tracks_muons = []\n",
    "\n",
    "testbinfrac_pions_tracks = []\n",
    "testbinfrac_muons_tracks = []\n",
    "testbinfrac_protons_tracks = []\n",
    "testbinfrac_other_tracks_pions = []\n",
    "testbinfrac_other_tracks_protons = []\n",
    "testbinfrac_other_tracks_muons = []\n",
    "\n",
    "testrsq_pions_tracks = []\n",
    "testrsq_muons_tracks = []\n",
    "testrsq_protons_tracks = []\n",
    "testrsq_other_tracks_pions = []\n",
    "testrsq_other_tracks_protons = []\n",
    "testrsq_other_tracks_muons = []\n",
    "\n",
    "# testdedx_pions_tracks = []\n",
    "# testdedx_muons_tracks = []\n",
    "# testdedx_protons_tracks = []\n",
    "# testdedx_other_tracks_pions = []\n",
    "# testdedx_other_tracks_protons = []\n",
    "# testdedx_other_tracks_muons = []\n",
    "\n",
    "\n",
    "for i in range(len(testangles_pions)):\n",
    "    if f_test[i] > 0:\n",
    "        testangles_pions_tracks.append(testangles_pions[i])\n",
    "        \n",
    "for i in range(len(testangles_muons)):\n",
    "    if f_test[i] > 0:\n",
    "        testangles_muons_tracks.append(testangles_muons[i])\n",
    "        \n",
    "for i in range(len(testangles_protons)):\n",
    "    if f_test[i] > 0:\n",
    "        testangles_protons_tracks.append(testangles_protons[i])\n",
    "        \n",
    "for i in range(len(testangles_other_pions)):\n",
    "    if f_test[i] > 0:\n",
    "        testangles_other_tracks_pions.append(testangles_other_pions[i])\n",
    "\n",
    "for i in range(len(testangles_other_protons)):\n",
    "    if f_test[i] > 0:\n",
    "        testangles_other_tracks_protons.append(testangles_other_protons[i])\n",
    "        \n",
    "for i in range(len(testangles_other_muons)):\n",
    "    if f_test[i] > 0:\n",
    "        testangles_other_tracks_muons.append(testangles_other_muons[i])\n",
    "        \n",
    "for i in range(len(testenergy_pions)):\n",
    "    if f_test[i] > 0:\n",
    "        testenergy_pions_tracks.append(testenergy_pions[i])\n",
    "        \n",
    "for i in range(len(testenergy_muons)):\n",
    "    if f_test[i] > 0:\n",
    "        testenergy_muons_tracks.append(testenergy_muons[i])\n",
    "        \n",
    "for i in range(len(testenergy_protons)):\n",
    "    if f_test[i] > 0:\n",
    "        testenergy_protons_tracks.append(testenergy_protons[i])\n",
    "\n",
    "for i in range(len(testenergy_other_pions)):\n",
    "    if f_test[i] > 0:\n",
    "        testenergy_other_tracks_pions.append(testenergy_other_pions[i])\n",
    "\n",
    "for i in range(len(testenergy_other_protons)):\n",
    "    if f_test[i] > 0:\n",
    "        testenergy_other_tracks_protons.append(testenergy_other_protons[i])\n",
    "        \n",
    "for i in range(len(testenergy_other_muons)):\n",
    "    if f_test[i] > 0:\n",
    "        testenergy_other_tracks_muons.append(testenergy_other_muons[i])\n",
    "        \n",
    "for i in range(len(testbinfrac_pions)):\n",
    "    if f_test[i] > 0:\n",
    "        testbinfrac_pions_tracks.append(testbinfrac_pions[i])\n",
    "        \n",
    "for i in range(len(testbinfrac_muons)):\n",
    "    if f_test[i] > 0:\n",
    "        testbinfrac_muons_tracks.append(testbinfrac_muons[i])\n",
    "        \n",
    "for i in range(len(testbinfrac_protons)):\n",
    "    if f_test[i] > 0:\n",
    "        testbinfrac_protons_tracks.append(testbinfrac_protons[i])\n",
    "        \n",
    "for i in range(len(testbinfrac_other_pions)):\n",
    "    if f_test[i] > 0:\n",
    "        testbinfrac_other_tracks_pions.append(testbinfrac_other_pions[i])\n",
    "\n",
    "for i in range(len(testbinfrac_other_protons)):\n",
    "    if f_test[i] > 0:\n",
    "        testbinfrac_other_tracks_protons.append(testbinfrac_other_protons[i])\n",
    "        \n",
    "for i in range(len(testbinfrac_other_muons)):\n",
    "    if f_test[i] > 0:\n",
    "        testbinfrac_other_tracks_muons.append(testbinfrac_other_muons[i])\n",
    "        \n",
    "for i in range(len(testrsq_pions)):\n",
    "    if f_test[i] > 0:\n",
    "        testrsq_pions_tracks.append(testrsq_pions[i])\n",
    "        \n",
    "for i in range(len(testrsq_muons)):\n",
    "    if f_test[i] > 0:\n",
    "        testrsq_muons_tracks.append(testrsq_muons[i])\n",
    "        \n",
    "for i in range(len(testrsq_protons)):\n",
    "    if f_test[i] > 0:\n",
    "        testrsq_protons_tracks.append(testrsq_protons[i])\n",
    "        \n",
    "for i in range(len(testrsq_other_pions)):\n",
    "    if f_test[i] > 0:\n",
    "        testrsq_other_tracks_pions.append(testrsq_other_pions[i])\n",
    "\n",
    "for i in range(len(testrsq_other_protons)):\n",
    "    if f_test[i] > 0:\n",
    "        testrsq_other_tracks_protons.append(testrsq_other_protons[i])\n",
    "        \n",
    "for i in range(len(testrsq_other_muons)):\n",
    "    if f_test[i] > 0:\n",
    "        testrsq_other_tracks_muons.append(testrsq_other_muons[i]) \n",
    "\n",
    "# for i in range(len(testdedx_pions)):\n",
    "#     if f_test[i] > 0:\n",
    "#         testrsq_pions_tracks.append(testrsq_pions[i])\n",
    "        \n",
    "# for i in range(len(testdedx_muons)):\n",
    "#     if f_test[i] > 0:\n",
    "#         testdedx_muons_tracks.append(testrsq_muons[i])\n",
    "\n",
    "# for i in range(len(testdedx_protons)):\n",
    "#     if f_train[i] > 0:\n",
    "#         testdedx_protons_tracks.append(testdedx_protons[i])\n",
    "        \n",
    "# for i in range(len(testdedx_other_pions)):\n",
    "#     if f_train[i] > 0:\n",
    "#         testdedx_other_tracks_pions.append(testdedx_other_pions[i])\n",
    "\n",
    "# for i in range(len(testdedx_other_protons)):\n",
    "#     if f_train[i] > 0:\n",
    "#         testdedx_other_tracks_protons.append(testdedx_other_protons[i])\n",
    "        \n",
    "# for i in range(len(testdedx_other_muons)):\n",
    "#     if f_train[i] > 0:\n",
    "#         testdedx_other_tracks_muons.append(testdedx_other_muons[i])   "
   ]
  },
  {
   "cell_type": "code",
   "execution_count": 49,
   "metadata": {},
   "outputs": [],
   "source": [
    "trainangles_pions_t = np.array(trainangles_pions_tracks)\n",
    "trainangles_muons_t = np.array(trainangles_muons_tracks)\n",
    "trainangles_protons_t = np.array(trainangles_protons_tracks)\n",
    "trainangles_other_t_pions = np.array(trainangles_other_tracks_pions)\n",
    "trainangles_other_t_protons = np.array(trainangles_other_tracks_protons)\n",
    "trainangles_other_t_muons= np.array(trainangles_other_tracks_muons)\n",
    "trainenergy_pions_t = np.array(trainenergy_pions_tracks)\n",
    "trainenergy_muons_t = np.array(trainenergy_muons_tracks)\n",
    "trainenergy_protons_t = np.array(trainenergy_protons_tracks)\n",
    "trainenergy_other_t_pions = np.array(trainenergy_other_tracks_pions)\n",
    "trainenergy_other_t_protons = np.array(trainenergy_other_tracks_protons)\n",
    "trainenergy_other_t_muons = np.array(trainenergy_other_tracks_muons)\n",
    "trainbinfrac_pions_t = np.array(trainbinfrac_pions_tracks)\n",
    "trainbinfrac_muons_t = np.array(trainbinfrac_muons_tracks)\n",
    "trainbinfrac_protons_t = np.array(trainbinfrac_protons_tracks)\n",
    "trainbinfrac_other_t_pions = np.array(trainbinfrac_other_tracks_pions)\n",
    "trainbinfrac_other_t_protons = np.array(trainbinfrac_other_tracks_protons)\n",
    "trainbinfrac_other_t_muons = np.array(trainbinfrac_other_tracks_muons)\n",
    "trainrsq_pions_t = np.array(trainrsq_pions_tracks)\n",
    "trainrsq_muons_t = np.array(trainrsq_muons_tracks)\n",
    "trainrsq_protons_t = np.array(trainrsq_protons_tracks)\n",
    "trainrsq_other_t_pions = np.array(trainrsq_other_tracks_pions)\n",
    "trainrsq_other_t_protons = np.array(trainrsq_other_tracks_protons)\n",
    "trainrsq_other_t_muons = np.array(trainrsq_other_tracks_muons)\n",
    "# traindedx_pions_t = np.array(trainrsq_pions_tracks)\n",
    "# traindedx_muons_t = np.array(traindedx_muons_tracks)\n",
    "# traindedx_protons_t = np.array(traindedx_protons_tracks)\n",
    "# traindedx_other_t_pions = np.array(traindedx_other_tracks_pions)\n",
    "# traindedx_other_t_protons = np.array(traindedx_other_tracks_protons)\n",
    "# traindedx_other_t_muons = np.array(traindedx_other_tracks_muons)"
   ]
  },
  {
   "cell_type": "code",
   "execution_count": 50,
   "metadata": {},
   "outputs": [],
   "source": [
    "testangles_pions_t = np.array(testangles_pions_tracks)\n",
    "testangles_muons_t = np.array(testangles_muons_tracks)\n",
    "testangles_protons_t = np.array(testangles_protons_tracks)\n",
    "testangles_other_t_pions = np.array(testangles_other_tracks_pions)\n",
    "testangles_other_t_protons = np.array(testangles_other_tracks_protons)\n",
    "testangles_other_t_muons= np.array(testangles_other_tracks_muons)\n",
    "testenergy_pions_t = np.array(testenergy_pions_tracks)\n",
    "testenergy_muons_t = np.array(testenergy_muons_tracks)\n",
    "testenergy_protons_t = np.array(testenergy_protons_tracks)\n",
    "testenergy_other_t_pions = np.array(testenergy_other_tracks_pions)\n",
    "testenergy_other_t_protons = np.array(testenergy_other_tracks_protons)\n",
    "testenergy_other_t_muons = np.array(testenergy_other_tracks_muons)\n",
    "testbinfrac_pions_t = np.array(testbinfrac_pions_tracks)\n",
    "testbinfrac_muons_t = np.array(testbinfrac_muons_tracks)\n",
    "testbinfrac_protons_t = np.array(testbinfrac_protons_tracks)\n",
    "testbinfrac_other_t_pions = np.array(testbinfrac_other_tracks_pions)\n",
    "testbinfrac_other_t_protons = np.array(testbinfrac_other_tracks_protons)\n",
    "testbinfrac_other_t_muons = np.array(testbinfrac_other_tracks_muons)\n",
    "testrsq_pions_t = np.array(testrsq_pions_tracks)\n",
    "testrsq_muons_t = np.array(testrsq_muons_tracks)\n",
    "testrsq_protons_t = np.array(testrsq_protons_tracks)\n",
    "testrsq_other_t_pions = np.array(testrsq_other_tracks_pions)\n",
    "testrsq_other_t_protons = np.array(testrsq_other_tracks_protons)\n",
    "testrsq_other_t_muons = np.array(testrsq_other_tracks_muons)\n",
    "# testdedx_pions_t = np.array(testrsq_pions_tracks)\n",
    "# testdedx_muons_t = np.array(testdedx_muons_tracks)\n",
    "# testdedx_protons_t = np.array(testdedx_protons_tracks)\n",
    "# testdedx_other_t_pions = np.array(testdedx_other_tracks_pions)\n",
    "# testdedx_other_t_protons = np.array(testdedx_other_tracks_protons)\n",
    "# testdedx_other_t_muons = np.array(testdedx_other_tracks_muons)"
   ]
  },
  {
   "cell_type": "code",
   "execution_count": 51,
   "metadata": {},
   "outputs": [],
   "source": [
    "np.save('trainangles_pions_t.npy', trainangles_pions_t)\n",
    "np.save('trainangles_muons_t.npy', trainangles_muons_t) \n",
    "np.save('trainangles_protons_t.npy', trainangles_protons_t)\n",
    "np.save('trainangles_other_t_pions.npy', trainangles_other_t_pions)\n",
    "np.save('trainangles_other_t_protons.npy', trainangles_other_t_protons)\n",
    "np.save('trainangles_other_t_muons.npy', trainangles_other_t_muons)\n",
    "np.save('trainenergy_pions_t.npy', trainenergy_pions_t) \n",
    "np.save('trainenergy_muons_t.npy', trainenergy_muons_t)\n",
    "np.save('trainenergy_protons_t.npy', trainenergy_protons_t)\n",
    "np.save('trainenergy_other_t_pions.npy', trainenergy_other_t_pions)\n",
    "np.save('trainenergy_other_t_protons.npy', trainenergy_other_t_protons)\n",
    "np.save('trainenergy_other_t_muons.npy', trainenergy_other_t_muons)\n",
    "np.save('trainbinfrac_pions_t.npy', trainbinfrac_pions_t) \n",
    "np.save('trainbinfrac_muons_t.npy', trainbinfrac_muons_t)\n",
    "np.save('trainbinfrac_protons_t.npy', trainbinfrac_protons_t)\n",
    "np.save('trainbinfrac_other_t_pions.npy', trainbinfrac_other_t_pions)\n",
    "np.save('trainbinfrac_other_t_protons.npy', trainbinfrac_other_t_protons)\n",
    "np.save('trainbinfrac_other_t_muons.npy', trainbinfrac_other_t_muons)\n",
    "np.save('trainrsq_pions_t.npy', trainrsq_pions_t) \n",
    "np.save('trainrsq_muons_t.npy', trainrsq_muons_t) \n",
    "np.save('trainrsq_protons_t.npy', trainrsq_protons_t) \n",
    "np.save('trainrsq_other_t_pions.npy', trainrsq_other_t_pions)\n",
    "np.save('trainrsq_other_t_protons.npy', trainrsq_other_t_protons)\n",
    "np.save('trainrsq_other_t_muons.npy', trainrsq_other_t_muons)\n",
    "# np.save('traindedx_pions_t.npy', trainrsq_pions_t) \n",
    "# np.save('traindedx_muons_t.npy', traindedx_muons_t) \n",
    "# np.save('traindedx_protons_t.npy', traindedx_protons_t) \n",
    "# np.save('traindedx_other_t_pions.npy', traindedx_other_t_pions)\n",
    "# np.save('traindedx_other_t_protons.npy', traindedx_other_t_protons)\n",
    "# np.save('traindedx_other_t_muons.npy', traindedx_other_t_muons)"
   ]
  },
  {
   "cell_type": "code",
   "execution_count": 52,
   "metadata": {},
   "outputs": [],
   "source": [
    "np.save('testangles_pions_t.npy', testangles_pions_t)\n",
    "np.save('testangles_muons_t.npy', testangles_muons_t) \n",
    "np.save('testangles_protons_t.npy', testangles_protons_t)\n",
    "np.save('testangles_other_t_pions.npy', testangles_other_t_pions)\n",
    "np.save('testangles_other_t_protons.npy', testangles_other_t_protons)\n",
    "np.save('testangles_other_t_muons.npy', testangles_other_t_muons)\n",
    "np.save('testenergy_pions_t.npy', testenergy_pions_t) \n",
    "np.save('testenergy_muons_t.npy', testenergy_muons_t)\n",
    "np.save('testenergy_protons_t.npy', testenergy_protons_t)\n",
    "np.save('testenergy_other_t_pions.npy', testenergy_other_t_pions)\n",
    "np.save('testenergy_other_t_protons.npy', testenergy_other_t_protons)\n",
    "np.save('testenergy_other_t_muons.npy', testenergy_other_t_muons)\n",
    "np.save('testbinfrac_pions_t.npy', testbinfrac_pions_t) \n",
    "np.save('testbinfrac_muons_t.npy', testbinfrac_muons_t)\n",
    "np.save('testbinfrac_protons_t.npy', testbinfrac_protons_t)\n",
    "np.save('testbinfrac_other_t_pions.npy', testbinfrac_other_t_pions)\n",
    "np.save('testbinfrac_other_t_protons.npy', testbinfrac_other_t_protons)\n",
    "np.save('testbinfrac_other_t_muons.npy', testbinfrac_other_t_muons)\n",
    "np.save('testrsq_pions_t.npy', testrsq_pions_t) \n",
    "np.save('testrsq_muons_t.npy', testrsq_muons_t) \n",
    "np.save('testrsq_protons_t.npy', testrsq_protons_t) \n",
    "np.save('testrsq_other_t_pions.npy', testrsq_other_t_pions)\n",
    "np.save('testrsq_other_t_protons.npy', testrsq_other_t_protons)\n",
    "np.save('testrsq_other_t_muons.npy', testrsq_other_t_muons)\n",
    "# np.save('testdedx_pions_t.npy', testrsq_pions_t) \n",
    "# np.save('testdedx_muons_t.npy', testdedx_muons_t) \n",
    "# np.save('testdedx_protons_t.npy', testdedx_protons_t) \n",
    "# np.save('testdedx_other_t_pions.npy', testdedx_other_t_pions)\n",
    "# np.save('testdedx_other_t_protons.npy', testdedx_other_t_protons)\n",
    "# np.save('testdedx_other_t_muons.npy', testdedx_other_t_muonstest"
   ]
  },
  {
   "cell_type": "code",
   "execution_count": 53,
   "metadata": {},
   "outputs": [],
   "source": [
    "pion_angles = np.load('trainangles_pions_t.npy')\n",
    "muon_angles = np.load('trainangles_muons_t.npy')\n",
    "proton_angles = np.load('trainangles_protons_t.npy')\n",
    "other_angles_pions = np.load('trainangles_other_t_pions.npy')\n",
    "other_angles_protons = np.load('trainangles_other_t_protons.npy')\n",
    "other_angles_muons = np.load('trainangles_other_t_muons.npy')"
   ]
  },
  {
   "cell_type": "code",
   "execution_count": 54,
   "metadata": {},
   "outputs": [],
   "source": [
    "weight_pion_angles = np.ones_like(pion_angles) / len(pion_angles)\n",
    "weight_muon_angles = np.ones_like(muon_angles) / len(muon_angles)\n",
    "weight_proton_angles = np.ones_like(proton_angles) / len(proton_angles)\n",
    "weight_other_angles_pions = np.ones_like(other_angles_pions) / len(other_angles_pions)"
   ]
  },
  {
   "cell_type": "code",
   "execution_count": 55,
   "metadata": {},
   "outputs": [],
   "source": [
    "pion_energies = np.load('trainenergy_pions_t.npy')\n",
    "muon_energies = np.load('trainenergy_muons_t.npy')\n",
    "proton_energies = np.load('trainenergy_protons_t.npy')\n",
    "other_energies_pions = np.load('trainenergy_other_t_pions.npy')\n",
    "other_energies_protons = np.load('trainenergy_other_t_protons.npy')\n",
    "other_energies_muons = np.load('trainenergy_other_t_muons.npy')"
   ]
  },
  {
   "cell_type": "code",
   "execution_count": 56,
   "metadata": {},
   "outputs": [],
   "source": [
    "weight_pion_energies = np.ones_like(pion_energies) / len(pion_energies)\n",
    "weight_muon_energies = np.ones_like(muon_energies) / len(muon_energies)\n",
    "weight_proton_energies = np.ones_like(proton_energies) / len(proton_energies)\n",
    "weight_other_energies_pions = np.ones_like(other_energies_pions) / len(other_energies_pions)"
   ]
  },
  {
   "cell_type": "code",
   "execution_count": 57,
   "metadata": {},
   "outputs": [],
   "source": [
    "pion_binfrac = np.load('trainbinfrac_pions_t.npy')\n",
    "muon_binfrac = np.load('trainbinfrac_muons_t.npy')\n",
    "proton_binfrac = np.load('trainbinfrac_protons_t.npy')\n",
    "other_binfrac_pions = np.load('trainbinfrac_other_t_pions.npy')\n",
    "other_binfrac_protons = np.load('trainbinfrac_other_t_protons.npy')\n",
    "other_binfrac_muons = np.load('trainbinfrac_other_t_muons.npy')"
   ]
  },
  {
   "cell_type": "code",
   "execution_count": 58,
   "metadata": {},
   "outputs": [],
   "source": [
    "weight_pion_binfrac = np.ones_like(pion_binfrac) / len(pion_binfrac)\n",
    "weight_muon_binfrac = np.ones_like(muon_binfrac) / len(muon_binfrac)\n",
    "weight_proton_binfrac = np.ones_like(proton_binfrac) / len(proton_binfrac)\n",
    "weight_other_binfrac_pions = np.ones_like(other_binfrac_pions) / len(other_binfrac_pions)"
   ]
  },
  {
   "cell_type": "code",
   "execution_count": 59,
   "metadata": {},
   "outputs": [],
   "source": [
    "pion_rsq = np.load('trainrsq_pions_t.npy')\n",
    "muon_rsq = np.load('trainrsq_muons_t.npy')\n",
    "proton_rsq = np.load('trainrsq_protons_t.npy')\n",
    "other_rsq_pions = np.load('trainrsq_other_t_pions.npy')\n",
    "other_rsq_protons = np.load('trainrsq_other_t_protons.npy')\n",
    "other_rsq_muons = np.load('trainrsq_other_t_muons.npy')"
   ]
  },
  {
   "cell_type": "code",
   "execution_count": 60,
   "metadata": {},
   "outputs": [],
   "source": [
    "weight_pion_rsq = np.ones_like(pion_rsq) / len(pion_rsq)\n",
    "weight_muon_rsq = np.ones_like(muon_rsq) / len(muon_rsq)\n",
    "weight_proton_rsq = np.ones_like(proton_rsq) / len(proton_rsq)\n",
    "weight_other_rsq_pions = np.ones_like(other_rsq_pions) / len(other_rsq_pions)"
   ]
  },
  {
   "cell_type": "code",
   "execution_count": 61,
   "metadata": {},
   "outputs": [
    {
     "data": {
      "image/png": "[encoded data removed]",
      "text/plain": [
       "<Figure size 1440x720 with 4 Axes>"
      ]
     },
     "metadata": {
      "needs_background": "light"
     },
     "output_type": "display_data"
    }
   ],
   "source": [
    "plt.figure(1,figsize=(20,10))\n",
    "\n",
    "plt.subplot(2, 2, 1)\n",
    "plt.hist(pion_angles, 100, weights = weight_pion_angles, histtype = u'step', label = r'$\\pi^{+/-}$', color = 'orange')\n",
    "plt.hist(other_angles_pions, 100, weights = weight_other_angles_pions, histtype = u'step', label = 'Other', color = 'k')\n",
    "plt.xlabel('Angle (degrees)', fontsize=20)\n",
    "plt.ylabel('Events', fontsize=20)\n",
    "plt.legend()\n",
    "\n",
    "plt.subplot(2, 2, 2)\n",
    "plt.hist(pion_energies, 100, weights = weight_pion_energies, histtype = u'step', label = r'$\\pi^{+/-}$', color = 'orange')\n",
    "plt.hist(other_energies_pions, 100, weights = weight_other_energies_pions, histtype = u'step', label = 'Other', color = 'k')\n",
    "plt.xlabel('Energy fraction in final 20% of hits (ADC)', fontsize=20)\n",
    "plt.ylabel('Events', fontsize=20)\n",
    "plt.legend()\n",
    "\n",
    "plt.subplot(2, 2, 3)\n",
    "plt.hist(pion_binfrac, 100, weights = weight_pion_binfrac, histtype = u'step', label = r'$\\pi^{+/-}$', color = 'orange')\n",
    "plt.hist(other_binfrac_pions, 100, weights = weight_other_binfrac_pions, histtype = u'step', label = 'Other', color = 'k')\n",
    "plt.xlabel('Bin fraction in final 20% of hits', fontsize=20)\n",
    "plt.ylabel('Events', fontsize=20)\n",
    "plt.legend()\n",
    "\n",
    "plt.subplot(2, 2, 4)\n",
    "plt.hist(pion_rsq, 100, weights = weight_pion_rsq, histtype = u'step', label = r'$\\pi^{+/-}$', color = 'orange')\n",
    "plt.hist(other_rsq_pions, 100, weights = weight_other_rsq_pions, histtype = u'step', label = 'Other', color = 'k')\n",
    "plt.xlabel('R squared', fontsize=20)\n",
    "plt.ylabel('Events', fontsize=20)\n",
    "plt.legend()\n",
    "\n",
    "plt.show()"
   ]
  },
  {
   "cell_type": "code",
   "execution_count": 62,
   "metadata": {},
   "outputs": [],
   "source": [
    "muon_angles = np.load('trainangles_muons_t.npy')\n",
    "muon_angles = np.load('trainangles_muons_t.npy')\n",
    "proton_angles = np.load('trainangles_protons_t.npy')\n",
    "other_angles_muons = np.load('trainangles_other_t_muons.npy')\n",
    "other_angles_protons = np.load('trainangles_other_t_protons.npy')\n",
    "other_angles_muons = np.load('trainangles_other_t_muons.npy')"
   ]
  },
  {
   "cell_type": "code",
   "execution_count": 63,
   "metadata": {},
   "outputs": [],
   "source": [
    "weight_muon_angles = np.ones_like(muon_angles) / len(muon_angles)\n",
    "weight_muon_angles = np.ones_like(muon_angles) / len(muon_angles)\n",
    "weight_proton_angles = np.ones_like(proton_angles) / len(proton_angles)\n",
    "weight_other_angles_muons = np.ones_like(other_angles_muons) / len(other_angles_muons)"
   ]
  },
  {
   "cell_type": "code",
   "execution_count": 64,
   "metadata": {},
   "outputs": [],
   "source": [
    "muon_energies = np.load('trainenergy_muons_t.npy')\n",
    "muon_energies = np.load('trainenergy_muons_t.npy')\n",
    "proton_energies = np.load('trainenergy_protons_t.npy')\n",
    "other_energies_muons = np.load('trainenergy_other_t_muons.npy')\n",
    "other_energies_protons = np.load('trainenergy_other_t_protons.npy')\n",
    "other_energies_muons = np.load('trainenergy_other_t_muons.npy')"
   ]
  },
  {
   "cell_type": "code",
   "execution_count": 65,
   "metadata": {},
   "outputs": [],
   "source": [
    "weight_muon_energies = np.ones_like(muon_energies) / len(muon_energies)\n",
    "weight_muon_energies = np.ones_like(muon_energies) / len(muon_energies)\n",
    "weight_proton_energies = np.ones_like(proton_energies) / len(proton_energies)\n",
    "weight_other_energies_muons = np.ones_like(other_energies_muons) / len(other_energies_muons)"
   ]
  },
  {
   "cell_type": "code",
   "execution_count": 66,
   "metadata": {},
   "outputs": [],
   "source": [
    "muon_binfrac = np.load('trainbinfrac_muons_t.npy')\n",
    "muon_binfrac = np.load('trainbinfrac_muons_t.npy')\n",
    "proton_binfrac = np.load('trainbinfrac_protons_t.npy')\n",
    "other_binfrac_muons = np.load('trainbinfrac_other_t_muons.npy')\n",
    "other_binfrac_protons = np.load('trainbinfrac_other_t_protons.npy')\n",
    "other_binfrac_muons = np.load('trainbinfrac_other_t_muons.npy')"
   ]
  },
  {
   "cell_type": "code",
   "execution_count": 67,
   "metadata": {},
   "outputs": [],
   "source": [
    "weight_muon_binfrac = np.ones_like(muon_binfrac) / len(muon_binfrac)\n",
    "weight_muon_binfrac = np.ones_like(muon_binfrac) / len(muon_binfrac)\n",
    "weight_proton_binfrac = np.ones_like(proton_binfrac) / len(proton_binfrac)\n",
    "weight_other_binfrac_muons = np.ones_like(other_binfrac_muons) / len(other_binfrac_muons)"
   ]
  },
  {
   "cell_type": "code",
   "execution_count": 68,
   "metadata": {},
   "outputs": [],
   "source": [
    "muon_rsq = np.load('trainrsq_muons_t.npy')\n",
    "muon_rsq = np.load('trainrsq_muons_t.npy')\n",
    "proton_rsq = np.load('trainrsq_protons_t.npy')\n",
    "other_rsq_muons = np.load('trainrsq_other_t_muons.npy')\n",
    "other_rsq_protons = np.load('trainrsq_other_t_protons.npy')\n",
    "other_rsq_muons = np.load('trainrsq_other_t_muons.npy')"
   ]
  },
  {
   "cell_type": "code",
   "execution_count": 69,
   "metadata": {},
   "outputs": [],
   "source": [
    "weight_muon_rsq = np.ones_like(muon_rsq) / len(muon_rsq)\n",
    "weight_muon_rsq = np.ones_like(muon_rsq) / len(muon_rsq)\n",
    "weight_proton_rsq = np.ones_like(proton_rsq) / len(proton_rsq)\n",
    "weight_other_rsq_muons = np.ones_like(other_rsq_muons) / len(other_rsq_muons)"
   ]
  },
  {
   "cell_type": "code",
   "execution_count": 70,
   "metadata": {
    "scrolled": false
   },
   "outputs": [
    {
     "data": {
      "image/png": "[encoded data removed]",
      "text/plain": [
       "<Figure size 1440x720 with 4 Axes>"
      ]
     },
     "metadata": {
      "needs_background": "light"
     },
     "output_type": "display_data"
    }
   ],
   "source": [
    "plt.figure(1,figsize=(20,10))\n",
    "\n",
    "plt.subplot(2, 2, 1)\n",
    "plt.hist(muon_angles, 100, weights = weight_muon_angles, histtype = u'step', label = r'$\\mu^{+/-}$', color = 'r')\n",
    "plt.hist(other_angles_muons, 100, weights = weight_other_angles_muons, histtype = u'step', label = 'Other', color = 'k')\n",
    "plt.xlabel('Angle (degrees)', fontsize=20)\n",
    "plt.ylabel('Events', fontsize=20)\n",
    "plt.legend()\n",
    "\n",
    "plt.subplot(2, 2, 2)\n",
    "plt.hist(muon_energies, 100, weights = weight_muon_energies, histtype = u'step', label = r'$\\mu^{+/-}$', color = 'r')\n",
    "plt.hist(other_energies_muons, 100, weights = weight_other_energies_muons, histtype = u'step', label = 'Other', color = 'k')\n",
    "plt.xlabel('Energy fraction in final 20% of hits (ADC)', fontsize=20)\n",
    "plt.ylabel('Events', fontsize=20)\n",
    "plt.legend()\n",
    "\n",
    "plt.subplot(2, 2, 3)\n",
    "plt.hist(muon_binfrac, 100, weights = weight_muon_binfrac, histtype = u'step', label = r'$\\mu^{+/-}$', color = 'r')\n",
    "plt.hist(other_binfrac_muons, 100, weights = weight_other_binfrac_muons, histtype = u'step', label = 'Other', color = 'k')\n",
    "plt.xlabel('Bin fraction in final 20% of hits', fontsize=20)\n",
    "plt.ylabel('Events', fontsize=20)\n",
    "plt.legend()\n",
    "\n",
    "plt.subplot(2, 2, 4)\n",
    "plt.hist(muon_rsq, 100, weights = weight_muon_rsq, histtype = u'step', label = r'$\\mu^{+/-}$', color = 'r')\n",
    "plt.hist(other_rsq_muons, 100, weights = weight_other_rsq_muons, histtype = u'step', label = 'Other', color = 'k')\n",
    "plt.xlabel('R squared', fontsize=20)\n",
    "plt.ylabel('Events', fontsize=20)\n",
    "plt.legend()\n",
    "\n",
    "plt.show()"
   ]
  },
  {
   "cell_type": "code",
   "execution_count": 71,
   "metadata": {},
   "outputs": [],
   "source": [
    "proton_angles = np.load('trainangles_protons_t.npy')\n",
    "proton_angles = np.load('trainangles_protons_t.npy')\n",
    "proton_angles = np.load('trainangles_protons_t.npy')\n",
    "other_angles_protons = np.load('trainangles_other_t_protons.npy')\n",
    "other_angles_protons = np.load('trainangles_other_t_protons.npy')\n",
    "other_angles_protons = np.load('trainangles_other_t_protons.npy')"
   ]
  },
  {
   "cell_type": "code",
   "execution_count": 72,
   "metadata": {},
   "outputs": [],
   "source": [
    "weight_proton_angles = np.ones_like(proton_angles) / len(proton_angles)\n",
    "weight_proton_angles = np.ones_like(proton_angles) / len(proton_angles)\n",
    "weight_proton_angles = np.ones_like(proton_angles) / len(proton_angles)\n",
    "weight_other_angles_protons = np.ones_like(other_angles_protons) / len(other_angles_protons)"
   ]
  },
  {
   "cell_type": "code",
   "execution_count": 73,
   "metadata": {},
   "outputs": [],
   "source": [
    "proton_energies = np.load('trainenergy_protons_t.npy')\n",
    "proton_energies = np.load('trainenergy_protons_t.npy')\n",
    "proton_energies = np.load('trainenergy_protons_t.npy')\n",
    "other_energies_protons = np.load('trainenergy_other_t_protons.npy')\n",
    "other_energies_protons = np.load('trainenergy_other_t_protons.npy')\n",
    "other_energies_protons = np.load('trainenergy_other_t_protons.npy')"
   ]
  },
  {
   "cell_type": "code",
   "execution_count": 74,
   "metadata": {},
   "outputs": [],
   "source": [
    "weight_proton_energies = np.ones_like(proton_energies) / len(proton_energies)\n",
    "weight_proton_energies = np.ones_like(proton_energies) / len(proton_energies)\n",
    "weight_proton_energies = np.ones_like(proton_energies) / len(proton_energies)\n",
    "weight_other_energies_protons = np.ones_like(other_energies_protons) / len(other_energies_protons)"
   ]
  },
  {
   "cell_type": "code",
   "execution_count": 75,
   "metadata": {},
   "outputs": [],
   "source": [
    "proton_binfrac = np.load('trainbinfrac_protons_t.npy')\n",
    "proton_binfrac = np.load('trainbinfrac_protons_t.npy')\n",
    "proton_binfrac = np.load('trainbinfrac_protons_t.npy')\n",
    "other_binfrac_protons = np.load('trainbinfrac_other_t_protons.npy')\n",
    "other_binfrac_protons = np.load('trainbinfrac_other_t_protons.npy')\n",
    "other_binfrac_protons = np.load('trainbinfrac_other_t_protons.npy')"
   ]
  },
  {
   "cell_type": "code",
   "execution_count": 76,
   "metadata": {},
   "outputs": [],
   "source": [
    "weight_proton_binfrac = np.ones_like(proton_binfrac) / len(proton_binfrac)\n",
    "weight_proton_binfrac = np.ones_like(proton_binfrac) / len(proton_binfrac)\n",
    "weight_proton_binfrac = np.ones_like(proton_binfrac) / len(proton_binfrac)\n",
    "weight_other_binfrac_protons = np.ones_like(other_binfrac_protons) / len(other_binfrac_protons)"
   ]
  },
  {
   "cell_type": "code",
   "execution_count": 77,
   "metadata": {},
   "outputs": [],
   "source": [
    "proton_rsq = np.load('trainrsq_protons_t.npy')\n",
    "proton_rsq = np.load('trainrsq_protons_t.npy')\n",
    "proton_rsq = np.load('trainrsq_protons_t.npy')\n",
    "other_rsq_protons = np.load('trainrsq_other_t_protons.npy')\n",
    "other_rsq_protons = np.load('trainrsq_other_t_protons.npy')\n",
    "other_rsq_protons = np.load('trainrsq_other_t_protons.npy')"
   ]
  },
  {
   "cell_type": "code",
   "execution_count": 78,
   "metadata": {},
   "outputs": [],
   "source": [
    "weight_proton_rsq = np.ones_like(proton_rsq) / len(proton_rsq)\n",
    "weight_proton_rsq = np.ones_like(proton_rsq) / len(proton_rsq)\n",
    "weight_proton_rsq = np.ones_like(proton_rsq) / len(proton_rsq)\n",
    "weight_other_rsq_protons = np.ones_like(other_rsq_protons) / len(other_rsq_protons)"
   ]
  },
  {
   "cell_type": "code",
   "execution_count": 79,
   "metadata": {},
   "outputs": [
    {
     "data": {
      "image/png": "[encoded data removed]",
      "text/plain": [
       "<Figure size 1440x720 with 4 Axes>"
      ]
     },
     "metadata": {
      "needs_background": "light"
     },
     "output_type": "display_data"
    }
   ],
   "source": [
    "plt.figure(1,figsize=(20,10))\n",
    "\n",
    "plt.subplot(2, 2, 1)\n",
    "plt.hist(proton_angles, 100, weights = weight_proton_angles, histtype = u'step', label = r'$p$', color = 'b')\n",
    "plt.hist(other_angles_protons, 100, weights = weight_other_angles_protons, histtype = u'step', label = 'Other', color = 'k')\n",
    "plt.xlabel('Angle (degrees)', fontsize=20)\n",
    "plt.ylabel('Events', fontsize=20)\n",
    "plt.legend()\n",
    "\n",
    "plt.subplot(2, 2, 2)\n",
    "plt.hist(proton_energies, 100, weights = weight_proton_energies, histtype = u'step', label = r'$p$', color = 'b')\n",
    "plt.hist(other_energies_protons, 100, weights = weight_other_energies_protons, histtype = u'step', label = 'Other', color = 'k')\n",
    "plt.xlabel('Energy fraction in final 20% of hits (ADC)', fontsize=20)\n",
    "plt.ylabel('Events', fontsize=20)\n",
    "plt.legend()\n",
    "\n",
    "plt.subplot(2, 2, 3)\n",
    "plt.hist(proton_binfrac, 100, weights = weight_proton_binfrac, histtype = u'step', label = r'$p$', color = 'b')\n",
    "plt.hist(other_binfrac_protons, 100, weights = weight_other_binfrac_protons, histtype = u'step', label = 'Other', color = 'k')\n",
    "plt.xlabel('Bin fraction in final 20% of hits', fontsize=20)\n",
    "plt.ylabel('Events', fontsize=20)\n",
    "plt.legend()\n",
    "\n",
    "plt.subplot(2, 2, 4)\n",
    "plt.hist(proton_rsq, 100, weights = weight_proton_rsq, histtype = u'step', label = r'$p$', color = 'b')\n",
    "plt.hist(other_rsq_protons, 100, weights = weight_other_rsq_protons, histtype = u'step', label = 'Other', color = 'k')\n",
    "plt.xlabel('R squared', fontsize=20)\n",
    "plt.ylabel('Events', fontsize=20)\n",
    "plt.legend()\n",
    "\n",
    "plt.show()"
   ]
  },
  {
   "cell_type": "code",
   "execution_count": 80,
   "metadata": {
    "scrolled": false
   },
   "outputs": [
    {
     "data": {
      "image/png": "[encoded data removed]",
      "text/plain": [
       "<Figure size 1440x720 with 3 Axes>"
      ]
     },
     "metadata": {
      "needs_background": "light"
     },
     "output_type": "display_data"
    }
   ],
   "source": [
    "plt.figure(1,figsize=(20,10))\n",
    "\n",
    "plt.subplot(2, 2, 1)\n",
    "plt.hist(pion_energies, 100, weights = weight_pion_energies, histtype = u'step', label = r'$\\pi^{+/-}$', color = 'orange')\n",
    "plt.hist(other_energies_pions, 100, weights = weight_other_energies_pions, histtype = u'step', label = 'Other', color = 'k')\n",
    "plt.xlabel('Energy fraction in final 20% of hits (ADC)', fontsize=15)\n",
    "plt.ylabel('Events', fontsize=15)\n",
    "plt.legend()\n",
    "\n",
    "plt.subplot(2, 2, 2)\n",
    "plt.hist(muon_energies, 100, weights = weight_muon_energies, histtype = u'step', label = r'$\\mu^{+/-}$', color = 'r')\n",
    "plt.hist(other_energies_muons, 100, weights = weight_other_energies_muons, histtype = u'step', label = 'Other', color = 'k')\n",
    "plt.xlabel('Energy fraction in final 20% of hits (ADC)', fontsize=15)\n",
    "plt.ylabel('Events', fontsize=15)\n",
    "plt.legend()\n",
    "\n",
    "plt.subplot(2, 2, 3)\n",
    "plt.hist(proton_energies, 100, weights = weight_proton_energies, histtype = u'step', label = r'$p$', color = 'b')\n",
    "plt.hist(other_energies_protons, 100, weights = weight_other_energies_protons, histtype = u'step', label = 'Other', color = 'k')\n",
    "plt.xlabel('Energy fraction in final 20% of hits (ADC)', fontsize=15)\n",
    "plt.ylabel('Events', fontsize=15)\n",
    "plt.legend()\n",
    "\n",
    "plt.show()"
   ]
  },
  {
   "cell_type": "code",
   "execution_count": 221,
   "metadata": {},
   "outputs": [],
   "source": [
    "#BDT classes predicted by individual BDTs\n",
    "muon_pred_train = np.load('muon_pred_train.npy')\n",
    "pion_pred_train = np.load('pion_pred_train.npy')\n",
    "proton_pred_train = np.load('proton_pred_train.npy')"
   ]
  },
  {
   "cell_type": "code",
   "execution_count": 222,
   "metadata": {},
   "outputs": [],
   "source": [
    "muon_pred_test = np.load('muon_pred_test.npy')\n",
    "pion_pred_test = np.load('pion_pred_test.npy')\n",
    "proton_pred_test = np.load('proton_pred_test.npy')"
   ]
  },
  {
   "cell_type": "code",
   "execution_count": 223,
   "metadata": {},
   "outputs": [],
   "source": [
    "preds = np.array(list(zip(muon_pred_train, pion_pred_train, proton_pred_train)))"
   ]
  },
  {
   "cell_type": "code",
   "execution_count": 224,
   "metadata": {},
   "outputs": [],
   "source": [
    "preds_test = np.array(list(zip(muon_pred_test, pion_pred_test, proton_pred_test)))"
   ]
  },
  {
   "cell_type": "code",
   "execution_count": 225,
   "metadata": {},
   "outputs": [],
   "source": [
    "#Where the muon BDT predicted a muon\n",
    "pred_muon_train = np.where(preds == 13)[0]"
   ]
  },
  {
   "cell_type": "code",
   "execution_count": 226,
   "metadata": {},
   "outputs": [],
   "source": [
    "pred_pion_train = np.where(preds == 211)[0]"
   ]
  },
  {
   "cell_type": "code",
   "execution_count": 227,
   "metadata": {},
   "outputs": [],
   "source": [
    "pred_proton_train = np.where(preds == 2212)[0]"
   ]
  },
  {
   "cell_type": "code",
   "execution_count": 228,
   "metadata": {},
   "outputs": [],
   "source": [
    "pred_muon_test = np.where(preds_test == 13)[0]"
   ]
  },
  {
   "cell_type": "code",
   "execution_count": 229,
   "metadata": {},
   "outputs": [],
   "source": [
    "pred_pion_test = np.where(preds_test == 211)[0]"
   ]
  },
  {
   "cell_type": "code",
   "execution_count": 230,
   "metadata": {},
   "outputs": [],
   "source": [
    "pred_proton_test = np.where(preds_test == 2212)[0]"
   ]
  },
  {
   "cell_type": "code",
   "execution_count": 190,
   "metadata": {
    "scrolled": false
   },
   "outputs": [
    {
     "data": {
      "text/plain": [
       "0.4949550214395684"
      ]
     },
     "execution_count": 190,
     "metadata": {},
     "output_type": "execute_result"
    }
   ],
   "source": [
    "#Percentage of PFOs predicted as both muon and pion\n",
    "(len(np.intersect1d(pred_muon_train, pred_pion_train)) / len(preds)) * 100"
   ]
  },
  {
   "cell_type": "code",
   "execution_count": 192,
   "metadata": {},
   "outputs": [
    {
     "data": {
      "text/plain": [
       "0.4529665491837695"
      ]
     },
     "execution_count": 192,
     "metadata": {},
     "output_type": "execute_result"
    }
   ],
   "source": [
    "(len(np.intersect1d(pred_proton_train, pred_pion_train)) / len(preds)) * 100"
   ]
  },
  {
   "cell_type": "code",
   "execution_count": 193,
   "metadata": {},
   "outputs": [
    {
     "data": {
      "text/plain": [
       "3.3578054025167634"
      ]
     },
     "execution_count": 193,
     "metadata": {},
     "output_type": "execute_result"
    }
   ],
   "source": [
    "(len(np.intersect1d(pred_muon_train, pred_proton_train)) / len(preds)) * 100"
   ]
  },
  {
   "cell_type": "code",
   "execution_count": 191,
   "metadata": {},
   "outputs": [
    {
     "data": {
      "text/plain": [
       "0.053439873780107644"
      ]
     },
     "execution_count": 191,
     "metadata": {},
     "output_type": "execute_result"
    }
   ],
   "source": [
    "(len(set.intersection(set(pred_muon_train), set(pred_pion_train), set(pred_proton_train))) / len(preds)) * 100"
   ]
  },
  {
   "cell_type": "code",
   "execution_count": 231,
   "metadata": {
    "scrolled": false
   },
   "outputs": [
    {
     "data": {
      "text/plain": [
       "0.34608680162355426"
      ]
     },
     "execution_count": 231,
     "metadata": {},
     "output_type": "execute_result"
    }
   ],
   "source": [
    "(len(np.intersect1d(pred_muon_test, pred_pion_test)) / len(preds)) * 100"
   ]
  },
  {
   "cell_type": "code",
   "execution_count": 232,
   "metadata": {},
   "outputs": [
    {
     "data": {
      "text/plain": [
       "0.31809448678635505"
      ]
     },
     "execution_count": 232,
     "metadata": {},
     "output_type": "execute_result"
    }
   ],
   "source": [
    "(len(np.intersect1d(pred_proton_test, pred_pion_test)) / len(preds)) * 100"
   ]
  },
  {
   "cell_type": "code",
   "execution_count": 233,
   "metadata": {},
   "outputs": [
    {
     "data": {
      "text/plain": [
       "2.729250696626926"
      ]
     },
     "execution_count": 233,
     "metadata": {},
     "output_type": "execute_result"
    }
   ],
   "source": [
    "(len(np.intersect1d(pred_muon_test, pred_proton_test)) / len(preds)) * 100"
   ]
  },
  {
   "cell_type": "code",
   "execution_count": 234,
   "metadata": {},
   "outputs": [
    {
     "data": {
      "text/plain": [
       "0.00890664563001794"
      ]
     },
     "execution_count": 234,
     "metadata": {},
     "output_type": "execute_result"
    }
   ],
   "source": [
    "(len(set.intersection(set(pred_muon_test), set(pred_pion_test), set(pred_proton_test))) / len(preds)) * 100"
   ]
  },
  {
   "cell_type": "code",
   "execution_count": 236,
   "metadata": {},
   "outputs": [],
   "source": [
    "muon_pion_train = np.intersect1d(pred_muon_train, pred_pion_train)"
   ]
  },
  {
   "cell_type": "code",
   "execution_count": 237,
   "metadata": {},
   "outputs": [],
   "source": [
    "proton_pion_train = np.intersect1d(pred_proton_train, pred_pion_train)"
   ]
  },
  {
   "cell_type": "code",
   "execution_count": 238,
   "metadata": {},
   "outputs": [],
   "source": [
    "muon_proton_train = np.intersect1d(pred_muon_train, pred_proton_train)"
   ]
  },
  {
   "cell_type": "code",
   "execution_count": 245,
   "metadata": {},
   "outputs": [],
   "source": [
    "muon_pion_test = np.intersect1d(pred_muon_test, pred_pion_test)"
   ]
  },
  {
   "cell_type": "code",
   "execution_count": 246,
   "metadata": {},
   "outputs": [],
   "source": [
    "proton_pion_test = np.intersect1d(pred_proton_test, pred_pion_test)"
   ]
  },
  {
   "cell_type": "code",
   "execution_count": 247,
   "metadata": {},
   "outputs": [],
   "source": [
    "muon_proton_test = np.intersect1d(pred_muon_test, pred_proton_test)"
   ]
  },
  {
   "cell_type": "code",
   "execution_count": 196,
   "metadata": {},
   "outputs": [],
   "source": [
    "wirePos_train = np.load('train_wirePos.npy')\n",
    "driftPos_train = np.load('train_driftPos.npy')"
   ]
  },
  {
   "cell_type": "code",
   "execution_count": 202,
   "metadata": {},
   "outputs": [],
   "source": [
    "wirePos_train_tracks = wirePos_train[tracks_train]\n",
    "driftPos_train_tracks = driftPos_train[tracks_train]"
   ]
  },
  {
   "cell_type": "code",
   "execution_count": 211,
   "metadata": {},
   "outputs": [
    {
     "data": {
      "image/png": "[encoded data removed]",
      "text/plain": [
       "<Figure size 1440x720 with 1 Axes>"
      ]
     },
     "metadata": {
      "needs_background": "light"
     },
     "output_type": "display_data"
    }
   ],
   "source": [
    "plt.figure(1,figsize=(20,10))\n",
    "plt.scatter(driftPos_train[27], wirePos_train[27], color = 'r')\n",
    "plt.title('Muon or Pion?', fontsize = 20)\n",
    "plt.xlabel('Drift position')\n",
    "plt.ylabel('Wire position (cm)')\n",
    "plt.show()"
   ]
  },
  {
   "cell_type": "code",
   "execution_count": 213,
   "metadata": {},
   "outputs": [
    {
     "data": {
      "image/png": "[encoded data removed]",
      "text/plain": [
       "<Figure size 1440x720 with 1 Axes>"
      ]
     },
     "metadata": {
      "needs_background": "light"
     },
     "output_type": "display_data"
    }
   ],
   "source": [
    "plt.figure(1,figsize=(20,10))\n",
    "plt.scatter(driftPos_train[16], wirePos_train[16], color = 'r')\n",
    "plt.title('Proton or Pion?', fontsize = 20)\n",
    "plt.xlabel('Drift position')\n",
    "plt.ylabel('Wire position (cm)')\n",
    "plt.show()"
   ]
  },
  {
   "cell_type": "code",
   "execution_count": 215,
   "metadata": {},
   "outputs": [
    {
     "data": {
      "image/png": "[encoded data removed]",
      "text/plain": [
       "<Figure size 1440x720 with 1 Axes>"
      ]
     },
     "metadata": {
      "needs_background": "light"
     },
     "output_type": "display_data"
    }
   ],
   "source": [
    "plt.figure(1,figsize=(20,10))\n",
    "plt.scatter(driftPos_train[74], wirePos_train[74], color = 'r')\n",
    "plt.title('Proton or Muon?', fontsize = 20)\n",
    "plt.xlabel('Drift position')\n",
    "plt.ylabel('Wire position (cm)')\n",
    "plt.show()"
   ]
  },
  {
   "cell_type": "markdown",
   "metadata": {},
   "source": [
    "# Muon vs Pion BDT"
   ]
  },
  {
   "cell_type": "code",
   "execution_count": 262,
   "metadata": {},
   "outputs": [],
   "source": [
    "pdg_muon_pion_train = pdg_train[muon_pion_train]"
   ]
  },
  {
   "cell_type": "code",
   "execution_count": 263,
   "metadata": {},
   "outputs": [],
   "source": [
    "pdg_muon_pion_test = pdg_test[muon_pion_test]"
   ]
  },
  {
   "cell_type": "code",
   "execution_count": 264,
   "metadata": {
    "collapsed": true
   },
   "outputs": [
    {
     "data": {
      "text/plain": [
       "array([2212, 2212, 2212, 2212,   13, 2212, 2212,   11, 2212,   13, 2212,\n",
       "         11,   13,   13,   11,   13,   22, 2212, 2212,   22,   22,   13,\n",
       "        211, 2212,   11,   11, 2212,   22, 2212,   22,   22,   11,   11,\n",
       "       2212, 2212,   13,   11, 2212,   11,   13,   13, 2212, 2212, 2212,\n",
       "         11,   11,   13,  211,   11,  211, 2212,   11,   13,   22, 2212,\n",
       "       2212,   22,   11, 2212, 2212, 2212,   13,   11,   11,   13,   11,\n",
       "         13,   11,   13,   11,   11,   13,   11,   13,   13, 2212,   13,\n",
       "         13,   13, 2212,  211,   22,   11,   11, 2212, 2212,   11,   11,\n",
       "         11, 2212,   13,   11,   22,  211,  211,   13, 2212,   13,   11,\n",
       "         11, 2212,   22, 2212,   22,   13,   11, 2212,   22,   11, 2212,\n",
       "         13,   11,   11,   11,   13,   11, 2212,   11,   13, 2212, 2212,\n",
       "         22,   13,   11,   13,   11,   11,   13,   13,   13,   13,   13,\n",
       "         11,   11,   11,   13, 2212,   13, 2212,   11,   13, 2212,   22,\n",
       "         22,   13,   13,   13,   11, 2212,   22,   13,   11,   13,   11,\n",
       "         11, 2212,   11,   13,   11, 2212,   13,   13,   22,   13,   22,\n",
       "       2212, 2212,   11, 2212, 2212,   11, 2212, 2212,   11,   11, 2212,\n",
       "         11, 2212,   13, 2212,   22,   13, 2212, 2212,   22,   22,   13,\n",
       "       2212,   13, 2212,   11, 2212,   13,   13,   13,   11,   11, 2212,\n",
       "        211,   13,   22,   11,   22,   11,   11,   11,  211,   11,   11,\n",
       "         13,   11,   11,   13,   13,   13,   11,  211,   11,   11, 2212,\n",
       "         13,   13,   13,   11, 2212,   11,   22,   22,   22,   11,   11,\n",
       "         13, 2212,   11,   13, 2212,   22,   11,   11,   13,   22,   13,\n",
       "         22, 2212,   13,   22,   11,   13,   13, 2212,   13,   13, 2212,\n",
       "         11, 2212,   11,  211,   11, 2212,   22, 2212,   13, 2212, 2212,\n",
       "       2212, 2212, 2212,   13, 2212,   13,   13,   11,   13,   11,   11,\n",
       "       2212,   11,   11, 2212,   11, 2212,  211,   11,   13, 2212, 2212,\n",
       "       2212, 2212, 2212,   13, 2212,   11,   13,   11, 2212, 2212, 2212,\n",
       "       2212, 2212,   11,   11,   22, 2212, 2212, 2212,   11,   22, 2212,\n",
       "         11,   11,   11,   13, 2212,   22, 2212,  211,   11,   11,   13,\n",
       "         13,   11,   11,   11, 2212,   13,   11,   11,   13,   13,   22,\n",
       "         22,   11, 2212,   13,   13, 2212, 2212,   11,   13,   11,   13,\n",
       "       2212, 2212,   11,   11,   13,   11,   11,  211, 2212,  211,   22,\n",
       "       2212,   13, 2212,   13,   11, 2212, 2212,   13,   11,   11, 2212,\n",
       "         22, 2212, 2212,  211,   13, 2212,   13,  211,   11, 2212,  211,\n",
       "       2212,   22, 2212,   22,   11,   11,   13,   13,   22,   13, 2212,\n",
       "         11,   13,   13,   11])"
      ]
     },
     "execution_count": 264,
     "metadata": {},
     "output_type": "execute_result"
    }
   ],
   "source": [
    "#Muon BDT and pion BDT classed these PFOs as either muons/pions\n",
    "#To do a muon vs pion BDT, remove all the non-muons and pions\n",
    "pdg_muon_pion_train"
   ]
  },
  {
   "cell_type": "code",
   "execution_count": 266,
   "metadata": {
    "scrolled": false
   },
   "outputs": [
    {
     "data": {
      "text/plain": [
       "389"
      ]
     },
     "execution_count": 266,
     "metadata": {},
     "output_type": "execute_result"
    }
   ],
   "source": [
    "len(pdg_muon_pion_train)"
   ]
  },
  {
   "cell_type": "code",
   "execution_count": 267,
   "metadata": {
    "scrolled": true
   },
   "outputs": [
    {
     "data": {
      "text/plain": [
       "{11, 13, 22, 211, 2212}"
      ]
     },
     "execution_count": 267,
     "metadata": {},
     "output_type": "execute_result"
    }
   ],
   "source": [
    "set(pdg_muon_pion_train)"
   ]
  },
  {
   "cell_type": "code",
   "execution_count": 282,
   "metadata": {
    "scrolled": true
   },
   "outputs": [
    {
     "data": {
      "text/plain": [
       "{11, 13, 22, 211, 321, 2112, 2212}"
      ]
     },
     "execution_count": 282,
     "metadata": {},
     "output_type": "execute_result"
    }
   ],
   "source": [
    "set(pdg_muon_pion_test)"
   ]
  },
  {
   "cell_type": "code",
   "execution_count": 283,
   "metadata": {},
   "outputs": [
    {
     "data": {
      "text/plain": [
       "272"
      ]
     },
     "execution_count": 283,
     "metadata": {},
     "output_type": "execute_result"
    }
   ],
   "source": [
    "len(pdg_muon_pion_test)"
   ]
  },
  {
   "cell_type": "code",
   "execution_count": 290,
   "metadata": {},
   "outputs": [],
   "source": [
    "for n, i in enumerate(pdg_muon_pion_train):\n",
    "    if i == 11:\n",
    "        pdg_muon_pion_train[n] = 0\n",
    "    elif i == 22:\n",
    "        pdg_muon_pion_train[n] = 0\n",
    "    elif i == 22: \n",
    "        pdg_muon_pion_train[n] = 0\n",
    "    elif i == 2212: \n",
    "        pdg_muon_pion_train[n] = 0"
   ]
  },
  {
   "cell_type": "code",
   "execution_count": 291,
   "metadata": {},
   "outputs": [],
   "source": [
    "for n, i in enumerate(pdg_muon_pion_test):\n",
    "    if i == 11:\n",
    "        pdg_muon_pion_test[n] = 0\n",
    "    elif i == 22:\n",
    "        pdg_muon_pion_test[n] = 0\n",
    "    elif i == 321: \n",
    "        pdg_muon_pion_test[n] = 0\n",
    "    elif i == 2212: \n",
    "        pdg_muon_pion_test[n] = 0\n",
    "    elif i == 2112: \n",
    "        pdg_muon_pion_test[n] = 0"
   ]
  },
  {
   "cell_type": "code",
   "execution_count": 292,
   "metadata": {
    "scrolled": true
   },
   "outputs": [
    {
     "data": {
      "text/plain": [
       "{0, 13, 211}"
      ]
     },
     "execution_count": 292,
     "metadata": {},
     "output_type": "execute_result"
    }
   ],
   "source": [
    "set(pdg_muon_pion_train)"
   ]
  },
  {
   "cell_type": "code",
   "execution_count": 293,
   "metadata": {},
   "outputs": [
    {
     "data": {
      "text/plain": [
       "{0, 13, 211}"
      ]
     },
     "execution_count": 293,
     "metadata": {},
     "output_type": "execute_result"
    }
   ],
   "source": [
    "set(pdg_muon_pion_test)"
   ]
  },
  {
   "cell_type": "code",
   "execution_count": 279,
   "metadata": {},
   "outputs": [],
   "source": [
    "trainangles_mupi = trainangles_tracks[muon_pion_train]\n",
    "trainenergy_mupi = trainenergy_tracks[muon_pion_train]\n",
    "trainbinfrac_mupi = trainbinfrac_tracks[muon_pion_train]\n",
    "trainrsq_mupi = trainrsq_tracks[muon_pion_train]"
   ]
  },
  {
   "cell_type": "code",
   "execution_count": 280,
   "metadata": {},
   "outputs": [],
   "source": [
    "np.save('trainangles_mupi.npy', trainangles_mupi)\n",
    "np.save('trainenergy_mupi.npy', trainenergy_mupi)\n",
    "np.save('trainbinfrac_mupi.npy', trainbinfrac_mupi)\n",
    "np.save('trainrsq_mupi.npy', trainrsq_mupi)"
   ]
  },
  {
   "cell_type": "code",
   "execution_count": 294,
   "metadata": {},
   "outputs": [],
   "source": [
    "testangles_mupi = testangles_tracks[muon_pion_test]\n",
    "testenergy_mupi = testenergy_tracks[muon_pion_test]\n",
    "testbinfrac_mupi = testbinfrac_tracks[muon_pion_test]\n",
    "testrsq_mupi = testrsq_tracks[muon_pion_test]"
   ]
  },
  {
   "cell_type": "code",
   "execution_count": 295,
   "metadata": {},
   "outputs": [],
   "source": [
    "np.save('testangles_mupi.npy', testangles_mupi)\n",
    "np.save('testenergy_mupi.npy', testenergy_mupi)\n",
    "np.save('testbinfrac_mupi.npy', testbinfrac_mupi)\n",
    "np.save('testrsq_mupi.npy', testrsq_mupi)"
   ]
  },
  {
   "cell_type": "code",
   "execution_count": 296,
   "metadata": {},
   "outputs": [],
   "source": [
    "np.save('pdg_muon_pion_train', pdg_muon_pion_train)\n",
    "np.save('pdg_muon_pion_test', pdg_muon_pion_test)"
   ]
  },
  {
   "cell_type": "markdown",
   "metadata": {},
   "source": [
    "# Muon vs Proton BDT"
   ]
  },
  {
   "cell_type": "code",
   "execution_count": 297,
   "metadata": {},
   "outputs": [],
   "source": [
    "pdg_muon_proton_train = pdg_train[muon_proton_train]"
   ]
  },
  {
   "cell_type": "code",
   "execution_count": 298,
   "metadata": {},
   "outputs": [],
   "source": [
    "pdg_muon_proton_test = pdg_test[muon_proton_test]"
   ]
  },
  {
   "cell_type": "code",
   "execution_count": 323,
   "metadata": {
    "scrolled": false
   },
   "outputs": [
    {
     "data": {
      "text/plain": [
       "array([2212,   13, 2212,   13,    0,    0,    0,   13, 2212,   13,    0,\n",
       "         13,   13,   13,    0, 2212, 2212,   13,    0, 2212, 2212,    0,\n",
       "       2212, 2212,    0, 2212,   13, 2212,    0,   13,    0,    0,    0,\n",
       "          0, 2212, 2212, 2212,   13,   13,   13, 2212,    0, 2212, 2212,\n",
       "          0, 2212,    0,    0,    0, 2212, 2212, 2212,    0,   13,    0,\n",
       "         13,   13, 2212, 2212,    0,    0,    0,   13,    0,    0, 2212,\n",
       "         13,    0,    0,   13, 2212, 2212,    0,    0,    0,    0, 2212,\n",
       "       2212, 2212, 2212, 2212, 2212, 2212,    0,   13, 2212,    0, 2212,\n",
       "         13,   13,    0,   13,   13,   13,    0,    0,    0,    0, 2212,\n",
       "         13])"
      ]
     },
     "execution_count": 323,
     "metadata": {},
     "output_type": "execute_result"
    }
   ],
   "source": [
    "pdg_muon_proton_train[:100]"
   ]
  },
  {
   "cell_type": "code",
   "execution_count": 301,
   "metadata": {
    "scrolled": true
   },
   "outputs": [
    {
     "data": {
      "text/plain": [
       "{11, 13, 22, 211, 321, 2112, 2212}"
      ]
     },
     "execution_count": 301,
     "metadata": {},
     "output_type": "execute_result"
    }
   ],
   "source": [
    "set(pdg_muon_proton_train)"
   ]
  },
  {
   "cell_type": "code",
   "execution_count": 302,
   "metadata": {
    "scrolled": true
   },
   "outputs": [
    {
     "data": {
      "text/plain": [
       "{11, 13, 22, 211, 321, 2112, 2212}"
      ]
     },
     "execution_count": 302,
     "metadata": {},
     "output_type": "execute_result"
    }
   ],
   "source": [
    "set(pdg_muon_proton_test)"
   ]
  },
  {
   "cell_type": "code",
   "execution_count": 303,
   "metadata": {},
   "outputs": [
    {
     "data": {
      "text/plain": [
       "2145"
      ]
     },
     "execution_count": 303,
     "metadata": {},
     "output_type": "execute_result"
    }
   ],
   "source": [
    "len(pdg_muon_proton_test)"
   ]
  },
  {
   "cell_type": "code",
   "execution_count": 313,
   "metadata": {},
   "outputs": [],
   "source": [
    "for n, i in enumerate(pdg_muon_proton_train):\n",
    "    if i == 11:\n",
    "        pdg_muon_proton_train[n] = 0\n",
    "    elif i == 22:\n",
    "        pdg_muon_proton_train[n] = 0\n",
    "    elif i == 22: \n",
    "        pdg_muon_proton_train[n] = 0\n",
    "    elif i == 211: \n",
    "        pdg_muon_proton_train[n] = 0\n",
    "    elif i == 321: \n",
    "        pdg_muon_proton_train[n] = 0\n",
    "    elif i == 2112: \n",
    "        pdg_muon_proton_train[n] = 0"
   ]
  },
  {
   "cell_type": "code",
   "execution_count": 314,
   "metadata": {},
   "outputs": [],
   "source": [
    "for n, i in enumerate(pdg_muon_proton_test):\n",
    "    if i == 11:\n",
    "        pdg_muon_proton_test[n] = 0\n",
    "    elif i == 22:\n",
    "        pdg_muon_proton_test[n] = 0\n",
    "    elif i == 22: \n",
    "        pdg_muon_proton_test[n] = 0\n",
    "    elif i == 211: \n",
    "        pdg_muon_proton_test[n] = 0\n",
    "    elif i == 321: \n",
    "        pdg_muon_proton_test[n] = 0\n",
    "    elif i == 2112: \n",
    "        pdg_muon_proton_test[n] = 0"
   ]
  },
  {
   "cell_type": "code",
   "execution_count": 315,
   "metadata": {
    "scrolled": true
   },
   "outputs": [
    {
     "data": {
      "text/plain": [
       "{0, 13, 2212}"
      ]
     },
     "execution_count": 315,
     "metadata": {},
     "output_type": "execute_result"
    }
   ],
   "source": [
    "set(pdg_muon_proton_train)"
   ]
  },
  {
   "cell_type": "code",
   "execution_count": 316,
   "metadata": {},
   "outputs": [
    {
     "data": {
      "text/plain": [
       "{0, 13, 2212}"
      ]
     },
     "execution_count": 316,
     "metadata": {},
     "output_type": "execute_result"
    }
   ],
   "source": [
    "set(pdg_muon_proton_test)"
   ]
  },
  {
   "cell_type": "code",
   "execution_count": 317,
   "metadata": {},
   "outputs": [],
   "source": [
    "trainangles_muprot = trainangles_tracks[muon_proton_train]\n",
    "trainenergy_muprot = trainenergy_tracks[muon_proton_train]\n",
    "trainbinfrac_muprot = trainbinfrac_tracks[muon_proton_train]\n",
    "trainrsq_muprot = trainrsq_tracks[muon_proton_train]"
   ]
  },
  {
   "cell_type": "code",
   "execution_count": 318,
   "metadata": {},
   "outputs": [],
   "source": [
    "np.save('trainangles_muprot.npy', trainangles_muprot)\n",
    "np.save('trainenergy_muprot.npy', trainenergy_muprot)\n",
    "np.save('trainbinfrac_muprot.npy', trainbinfrac_muprot)\n",
    "np.save('trainrsq_muprot.npy', trainrsq_muprot)"
   ]
  },
  {
   "cell_type": "code",
   "execution_count": 319,
   "metadata": {},
   "outputs": [],
   "source": [
    "testangles_muprot = testangles_tracks[muon_proton_test]\n",
    "testenergy_muprot = testenergy_tracks[muon_proton_test]\n",
    "testbinfrac_muprot = testbinfrac_tracks[muon_proton_test]\n",
    "testrsq_muprot = testrsq_tracks[muon_proton_test]"
   ]
  },
  {
   "cell_type": "code",
   "execution_count": 320,
   "metadata": {},
   "outputs": [],
   "source": [
    "np.save('testangles_muprot.npy', testangles_muprot)\n",
    "np.save('testenergy_muprot.npy', testenergy_muprot)\n",
    "np.save('testbinfrac_muprot.npy', testbinfrac_muprot)\n",
    "np.save('testrsq_muprot.npy', testrsq_muprot)"
   ]
  },
  {
   "cell_type": "code",
   "execution_count": 321,
   "metadata": {},
   "outputs": [],
   "source": [
    "np.save('pdg_muon_proton_train', pdg_muon_proton_train)\n",
    "np.save('pdg_muon_proton_test', pdg_muon_proton_test)"
   ]
  },
  {
   "cell_type": "code",
   "execution_count": null,
   "metadata": {},
   "outputs": [],
   "source": []
  }
 ],
 "metadata": {
  "kernelspec": {
   "display_name": "Python 3",
   "language": "python",
   "name": "python3"
  },
  "language_info": {
   "codemirror_mode": {
    "name": "ipython",
    "version": 3
   },
   "file_extension": ".py",
   "mimetype": "text/x-python",
   "name": "python",
   "nbconvert_exporter": "python",
   "pygments_lexer": "ipython3",
   "version": "3.7.3"
  }
 },
 "nbformat": 4,
 "nbformat_minor": 2
}
