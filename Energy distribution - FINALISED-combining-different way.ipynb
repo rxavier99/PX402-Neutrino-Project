{
 "cells": [
  {
   "cell_type": "code",
   "execution_count": 1,
   "metadata": {},
   "outputs": [],
   "source": [
    "import uproot\n",
    "import matplotlib.pyplot as plt\n",
    "from matplotlib.lines import Line2D\n",
    "import numpy as np\n",
    "\n",
    "file = uproot.open(\"testing_testfiles.root\")\n",
    "tree = file[\"TestTree\"]\n",
    "\n",
    "eventId = tree.array('eventId')\n",
    "pfoId = tree.array('pfoId')\n",
    "driftPos = tree.array('hitDriftPositionsW')\n",
    "wirePos = tree.array('hitWirePositionsW')\n",
    "pdg = tree.array('bestMCParticlePdgCode')\n",
    "isTrack = tree.array('bestMCParticleIsTrack')\n",
    "completeness = tree.array('completeness')\n",
    "purity = tree.array('purity')\n",
    "nHitsW = tree.array('nHitsInPfoW')\n",
    "nHitsU = tree.array('nHitsInPfoU')\n",
    "nHitsV = tree.array('nHitsInPfoV')\n",
    "vertexdriftPos = tree.array('vertexDriftPosition')\n",
    "vertexwirePos = tree.array('vertexWirePositionW')\n",
    "hitEnergiesW = tree.array('hitEnergiesW')\n",
    "particles = len(pfoId)"
   ]
  },
  {
   "cell_type": "markdown",
   "metadata": {},
   "source": [
    "## Get identities of good pfos"
   ]
  },
  {
   "cell_type": "code",
   "execution_count": 2,
   "metadata": {},
   "outputs": [],
   "source": [
    "comppureid = np.intersect1d(np.where(completeness > 0.89),np.where(purity > 0.89))\n",
    "goodhits = []\n",
    "for i in range(particles):\n",
    "    if len(wirePos[i]) > 5:\n",
    "        goodhits.append(i)\n",
    "trueid = np.intersect1d(comppureid,goodhits)"
   ]
  },
  {
   "cell_type": "markdown",
   "metadata": {},
   "source": [
    "# Tracks and showers"
   ]
  },
  {
   "cell_type": "code",
   "execution_count": 3,
   "metadata": {},
   "outputs": [],
   "source": [
    "pfo_hits = np.array([ len(x) for x in wirePos > 5])\n",
    "\n",
    "track_pfos = np.where((completeness > 0.9) & (purity > 0.89) & (pfo_hits > 5) & (isTrack == 1))\n",
    "\n",
    "shower_pfos = np.where((completeness > 0.9) & (purity > 0.89) & (pfo_hits > 5) & (isTrack == 0))"
   ]
  },
  {
   "cell_type": "markdown",
   "metadata": {},
   "source": [
    "# VARIABLE: Energies"
   ]
  },
  {
   "cell_type": "code",
   "execution_count": 5,
   "metadata": {},
   "outputs": [],
   "source": [
    "hit_energies_sum = hitEnergiesW.sum()"
   ]
  },
  {
   "cell_type": "code",
   "execution_count": 6,
   "metadata": {},
   "outputs": [],
   "source": [
    "hit_energies_sum_tracks = hit_energies_sum[track_pfos]\n",
    "hit_energies_sum_showers = hit_energies_sum[shower_pfos]"
   ]
  },
  {
   "cell_type": "markdown",
   "metadata": {},
   "source": [
    "## Regress the lines of best fit"
   ]
  },
  {
   "cell_type": "code",
   "execution_count": 7,
   "metadata": {},
   "outputs": [],
   "source": [
    "#Find means in wire and drift for each pfo\n",
    "wireav = wirePos[trueid].mean()\n",
    "driftav = driftPos[trueid].mean()\n",
    "\n",
    "#Find slope and intercept of lines of best fit\n",
    "driftdiff = driftPos[trueid] - driftav\n",
    "wirediff = wirePos[trueid] - wireav\n",
    "driftwire = driftdiff*wirediff\n",
    "driftsq = driftdiff**2\n",
    "nume = driftwire.sum()\n",
    "denom = driftsq.sum()\n",
    "slope = nume/denom\n",
    "intercept = wireav - slope*driftav\n",
    "slopezero = np.where(slope==0.0)"
   ]
  },
  {
   "cell_type": "markdown",
   "metadata": {},
   "source": [
    "## First and last points of each pfo"
   ]
  },
  {
   "cell_type": "code",
   "execution_count": 8,
   "metadata": {},
   "outputs": [],
   "source": [
    "wirePos_sorted = []\n",
    "driftPos_sorted = []\n",
    "\n",
    "for i in range(len(wirePos)):\n",
    "    wirePos_sorted.append(np.sort(wirePos[i]))\n",
    "    \n",
    "for i in range(len(driftPos)):\n",
    "    driftPos_sorted.append(np.sort(driftPos[i]))"
   ]
  },
  {
   "cell_type": "code",
   "execution_count": 9,
   "metadata": {},
   "outputs": [],
   "source": [
    "wirePosstart = []\n",
    "wirePosend = []\n",
    "driftPosstart = []\n",
    "driftPosend = []\n",
    "for i in trueid:\n",
    "    wirePosstart.append(wirePos_sorted[i][0])\n",
    "    wirePosend.append(wirePos_sorted[i][-1])\n",
    "    driftPosstart.append(driftPos_sorted[i][0])\n",
    "    driftPosend.append(driftPos_sorted[i][-1])"
   ]
  },
  {
   "cell_type": "markdown",
   "metadata": {},
   "source": [
    "## Regress end points to line of best fit"
   ]
  },
  {
   "cell_type": "code",
   "execution_count": 10,
   "metadata": {},
   "outputs": [],
   "source": [
    "xstart = []\n",
    "xend = []\n",
    "ystart = []\n",
    "yend = []\n",
    "for i in range(len(trueid)):\n",
    "    if slope[i] != 0:\n",
    "        slopeinv = -1.0/slope[i]\n",
    "        startintercept = wirePosstart[i] - driftPosstart[i]*slopeinv\n",
    "        endintercept = wirePosend[i] - driftPosend[i]*slopeinv\n",
    "        xbegin = (startintercept - intercept[i])/(slope[i] - slopeinv)\n",
    "        ybegin = slope[i]*xbegin + intercept[i]\n",
    "        xfinish = (endintercept - intercept[i])/(slope[i]-slopeinv)\n",
    "        yfinish = slope[i]*xfinish + intercept[i]\n",
    "        xstart.append(xbegin)\n",
    "        xend.append(xfinish)\n",
    "        ystart.append(ybegin)\n",
    "        yend.append(yfinish)\n",
    "    else:\n",
    "        xstart.append(driftPosstart[i])\n",
    "        xend.append(driftPosend[i])\n",
    "        ystart.append(wirePosstart[i])\n",
    "        yend.append(wirePosend[i])\n",
    "        "
   ]
  },
  {
   "cell_type": "markdown",
   "metadata": {},
   "source": [
    "# Line lengths"
   ]
  },
  {
   "cell_type": "code",
   "execution_count": 11,
   "metadata": {},
   "outputs": [],
   "source": [
    "linelength = []\n",
    "for i in range(len(xstart)):\n",
    "    xdiff = xend[i] - xstart[i]\n",
    "    ydiff = yend[i] - ystart[i]\n",
    "    lensq = xdiff**2 +ydiff**2\n",
    "    length = np.sqrt(lensq)\n",
    "    linelength.append(length)"
   ]
  },
  {
   "cell_type": "code",
   "execution_count": 12,
   "metadata": {},
   "outputs": [],
   "source": [
    "track_pfo_energies = hitEnergiesW[track_pfos]\n",
    "shower_pfo_energies = hitEnergiesW[shower_pfos]"
   ]
  },
  {
   "cell_type": "code",
   "execution_count": 13,
   "metadata": {},
   "outputs": [],
   "source": [
    "# piplus_energies = hitEnergiesW[piplus]\n",
    "# piminus_energies = hitEnergiesW[piminus]\n",
    "# muon_energies = hitEnergiesW[muon]\n",
    "# antimuon_energies = hitEnergiesW[antimuon]\n",
    "# proton_energies = hitEnergiesW[proton]\n",
    "# neutron_energies = hitEnergiesW[neutron]"
   ]
  },
  {
   "cell_type": "markdown",
   "metadata": {},
   "source": [
    "# Regress all pfo points to line gosh this took 5ever"
   ]
  },
  {
   "cell_type": "code",
   "execution_count": 14,
   "metadata": {},
   "outputs": [],
   "source": [
    "xpoints = []\n",
    "ypoints = []\n",
    "for i in range(len(trueid)):\n",
    "    xcoord = []\n",
    "    ycoord = []\n",
    "    a = trueid[i]\n",
    "    if slope[i] == 0.0:\n",
    "        xcoord.append(driftPos[a])\n",
    "        ycoord.append(wirePos[a])\n",
    "    else:\n",
    "        for j in range(len(wirePos[a])):\n",
    "            slopeinv = -1.0/slope[i]\n",
    "            pointintercept = wirePos[a][j] - driftPos[a][j]*slopeinv\n",
    "            xpoint = (pointintercept - intercept[i])/(slope[i] - slopeinv)\n",
    "            ypoint = slope[i]*xpoint + intercept[i]\n",
    "            xcoord.append(xpoint)\n",
    "            ycoord.append(ypoint)\n",
    "    xpoints.append(xcoord)\n",
    "    ypoints.append(ycoord)"
   ]
  },
  {
   "cell_type": "markdown",
   "metadata": {},
   "source": [
    "# Normalise positions of regressed points for banter"
   ]
  },
  {
   "cell_type": "code",
   "execution_count": 15,
   "metadata": {},
   "outputs": [
    {
     "name": "stderr",
     "output_type": "stream",
     "text": [
      "C:\\Users\\r.xavier\\Anaconda3\\lib\\site-packages\\ipykernel_launcher.py:7: RuntimeWarning: invalid value encountered in true_divide\n",
      "  import sys\n"
     ]
    }
   ],
   "source": [
    "pointsnorm = []\n",
    "for i in range(len(trueid)):\n",
    "    pointcoordnorm = []\n",
    "    for j in range(len(xpoints[i])):\n",
    "        xdifference = xpoints[i][j] - xpoints[i][0]\n",
    "        lengf = xpoints[i][-1] - xpoints[i][0]\n",
    "        normlength = xdifference/lengf\n",
    "        pointcoordnorm.append(normlength)\n",
    "    pointsnorm.append(pointcoordnorm)"
   ]
  },
  {
   "cell_type": "markdown",
   "metadata": {},
   "source": [
    "# Order those regressed points along the line praise be to argsort"
   ]
  },
  {
   "cell_type": "code",
   "execution_count": 16,
   "metadata": {},
   "outputs": [],
   "source": [
    "pointorder = []\n",
    "for i in range(len(trueid)):\n",
    "    lengthorder = np.argsort(pointsnorm[i])\n",
    "    pointorder.append(lengthorder)"
   ]
  },
  {
   "cell_type": "markdown",
   "metadata": {},
   "source": [
    "# Reorganise regressed points according to position, not gender or race"
   ]
  },
  {
   "cell_type": "code",
   "execution_count": 17,
   "metadata": {},
   "outputs": [],
   "source": [
    "xpointsorder = []\n",
    "ypointsorder = []\n",
    "for i in range(len(trueid)):\n",
    "    xpfosort = [xpoints for _,xpoints in sorted(zip(pointorder[i],xpoints[i]))]\n",
    "    ypfosort = [ypoints for _,ypoints in sorted(zip(pointorder[i],ypoints[i]))]\n",
    "    xpointsorder.append(xpfosort)\n",
    "    ypointsorder.append(ypfosort)"
   ]
  },
  {
   "cell_type": "markdown",
   "metadata": {},
   "source": [
    "# Find new lengths due to reordered points."
   ]
  },
  {
   "cell_type": "code",
   "execution_count": 18,
   "metadata": {},
   "outputs": [],
   "source": [
    "truelinelength = []\n",
    "for i in range(len(xstart)):\n",
    "    xdiff = xpointsorder[i][-1] - xpointsorder[i][0]\n",
    "    ydiff = ypointsorder[i][-1] - ypointsorder[i][0]\n",
    "    lensq = xdiff**2 + ydiff**2\n",
    "    length = np.sqrt(lensq)\n",
    "    truelinelength.append(length)"
   ]
  },
  {
   "cell_type": "markdown",
   "metadata": {},
   "source": [
    "# Find new normalised point positions "
   ]
  },
  {
   "cell_type": "code",
   "execution_count": 19,
   "metadata": {},
   "outputs": [
    {
     "name": "stderr",
     "output_type": "stream",
     "text": [
      "C:\\Users\\r.xavier\\Anaconda3\\lib\\site-packages\\ipykernel_launcher.py:10: RuntimeWarning: invalid value encountered in true_divide\n",
      "  # Remove the CWD from sys.path while we load stuff.\n"
     ]
    }
   ],
   "source": [
    "truepointsnorm = []\n",
    "for i in range(len(trueid)):\n",
    "    truepointcoordnorm = []\n",
    "    a = trueid[i]\n",
    "    for j in range(len(xpointsorder[i])):\n",
    "        xdifference = xpointsorder[i][j] - xpointsorder[i][0]\n",
    "        ydifference = ypointsorder[i][j] - ypointsorder[i][0]\n",
    "        lengthsq = xdifference**2 + ydifference**2\n",
    "        truelen = np.sqrt(lengthsq)\n",
    "        normlength = truelen/truelinelength[i]\n",
    "        truepointcoordnorm.append(normlength)\n",
    "    truepointsnorm.append(truepointcoordnorm)"
   ]
  },
  {
   "cell_type": "markdown",
   "metadata": {},
   "source": [
    "# Indices of hits that are > 0.8 along the line"
   ]
  },
  {
   "cell_type": "code",
   "execution_count": 20,
   "metadata": {},
   "outputs": [],
   "source": [
    "truepoints_tracks = []\n",
    "truepoints_showers = []\n",
    "\n",
    "for i in range(len(truepointsnorm)):\n",
    "    a = trueid[i]\n",
    "    if a in track_pfos[0]:\n",
    "        truepoints_tracks.append(truepointsnorm[i])\n",
    "    elif a in shower_pfos[0]:\n",
    "        truepoints_showers.append(truepointsnorm[i])"
   ]
  },
  {
   "cell_type": "code",
   "execution_count": 21,
   "metadata": {},
   "outputs": [],
   "source": [
    "truepointsTracks=np.array([np.array(i) for i in truepoints_tracks])\n",
    "truepointsShowers=np.array([np.array(i) for i in truepoints_showers])"
   ]
  },
  {
   "cell_type": "code",
   "execution_count": 22,
   "metadata": {},
   "outputs": [
    {
     "name": "stderr",
     "output_type": "stream",
     "text": [
      "C:\\Users\\r.xavier\\Anaconda3\\lib\\site-packages\\ipykernel_launcher.py:4: RuntimeWarning: invalid value encountered in greater\n",
      "  after removing the cwd from sys.path.\n"
     ]
    }
   ],
   "source": [
    "end_indices_tracks = []\n",
    "\n",
    "for i in range(len(track_pfos[0])):\n",
    "    end_indices_tracks.append(np.array(np.where(truepointsTracks[i] > 0.8)))"
   ]
  },
  {
   "cell_type": "code",
   "execution_count": 23,
   "metadata": {},
   "outputs": [],
   "source": [
    "#Track energies in final 20%\n",
    "\n",
    "end_track_energies = []\n",
    "\n",
    "for i in range(len(track_pfo_energies)):\n",
    "    end_track_energies.append(np.array(track_pfo_energies[i][end_indices_tracks[i]]))"
   ]
  },
  {
   "cell_type": "code",
   "execution_count": 24,
   "metadata": {},
   "outputs": [],
   "source": [
    "end_track_energies_sum = []\n",
    "\n",
    "for i in range(len(track_pfos[0])):\n",
    "    end_track_energies_sum.append(end_track_energies[i].sum())"
   ]
  },
  {
   "cell_type": "code",
   "execution_count": 25,
   "metadata": {},
   "outputs": [],
   "source": [
    "#Fraction of the total PFO energy contained in hits in the final 20%\n",
    "\n",
    "energy_frac_tracks = end_track_energies_sum / hit_energies_sum_tracks"
   ]
  },
  {
   "cell_type": "code",
   "execution_count": 26,
   "metadata": {},
   "outputs": [
    {
     "name": "stderr",
     "output_type": "stream",
     "text": [
      "C:\\Users\\r.xavier\\Anaconda3\\lib\\site-packages\\ipykernel_launcher.py:4: RuntimeWarning: invalid value encountered in greater\n",
      "  after removing the cwd from sys.path.\n"
     ]
    }
   ],
   "source": [
    "end_indices_showers = []\n",
    "\n",
    "for i in range(len(shower_pfos[0])):\n",
    "    end_indices_showers.append(np.array(np.where(truepointsShowers[i] > 0.8)))"
   ]
  },
  {
   "cell_type": "code",
   "execution_count": 27,
   "metadata": {},
   "outputs": [],
   "source": [
    "end_shower_energies = []\n",
    "\n",
    "for i in range(len(shower_pfo_energies)):\n",
    "    end_shower_energies.append(shower_pfo_energies[i][end_indices_showers[i]])"
   ]
  },
  {
   "cell_type": "code",
   "execution_count": 28,
   "metadata": {},
   "outputs": [],
   "source": [
    "end_shower_energies_sum = []\n",
    "\n",
    "for i in range(len(shower_pfos[0])):\n",
    "    end_shower_energies_sum.append(end_shower_energies[i].sum())"
   ]
  },
  {
   "cell_type": "code",
   "execution_count": 29,
   "metadata": {},
   "outputs": [],
   "source": [
    "energy_frac_showers = end_shower_energies_sum / hit_energies_sum_showers"
   ]
  },
  {
   "cell_type": "code",
   "execution_count": 30,
   "metadata": {},
   "outputs": [],
   "source": [
    "weight_tracks = np.ones_like(energy_frac_tracks) / len(energy_frac_tracks)\n",
    "weight_showers = np.ones_like(energy_frac_showers) / len(energy_frac_showers)"
   ]
  },
  {
   "cell_type": "code",
   "execution_count": 31,
   "metadata": {},
   "outputs": [
    {
     "data": {
      "image/png": "[encoded data removed]",
      "text/plain": [
       "<Figure size 720x720 with 1 Axes>"
      ]
     },
     "metadata": {
      "needs_background": "light"
     },
     "output_type": "display_data"
    }
   ],
   "source": [
    "fig = plt.figure(1, figsize=(10, 10))\n",
    "energies_tracks_hist = plt.hist(energy_frac_tracks, 500, weights = weight_tracks, color = 'g', histtype = u'step', label = 'Tracks')\n",
    "energies_showers_hist = plt.hist(energy_frac_showers, 500, weights = weight_showers, color = 'b', histtype = u'step', label = 'Showers')\n",
    "#plt.title('Energies: Tracks and Showers', fontsize = 20)\n",
    "plt.xlabel('Energy (ADC counts)', fontsize=20)\n",
    "plt.ylabel('Events', fontsize=20)\n",
    "\n",
    "plt.xticks(np.arange(min(energy_frac_tracks), max(energy_frac_tracks), 0.05))\n",
    "\n",
    "plt.yticks(np.arange(0, 0.035, 0.001))\n",
    "\n",
    "# plt.xticks(fontsize=20)\n",
    "# plt.yticks(fontsize=20)\n",
    "\n",
    "plt.legend(prop={\"size\":20})\n",
    "        \n",
    "plt.show()"
   ]
  },
  {
   "cell_type": "markdown",
   "metadata": {},
   "source": [
    "# VARIABLE: Angles"
   ]
  },
  {
   "cell_type": "markdown",
   "metadata": {},
   "source": [
    "# Calculate means"
   ]
  },
  {
   "cell_type": "code",
   "execution_count": 37,
   "metadata": {},
   "outputs": [],
   "source": [
    "drift_pos_av = driftPos.mean()\n",
    "wire_pos_av = wirePos.mean()"
   ]
  },
  {
   "cell_type": "markdown",
   "metadata": {},
   "source": [
    "# Calculate gradient"
   ]
  },
  {
   "cell_type": "code",
   "execution_count": 38,
   "metadata": {},
   "outputs": [
    {
     "name": "stderr",
     "output_type": "stream",
     "text": [
      "C:\\Users\\r.xavier\\Anaconda3\\lib\\site-packages\\ipykernel_launcher.py:6: RuntimeWarning: invalid value encountered in true_divide\n",
      "  \n"
     ]
    }
   ],
   "source": [
    "drift_comp = driftPos - drift_pos_av\n",
    "wire_comp = wirePos - wire_pos_av\n",
    "drift_comp_sq = drift_comp ** 2\n",
    "numerator = (drift_comp * wire_comp).sum()\n",
    "denominator = (drift_comp_sq).sum()\n",
    "m = numerator / denominator\n",
    "c = wire_pos_av - m * drift_pos_av"
   ]
  },
  {
   "cell_type": "code",
   "execution_count": 39,
   "metadata": {},
   "outputs": [],
   "source": [
    "select_wirePos_tracks = wirePos[track_pfos]\n",
    "\n",
    "select_driftPos_tracks = driftPos[track_pfos]\n",
    "\n",
    "select_wirePos_showers = wirePos[shower_pfos]\n",
    "\n",
    "select_driftPos_showers = driftPos[shower_pfos]\n",
    "\n",
    "vertexdriftPos_tracks = vertexdriftPos[track_pfos]\n",
    "\n",
    "vertexwirePos_tracks = vertexwirePos[track_pfos]\n",
    "\n",
    "vertexdriftPos_showers = vertexdriftPos[shower_pfos]\n",
    "\n",
    "vertexwirePos_showers = vertexwirePos[shower_pfos]\n",
    "\n",
    "m_tracks = m[track_pfos]\n",
    "\n",
    "c_tracks = c[track_pfos]\n",
    "\n",
    "m_showers = m[shower_pfos]\n",
    "\n",
    "c_showers = c[shower_pfos]"
   ]
  },
  {
   "cell_type": "markdown",
   "metadata": {},
   "source": [
    "# Plot tracks"
   ]
  },
  {
   "cell_type": "code",
   "execution_count": 40,
   "metadata": {
    "scrolled": false
   },
   "outputs": [],
   "source": [
    "y_values_tracks = []\n",
    "m_values_tracks = []\n",
    "c_values_tracks = []\n",
    "\n",
    "for i in range(len(track_pfos[0])):\n",
    "        \n",
    "        y = m_tracks[i]*select_driftPos_tracks[i] + c_tracks[i]\n",
    "#         fig = plt.figure(figsize = (10, 15))\n",
    "#         plt.scatter(select_driftPos_tracks[i], select_wirePos_tracks[i], color = 'b', s = 1)\n",
    "#         plt.plot(select_driftPos_tracks[i], y, color = 'r', linewidth = 3) \n",
    "#         plt.scatter(x_origin_tracks[i], y_origin_tracks[i], color = 'g', s = 150)\n",
    "#         plt.scatter(select_driftPos_tracks[1][100], select_wirePos_tracks[1][100], color = 'g', s = 150, marker = 'x')\n",
    "\n",
    "        \n",
    "        y_values_tracks.append(y)\n",
    "\n",
    "        m_values_tracks.append(m_tracks[i])\n",
    "\n",
    "        c_values_tracks.append(c_tracks[i])"
   ]
  },
  {
   "cell_type": "markdown",
   "metadata": {},
   "source": [
    "# Plot showers"
   ]
  },
  {
   "cell_type": "code",
   "execution_count": 41,
   "metadata": {
    "scrolled": false
   },
   "outputs": [],
   "source": [
    "y_values_showers = []\n",
    "m_values_showers = []\n",
    "c_values_showers = []\n",
    "\n",
    "for i in range(len(shower_pfos[0])):\n",
    "        \n",
    "        y = m_showers[i]*select_driftPos_showers[i] + c_showers[i]\n",
    "#         fig = plt.figure(figsize = (10, 11))\n",
    "#         plt.scatter(select_driftPos_showers[i], select_wirePos_showers[i], color = 'b', s = 1)\n",
    "#         plt.plot(select_driftPos_showers[i], y, color = 'r', linewidth = 2) \n",
    "#         plt.scatter(x_origin_showers[i], y_origin_showers[i], color = 'gold', s = 150)\n",
    "#         plt.scatter(vertexdriftPos_showers[i], vertexwirePos_showers[i], color = 'k', s = 150, marker = 'x')\n",
    "#         plt.xlabel('Drift Position', fontsize=20)\n",
    "#         plt.ylabel('Wire Position (cm)', fontsize=20)\n",
    "#         plt.xticks(fontsize=20)\n",
    "#         plt.yticks(fontsize=20)\n",
    "    \n",
    "        y_values_showers.append(y)\n",
    "\n",
    "        m_values_showers.append(m_showers[i])\n",
    "\n",
    "        c_values_showers.append(c_showers[i])"
   ]
  },
  {
   "cell_type": "markdown",
   "metadata": {},
   "source": [
    "# Tracks: Get first x and y values for each PFO regression line"
   ]
  },
  {
   "cell_type": "code",
   "execution_count": 42,
   "metadata": {},
   "outputs": [],
   "source": [
    "first_y_tracks = []\n",
    "first_x_tracks = []\n",
    "last_x_tracks = []\n",
    "last_y_tracks = []\n",
    "\n",
    "for i in range(len(track_pfos[0])):\n",
    "    \n",
    "    origin_x = select_driftPos_tracks[i][0]\n",
    "    \n",
    "    origin_y = (m_values_tracks[i] * select_driftPos_tracks[i][0]) + c_values_tracks[i]\n",
    "    \n",
    "    end_x = select_driftPos_tracks[i][-1]\n",
    "    \n",
    "    end_y = (m_values_tracks[i] * select_driftPos_tracks[i][-1]) + c_values_tracks[i]\n",
    "    \n",
    "    first_y_tracks.append(origin_y)\n",
    "    \n",
    "    first_x_tracks.append(origin_x)\n",
    "    \n",
    "    last_y_tracks.append(end_y)\n",
    "    \n",
    "    last_x_tracks.append(end_x)"
   ]
  },
  {
   "cell_type": "markdown",
   "metadata": {},
   "source": [
    "# Tracks: Regression line vector"
   ]
  },
  {
   "cell_type": "code",
   "execution_count": 43,
   "metadata": {},
   "outputs": [],
   "source": [
    "d_zero_tracks = ((vertexwirePos_tracks - first_y_tracks) ** 2) + ((vertexdriftPos_tracks - first_x_tracks) ** 2)\n",
    "d_end_tracks = ((vertexwirePos_tracks - last_y_tracks) ** 2) + ((vertexdriftPos_tracks - last_x_tracks) ** 2)"
   ]
  },
  {
   "cell_type": "code",
   "execution_count": 44,
   "metadata": {},
   "outputs": [],
   "source": [
    "x_sinc_tracks = []\n",
    "y_sinc_tracks = []\n",
    "\n",
    "x_origin_tracks = []\n",
    "y_origin_tracks = []\n",
    "\n",
    "for i in range(len(track_pfos[0])):\n",
    "    \n",
    "    x_origin, y_origin = (first_x_tracks[i], first_y_tracks[i]) if d_zero_tracks[i] < d_end_tracks[i] else (last_x_tracks[i], last_y_tracks[i])\n",
    "    \n",
    "    x_origin_tracks.append(x_origin)\n",
    "    \n",
    "    y_origin_tracks.append(y_origin)\n",
    "    \n",
    "    x_sinc, y_sinc = (first_x_tracks[i], first_y_tracks[i]) if d_zero_tracks[i] >= d_end_tracks[i] else (last_x_tracks[i], last_y_tracks[i])\n",
    "    \n",
    "    x_sinc_tracks.append(x_sinc)\n",
    "    \n",
    "    y_sinc_tracks.append(y_sinc)"
   ]
  },
  {
   "cell_type": "code",
   "execution_count": 45,
   "metadata": {},
   "outputs": [],
   "source": [
    "x_line_vector_tracks = np.array(x_sinc_tracks) - np.array(x_origin_tracks)\n",
    "y_line_vector_tracks = np.array(y_sinc_tracks) - np.array(y_origin_tracks)"
   ]
  },
  {
   "cell_type": "code",
   "execution_count": 46,
   "metadata": {},
   "outputs": [],
   "source": [
    "mag_line_tracks = np.sqrt((x_line_vector_tracks ** 2) + (y_line_vector_tracks ** 2))"
   ]
  },
  {
   "cell_type": "markdown",
   "metadata": {},
   "source": [
    "# Tracks: Hits vector"
   ]
  },
  {
   "cell_type": "code",
   "execution_count": 47,
   "metadata": {},
   "outputs": [],
   "source": [
    "x_hit_vector_tracks = select_driftPos_tracks - x_origin_tracks\n",
    "y_hit_vector_tracks = select_wirePos_tracks - y_origin_tracks"
   ]
  },
  {
   "cell_type": "code",
   "execution_count": 48,
   "metadata": {},
   "outputs": [],
   "source": [
    "mag_hit_tracks = np.sqrt((x_hit_vector_tracks ** 2) + (y_hit_vector_tracks ** 2))"
   ]
  },
  {
   "cell_type": "markdown",
   "metadata": {},
   "source": [
    "# Tracks: Calculate angle"
   ]
  },
  {
   "cell_type": "code",
   "execution_count": 49,
   "metadata": {},
   "outputs": [
    {
     "name": "stderr",
     "output_type": "stream",
     "text": [
      "C:\\Users\\r.xavier\\Anaconda3\\lib\\site-packages\\awkward\\array\\jagged.py:1043: RuntimeWarning: invalid value encountered in true_divide\n",
      "  result = getattr(ufunc, method)(*inputs, **kwargs)\n"
     ]
    }
   ],
   "source": [
    "theta_num_tracks = (x_line_vector_tracks * x_hit_vector_tracks) + (y_line_vector_tracks * y_hit_vector_tracks)\n",
    "theta_denom_tracks = mag_line_tracks * mag_hit_tracks\n",
    "theta_tracks = theta_num_tracks / theta_denom_tracks"
   ]
  },
  {
   "cell_type": "code",
   "execution_count": 50,
   "metadata": {},
   "outputs": [
    {
     "name": "stderr",
     "output_type": "stream",
     "text": [
      "C:\\Users\\r.xavier\\Anaconda3\\lib\\site-packages\\awkward\\array\\jagged.py:1043: RuntimeWarning: invalid value encountered in arccos\n",
      "  result = getattr(ufunc, method)(*inputs, **kwargs)\n"
     ]
    }
   ],
   "source": [
    "angle_tracks = np.degrees(np.arccos(theta_tracks))\n",
    "av_theta_tracks = (angle_tracks.mean())"
   ]
  },
  {
   "cell_type": "markdown",
   "metadata": {},
   "source": [
    "# Showers: Get first x and y values for each PFO regression line\n"
   ]
  },
  {
   "cell_type": "code",
   "execution_count": 51,
   "metadata": {},
   "outputs": [],
   "source": [
    "first_y_showers = []\n",
    "first_x_showers = []\n",
    "last_x_showers = []\n",
    "last_y_showers = []\n",
    "\n",
    "for i in range(len(shower_pfos[0])):\n",
    "    \n",
    "    origin_x = select_driftPos_showers[i][0]\n",
    "    \n",
    "    origin_y = (m_values_showers[i] * select_driftPos_showers[i][0]) + c_values_showers[i]\n",
    "    \n",
    "    end_x = select_driftPos_showers[i][-1]\n",
    "    \n",
    "    end_y = (m_values_showers[i] * select_driftPos_showers[i][-1]) + c_values_showers[i]\n",
    "    \n",
    "    first_y_showers.append(origin_y)\n",
    "    \n",
    "    first_x_showers.append(origin_x)\n",
    "    \n",
    "    last_y_showers.append(end_y)\n",
    "    \n",
    "    last_x_showers.append(end_x)"
   ]
  },
  {
   "cell_type": "markdown",
   "metadata": {},
   "source": [
    "# Showers: Regression line vector"
   ]
  },
  {
   "cell_type": "code",
   "execution_count": 52,
   "metadata": {},
   "outputs": [],
   "source": [
    "d_zero_showers = ((vertexwirePos_showers - first_y_showers) ** 2) + ((vertexdriftPos_showers - first_x_showers) ** 2)\n",
    "d_end_showers = ((vertexwirePos_showers - last_y_showers) ** 2) + ((vertexdriftPos_showers - last_x_showers) ** 2)"
   ]
  },
  {
   "cell_type": "code",
   "execution_count": 53,
   "metadata": {},
   "outputs": [],
   "source": [
    "x_sinc_showers = []\n",
    "y_sinc_showers = []\n",
    "\n",
    "x_origin_showers = []\n",
    "y_origin_showers = []\n",
    "\n",
    "for i in range(len(shower_pfos[0])):\n",
    "    \n",
    "    x_origin, y_origin = (first_x_showers[i], first_y_showers[i]) if d_zero_showers[i] < d_end_showers[i] else (last_x_showers[i], last_y_showers[i])\n",
    "    \n",
    "    x_origin_showers.append(x_origin)\n",
    "    \n",
    "    y_origin_showers.append(y_origin)\n",
    "    \n",
    "    x_sinc, y_sinc = (first_x_showers[i], first_y_showers[i]) if d_zero_showers[i] >= d_end_showers[i] else (last_x_showers[i], last_y_showers[i])\n",
    "    \n",
    "    x_sinc_showers.append(x_sinc)\n",
    "    \n",
    "    y_sinc_showers.append(y_sinc)\n",
    "    "
   ]
  },
  {
   "cell_type": "code",
   "execution_count": 54,
   "metadata": {},
   "outputs": [],
   "source": [
    "x_line_vector_showers = np.array(x_sinc_showers) - np.array(x_origin_showers)\n",
    "y_line_vector_showers = np.array(y_sinc_showers) - np.array(y_origin_showers)"
   ]
  },
  {
   "cell_type": "code",
   "execution_count": 55,
   "metadata": {},
   "outputs": [],
   "source": [
    "mag_line_showers = np.sqrt((x_line_vector_showers ** 2) + ((y_line_vector_showers) ** 2))"
   ]
  },
  {
   "cell_type": "markdown",
   "metadata": {},
   "source": [
    "# Showers: Hits vector"
   ]
  },
  {
   "cell_type": "code",
   "execution_count": 56,
   "metadata": {},
   "outputs": [],
   "source": [
    "x_hit_vector_showers =  select_driftPos_showers - x_origin_showers \n",
    "y_hit_vector_showers = select_wirePos_showers - y_origin_showers"
   ]
  },
  {
   "cell_type": "code",
   "execution_count": 57,
   "metadata": {},
   "outputs": [],
   "source": [
    "mag_hit_showers = np.sqrt((x_hit_vector_showers ** 2) + ((y_hit_vector_showers) ** 2))"
   ]
  },
  {
   "cell_type": "markdown",
   "metadata": {},
   "source": [
    "# Showers: Calculate angle"
   ]
  },
  {
   "cell_type": "code",
   "execution_count": 58,
   "metadata": {},
   "outputs": [],
   "source": [
    "theta_num_showers = (x_line_vector_showers * x_hit_vector_showers) + (y_line_vector_showers * y_hit_vector_showers)\n",
    "theta_denom_showers = mag_line_showers * mag_hit_showers\n",
    "theta_showers = theta_num_showers / theta_denom_showers"
   ]
  },
  {
   "cell_type": "code",
   "execution_count": 59,
   "metadata": {},
   "outputs": [],
   "source": [
    "angle_showers = np.degrees(np.arccos(theta_showers))\n",
    "av_theta_showers = (angle_showers.mean())"
   ]
  },
  {
   "cell_type": "code",
   "execution_count": 62,
   "metadata": {},
   "outputs": [],
   "source": [
    "weight_tracks = np.ones_like(av_theta_tracks) / len(av_theta_tracks)\n",
    "weight_showers = np.ones_like(av_theta_showers) / len(av_theta_showers)"
   ]
  },
  {
   "cell_type": "code",
   "execution_count": 63,
   "metadata": {
    "scrolled": false
   },
   "outputs": [
    {
     "data": {
      "image/png": "[encoded data removed]",
      "text/plain": [
       "<Figure size 720x720 with 1 Axes>"
      ]
     },
     "metadata": {
      "needs_background": "light"
     },
     "output_type": "display_data"
    }
   ],
   "source": [
    "fig = plt.figure(1, figsize=(10, 10))\n",
    "angles_tracks_hist = plt.hist(av_theta_tracks, 500, weights = weight_tracks, color = 'g', histtype = u'step', label = 'Tracks')\n",
    "angles_showers_hist = plt.hist(av_theta_showers, 500, weights = weight_showers, color = 'b', histtype = u'step', label = 'Showers')\n",
    "#plt.title('Angles: Tracks and Showers', fontsize = 20)\n",
    "plt.xlabel('Angle (degrees)', fontsize=20)\n",
    "plt.ylabel('Events', fontsize=20)\n",
    "#plt.xticks(fontsize=20)\n",
    "\n",
    "plt.xticks(np.arange(min(av_theta_tracks), max(av_theta_tracks), 5.0))\n",
    "\n",
    "plt.yticks(np.arange(0, 0.08, 0.005))\n",
    "\n",
    "#plt.yticks(fontsize=20)\n",
    "\n",
    "\n",
    "\n",
    "plt.legend(prop={\"size\":20})\n",
    "        \n",
    "plt.show()\n"
   ]
  },
  {
   "cell_type": "markdown",
   "metadata": {},
   "source": [
    "# PROBABILITY: Energies"
   ]
  },
  {
   "cell_type": "code",
   "execution_count": 93,
   "metadata": {},
   "outputs": [],
   "source": [
    "all_energies = list(energy_frac_tracks) + list(energy_frac_showers)"
   ]
  },
  {
   "cell_type": "code",
   "execution_count": 94,
   "metadata": {},
   "outputs": [],
   "source": [
    "#For some reason np.shape(x) is always 1 greater than np.shape(y) so just removed last x value\n",
    "xp_energies_tracks = energies_tracks_hist[1][:-1]\n",
    "fp_energies_tracks = energies_tracks_hist[0]\n",
    "x_energies = all_energies"
   ]
  },
  {
   "cell_type": "code",
   "execution_count": 95,
   "metadata": {},
   "outputs": [],
   "source": [
    "energies_tracks_probs = np.interp(x_energies, xp_energies_tracks, fp_energies_tracks)"
   ]
  },
  {
   "cell_type": "code",
   "execution_count": null,
   "metadata": {},
   "outputs": [],
   "source": [
    "xp_energies_showers = energies_showers_hist[1][:-1]\n",
    "fp_energies_showers = energies_showers_hist[0]\n",
    "x_energies = all_energies"
   ]
  },
  {
   "cell_type": "code",
   "execution_count": 97,
   "metadata": {},
   "outputs": [],
   "source": [
    "energies_showers_probs = np.interp(x_energies, xp_energies_showers, fp_energies_showers)"
   ]
  },
  {
   "cell_type": "markdown",
   "metadata": {},
   "source": [
    "# PROBABILITY: Angles"
   ]
  },
  {
   "cell_type": "code",
   "execution_count": 64,
   "metadata": {},
   "outputs": [],
   "source": [
    "all_angles = list(av_theta_tracks) + list(av_theta_showers)"
   ]
  },
  {
   "cell_type": "code",
   "execution_count": 89,
   "metadata": {},
   "outputs": [],
   "source": [
    "xp_angles_tracks = angles_tracks_hist[1][:-1]\n",
    "fp_angles_tracks = angles_tracks_hist[0]\n",
    "x_angles = all_angles"
   ]
  },
  {
   "cell_type": "code",
   "execution_count": 90,
   "metadata": {},
   "outputs": [],
   "source": [
    "angles_tracks_probs = np.interp(x_angles, xp_angles_tracks, fp_angles_tracks)"
   ]
  },
  {
   "cell_type": "code",
   "execution_count": 91,
   "metadata": {},
   "outputs": [],
   "source": [
    "xp_showers_tracks = angles_showers_hist[1][:-1]\n",
    "fp_showers_tracks = angles_showers_hist[0]\n",
    "x_angles = all_angles"
   ]
  },
  {
   "cell_type": "code",
   "execution_count": 92,
   "metadata": {},
   "outputs": [],
   "source": [
    "angles_showers_probs = np.interp(x_angles, xp_showers_tracks, fp_showers_tracks)"
   ]
  },
  {
   "cell_type": "markdown",
   "metadata": {},
   "source": [
    "# PROBABILITY: ROB TAKE THE STAGE"
   ]
  },
  {
   "cell_type": "markdown",
   "metadata": {},
   "source": [
    "# PRIOR PROBABILITIES"
   ]
  },
  {
   "cell_type": "code",
   "execution_count": 111,
   "metadata": {},
   "outputs": [],
   "source": [
    "prior_probability_tracks = len(track_pfos[0])/(len(track_pfos[0]) + len(shower_pfos[0]))"
   ]
  },
  {
   "cell_type": "code",
   "execution_count": 112,
   "metadata": {},
   "outputs": [],
   "source": [
    "prior_probability_showers = len(shower_pfos[0])/(len(track_pfos[0]) + len(shower_pfos[0]))"
   ]
  },
  {
   "cell_type": "markdown",
   "metadata": {},
   "source": [
    "# THE BIG P's"
   ]
  },
  {
   "cell_type": "code",
   "execution_count": 103,
   "metadata": {},
   "outputs": [],
   "source": [
    "p_track = angles_tracks_probs * energies_tracks_probs * prior_probability_tracks"
   ]
  },
  {
   "cell_type": "code",
   "execution_count": 113,
   "metadata": {},
   "outputs": [],
   "source": [
    "p_shower = angles_showers_probs * energies_showers_probs * prior_probability_showers"
   ]
  },
  {
   "cell_type": "markdown",
   "metadata": {},
   "source": [
    "# LIKELIHOOD (OF THESE RESULTS BEING GOOD????)"
   ]
  },
  {
   "cell_type": "code",
   "execution_count": 114,
   "metadata": {},
   "outputs": [],
   "source": [
    "l = p_track/(p_track+p_shower)"
   ]
  },
  {
   "cell_type": "code",
   "execution_count": 117,
   "metadata": {},
   "outputs": [
    {
     "data": {
      "image/png": "[encoded data removed]",
      "text/plain": [
       "<Figure size 432x288 with 1 Axes>"
      ]
     },
     "metadata": {
      "needs_background": "light"
     },
     "output_type": "display_data"
    }
   ],
   "source": [
    "plt.hist(l, 100)\n",
    "plt.show()"
   ]
  }
 ],
 "metadata": {
  "kernelspec": {
   "display_name": "Python 3",
   "language": "python",
   "name": "python3"
  },
  "language_info": {
   "codemirror_mode": {
    "name": "ipython",
    "version": 3
   },
   "file_extension": ".py",
   "mimetype": "text/x-python",
   "name": "python",
   "nbconvert_exporter": "python",
   "pygments_lexer": "ipython3",
   "version": "3.7.3"
  }
 },
 "nbformat": 4,
 "nbformat_minor": 4
}
