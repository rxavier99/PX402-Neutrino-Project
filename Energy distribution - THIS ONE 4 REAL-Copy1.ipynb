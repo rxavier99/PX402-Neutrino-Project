{
 "cells": [
  {
   "cell_type": "code",
   "execution_count": 141,
   "metadata": {},
   "outputs": [],
   "source": [
    "import uproot\n",
    "import matplotlib.pyplot as plt\n",
    "from matplotlib.lines import Line2D\n",
    "import numpy as np\n",
    "\n",
    "file = uproot.open(\"TestFiles.root\")\n",
    "tree = file[\"TestTree\"]\n",
    "\n",
    "eventid = tree.array(\"eventId\")\n",
    "pfoid = tree.array(\"pfoId\")\n",
    "wdrift = tree.array(\"hitDriftPositionsW\")\n",
    "wwire = tree.array(\"hitWirePositionsW\")\n",
    "particles = len(pfoid)\n",
    "purity = tree.array(\"purity\")\n",
    "completeness = tree.array(\"completeness\")\n",
    "pdg = tree.array(\"bestMCParticlePdgCode\")\n",
    "wenergies = tree.array(\"hitEnergiesW\")\n",
    "whits = tree.array(\"nHitsInBestMCParticleW\")\n",
    "istrack = tree.array(\"bestMCParticleIsTrack\")\n",
    "hitEnergiesW = tree.array('hitEnergiesW')\n",
    "nHitsW = tree.array('nHitsInPfoW')"
   ]
  },
  {
   "cell_type": "markdown",
   "metadata": {},
   "source": [
    "## Get identities of good pfos"
   ]
  },
  {
   "cell_type": "code",
   "execution_count": 2,
   "metadata": {},
   "outputs": [],
   "source": [
    "comppureid = np.intersect1d(np.where(completeness > 0.9),np.where(purity > 0.9))\n",
    "goodhits = []\n",
    "for i in range(particles):\n",
    "    if len(wwire[i]) > 5:\n",
    "        goodhits.append(i)\n",
    "trueid = np.intersect1d(comppureid,goodhits)"
   ]
  },
  {
   "cell_type": "markdown",
   "metadata": {},
   "source": [
    "# Tracks and showers"
   ]
  },
  {
   "cell_type": "code",
   "execution_count": 3,
   "metadata": {},
   "outputs": [],
   "source": [
    "pfo_hits = np.array([ len(x) for x in wwire])\n",
    "trackid = np.where((completeness > 0.9) & (purity > 0.9) & (pfo_hits > 5) & (istrack == 1))\n",
    "showerid = np.where((completeness > 0.9) & (purity > 0.9) & (pfo_hits > 5) & (istrack == 0))\n",
    "piplus = np.where((completeness > 0.9) & (purity > 0.9) & (pfo_hits > 5) & (pdg == 211))\n",
    "piminus = np.where((completeness > 0.9) & (purity > 0.9) & (pfo_hits > 5) & (pdg == -211))\n",
    "muon = np.where((completeness > 0.9) & (purity > 0.9) & (pfo_hits > 5) & (pdg == 13))\n",
    "antimuon = np.where((completeness > 0.9) & (purity > 0.9) & (pfo_hits > 5) & (pdg == -13))\n",
    "proton = np.where((completeness > 0.9) & (purity > 0.9) & (pfo_hits > 5) & (pdg == 2212))\n",
    "neutron = muon = piplus = np.where((completeness > 0.9) & (purity > 0.9) & (pfo_hits > 5) & (pdg == 2112))"
   ]
  },
  {
   "cell_type": "code",
   "execution_count": 4,
   "metadata": {},
   "outputs": [],
   "source": [
    "hit_energies_sum = hitEnergiesW.sum()"
   ]
  },
  {
   "cell_type": "code",
   "execution_count": 39,
   "metadata": {},
   "outputs": [],
   "source": [
    "hit_energies_sum_tracks = hit_energies_sum[trackid]\n",
    "hit_energies_sum_showers = hit_energies_sum[showerid]"
   ]
  },
  {
   "cell_type": "markdown",
   "metadata": {},
   "source": [
    "## Regress the lines of best fit"
   ]
  },
  {
   "cell_type": "code",
   "execution_count": 5,
   "metadata": {},
   "outputs": [],
   "source": [
    "#Find means in wire and drift for each pfo\n",
    "wireav = wwire[trueid].mean()\n",
    "driftav = wdrift[trueid].mean()\n",
    "\n",
    "#Find slope and intercept of lines of best fit\n",
    "driftdiff = wdrift[trueid] - driftav\n",
    "wirediff = wwire[trueid] - wireav\n",
    "driftwire = driftdiff*wirediff\n",
    "driftsq = driftdiff**2\n",
    "nume = driftwire.sum()\n",
    "denom = driftsq.sum()\n",
    "slope = nume/denom\n",
    "intercept = wireav - slope*driftav\n",
    "slopezero = np.where(slope==0.0)"
   ]
  },
  {
   "cell_type": "markdown",
   "metadata": {},
   "source": [
    "## First and last points of each pfo"
   ]
  },
  {
   "cell_type": "code",
   "execution_count": 6,
   "metadata": {},
   "outputs": [],
   "source": [
    "wwire_sorted = []\n",
    "wdrift_sorted = []\n",
    "\n",
    "for i in range(len(wwire)):\n",
    "    wwire_sorted.append(np.sort(wwire[i]))\n",
    "    \n",
    "for i in range(len(wdrift)):\n",
    "    wdrift_sorted.append(np.sort(wdrift[i]))"
   ]
  },
  {
   "cell_type": "code",
   "execution_count": 7,
   "metadata": {},
   "outputs": [],
   "source": [
    "wwirestart = []\n",
    "wwireend = []\n",
    "wdriftstart = []\n",
    "wdriftend = []\n",
    "for i in trueid:\n",
    "    wwirestart.append(wwire_sorted[i][0])\n",
    "    wwireend.append(wwire_sorted[i][-1])\n",
    "    wdriftstart.append(wdrift_sorted[i][0])\n",
    "    wdriftend.append(wdrift_sorted[i][-1])"
   ]
  },
  {
   "cell_type": "markdown",
   "metadata": {},
   "source": [
    "## Regress end points to line of best fit"
   ]
  },
  {
   "cell_type": "code",
   "execution_count": 8,
   "metadata": {},
   "outputs": [],
   "source": [
    "xstart = []\n",
    "xend = []\n",
    "ystart = []\n",
    "yend = []\n",
    "for i in range(len(trueid)):\n",
    "    if slope[i] != 0:\n",
    "        slopeinv = -1.0/slope[i]\n",
    "        startintercept = wwirestart[i] - wdriftstart[i]*slopeinv\n",
    "        endintercept = wwireend[i] - wdriftend[i]*slopeinv\n",
    "        xbegin = (startintercept - intercept[i])/(slope[i] - slopeinv)\n",
    "        ybegin = slope[i]*xbegin + intercept[i]\n",
    "        xfinish = (endintercept - intercept[i])/(slope[i]-slopeinv)\n",
    "        yfinish = slope[i]*xfinish + intercept[i]\n",
    "        xstart.append(xbegin)\n",
    "        xend.append(xfinish)\n",
    "        ystart.append(ybegin)\n",
    "        yend.append(yfinish)\n",
    "    else:\n",
    "        xstart.append(wdriftstart[i])\n",
    "        xend.append(wdriftend[i])\n",
    "        ystart.append(wwirestart[i])\n",
    "        yend.append(wwireend[i])\n",
    "        "
   ]
  },
  {
   "cell_type": "markdown",
   "metadata": {},
   "source": [
    "# Line lengths"
   ]
  },
  {
   "cell_type": "code",
   "execution_count": 9,
   "metadata": {},
   "outputs": [],
   "source": [
    "linelength = []\n",
    "for i in range(len(xstart)):\n",
    "    xdiff = xend[i] - xstart[i]\n",
    "    ydiff = yend[i] - ystart[i]\n",
    "    lensq = xdiff**2 +ydiff**2\n",
    "    length = np.sqrt(lensq)\n",
    "    linelength.append(length)"
   ]
  },
  {
   "cell_type": "code",
   "execution_count": 10,
   "metadata": {},
   "outputs": [],
   "source": [
    "track_pfo_energies = hitEnergiesW[trackid]\n",
    "shower_pfo_energies = hitEnergiesW[showerid]"
   ]
  },
  {
   "cell_type": "code",
   "execution_count": 11,
   "metadata": {},
   "outputs": [],
   "source": [
    "piplus_energies = hitEnergiesW[piplus]\n",
    "piminus_energies = hitEnergiesW[piminus]\n",
    "muon_energies = hitEnergiesW[muon]\n",
    "antimuon_energies = hitEnergiesW[antimuon]\n",
    "proton_energies = hitEnergiesW[proton]\n",
    "neutron_energies = hitEnergiesW[neutron]"
   ]
  },
  {
   "cell_type": "markdown",
   "metadata": {},
   "source": [
    "# Regress all pfo points to line gosh this took 5ever"
   ]
  },
  {
   "cell_type": "code",
   "execution_count": 14,
   "metadata": {},
   "outputs": [
    {
     "name": "stdout",
     "output_type": "stream",
     "text": [
      "117\n",
      "117\n"
     ]
    }
   ],
   "source": [
    "xpoints = []\n",
    "ypoints = []\n",
    "for i in range(len(trueid)):\n",
    "    xcoord = []\n",
    "    ycoord = []\n",
    "    a = trueid[i]\n",
    "    if slope[i] == 0.0:\n",
    "        xcoord.append(wdrift[a])\n",
    "        ycoord.append(wwire[a])\n",
    "    else:\n",
    "        for j in range(len(wwire[a])):\n",
    "            slopeinv = -1.0/slope[i]\n",
    "            pointintercept = wwire[a][j] - wdrift[a][j]*slopeinv\n",
    "            xpoint = (pointintercept - intercept[i])/(slope[i] - slopeinv)\n",
    "            ypoint = slope[i]*xpoint + intercept[i]\n",
    "            xcoord.append(xpoint)\n",
    "            ycoord.append(ypoint)\n",
    "    xpoints.append(xcoord)\n",
    "    ypoints.append(ycoord)\n",
    "\n",
    "print(len(xpoints[1]))\n",
    "print(len(wdrift[trueid[1]]))"
   ]
  },
  {
   "cell_type": "markdown",
   "metadata": {},
   "source": [
    "# Normalise positions of regressed points for banter"
   ]
  },
  {
   "cell_type": "code",
   "execution_count": 15,
   "metadata": {},
   "outputs": [
    {
     "name": "stderr",
     "output_type": "stream",
     "text": [
      "C:\\Users\\r.xavier\\Anaconda3\\lib\\site-packages\\ipykernel_launcher.py:7: RuntimeWarning: invalid value encountered in true_divide\n",
      "  import sys\n"
     ]
    }
   ],
   "source": [
    "pointsnorm = []\n",
    "for i in range(len(trueid)):\n",
    "    pointcoordnorm = []\n",
    "    for j in range(len(xpoints[i])):\n",
    "        xdifference = xpoints[i][j] - xpoints[i][0]\n",
    "        lengf = xpoints[i][-1] - xpoints[i][0]\n",
    "        normlength = xdifference/lengf\n",
    "        pointcoordnorm.append(normlength)\n",
    "    pointsnorm.append(pointcoordnorm)"
   ]
  },
  {
   "cell_type": "markdown",
   "metadata": {},
   "source": [
    "# Order those regressed points along the line praise be to argsort"
   ]
  },
  {
   "cell_type": "code",
   "execution_count": 16,
   "metadata": {},
   "outputs": [],
   "source": [
    "pointorder = []\n",
    "for i in range(len(trueid)):\n",
    "    lengthorder = np.argsort(pointsnorm[i])\n",
    "    pointorder.append(lengthorder)"
   ]
  },
  {
   "cell_type": "markdown",
   "metadata": {},
   "source": [
    "# Reorganise regressed points according to position, not gender or race"
   ]
  },
  {
   "cell_type": "code",
   "execution_count": 17,
   "metadata": {},
   "outputs": [],
   "source": [
    "xpointsorder = []\n",
    "ypointsorder = []\n",
    "for i in range(len(trueid)):\n",
    "    xpfosort = [xpoints for _,xpoints in sorted(zip(pointorder[i],xpoints[i]))]\n",
    "    ypfosort = [ypoints for _,ypoints in sorted(zip(pointorder[i],ypoints[i]))]\n",
    "    xpointsorder.append(xpfosort)\n",
    "    ypointsorder.append(ypfosort)"
   ]
  },
  {
   "cell_type": "markdown",
   "metadata": {},
   "source": [
    "# Find new lengths due to reordered points."
   ]
  },
  {
   "cell_type": "code",
   "execution_count": 18,
   "metadata": {},
   "outputs": [],
   "source": [
    "truelinelength = []\n",
    "for i in range(len(xstart)):\n",
    "    xdiff = xpointsorder[i][-1] - xpointsorder[i][0]\n",
    "    ydiff = ypointsorder[i][-1] - ypointsorder[i][0]\n",
    "    lensq = xdiff**2 + ydiff**2\n",
    "    length = np.sqrt(lensq)\n",
    "    truelinelength.append(length)"
   ]
  },
  {
   "cell_type": "markdown",
   "metadata": {},
   "source": [
    "# Find new normalised point positions "
   ]
  },
  {
   "cell_type": "code",
   "execution_count": 19,
   "metadata": {},
   "outputs": [
    {
     "name": "stderr",
     "output_type": "stream",
     "text": [
      "C:\\Users\\r.xavier\\Anaconda3\\lib\\site-packages\\ipykernel_launcher.py:10: RuntimeWarning: invalid value encountered in true_divide\n",
      "  # Remove the CWD from sys.path while we load stuff.\n"
     ]
    }
   ],
   "source": [
    "truepointsnorm = []\n",
    "for i in range(len(trueid)):\n",
    "    truepointcoordnorm = []\n",
    "    a = trueid[i]\n",
    "    for j in range(len(xpointsorder[i])):\n",
    "        xdifference = xpointsorder[i][j] - xpointsorder[i][0]\n",
    "        ydifference = ypointsorder[i][j] - ypointsorder[i][0]\n",
    "        lengthsq = xdifference**2 + ydifference**2\n",
    "        truelen = np.sqrt(lengthsq)\n",
    "        normlength = truelen/truelinelength[i]\n",
    "        truepointcoordnorm.append(normlength)\n",
    "    truepointsnorm.append(truepointcoordnorm)"
   ]
  },
  {
   "cell_type": "markdown",
   "metadata": {},
   "source": [
    "# Indices of hits that are > 0.8 along the line"
   ]
  },
  {
   "cell_type": "code",
   "execution_count": 20,
   "metadata": {},
   "outputs": [],
   "source": [
    "truepoints_tracks = []\n",
    "truepoints_showers = []\n",
    "\n",
    "for i in range(len(truepointsnorm)):\n",
    "    a = trueid[i]\n",
    "    if a in trackid[0]:\n",
    "        truepoints_tracks.append(truepointsnorm[i])\n",
    "    elif a in showerid[0]:\n",
    "        truepoints_showers.append(truepointsnorm[i])"
   ]
  },
  {
   "cell_type": "code",
   "execution_count": 21,
   "metadata": {},
   "outputs": [],
   "source": [
    "truepointsTracks=np.array([np.array(i) for i in truepoints_tracks])\n",
    "truepointsShowers=np.array([np.array(i) for i in truepoints_showers])"
   ]
  },
  {
   "cell_type": "code",
   "execution_count": 22,
   "metadata": {},
   "outputs": [
    {
     "name": "stderr",
     "output_type": "stream",
     "text": [
      "C:\\Users\\r.xavier\\Anaconda3\\lib\\site-packages\\ipykernel_launcher.py:4: RuntimeWarning: invalid value encountered in greater\n",
      "  after removing the cwd from sys.path.\n"
     ]
    }
   ],
   "source": [
    "end_indices_tracks = []\n",
    "\n",
    "for i in range(len(trackid[0])):\n",
    "    end_indices_tracks.append(np.array(np.where(truepointsTracks[i] > 0.8)))"
   ]
  },
  {
   "cell_type": "code",
   "execution_count": 23,
   "metadata": {},
   "outputs": [],
   "source": [
    "#Track energies in final 20%\n",
    "\n",
    "end_track_energies = []\n",
    "\n",
    "for i in range(len(track_pfo_energies)):\n",
    "    end_track_energies.append(np.array(track_pfo_energies[i][end_indices_tracks[i]]))"
   ]
  },
  {
   "cell_type": "code",
   "execution_count": 102,
   "metadata": {},
   "outputs": [],
   "source": [
    "end_track_energies_sum = []\n",
    "\n",
    "for i in range(len(trackid[0])):\n",
    "    end_track_energies_sum.append(end_track_energies[i].sum())"
   ]
  },
  {
   "cell_type": "code",
   "execution_count": 103,
   "metadata": {},
   "outputs": [],
   "source": [
    "#Fraction of the total PFO energy contained in hits in the final 20%\n",
    "\n",
    "energy_frac_tracks = end_track_energies_sum / hit_energies_sum_tracks"
   ]
  },
  {
   "cell_type": "code",
   "execution_count": 79,
   "metadata": {},
   "outputs": [],
   "source": [
    "end_indices_showers = []\n",
    "\n",
    "for i in range(len(showerid[0])):\n",
    "    end_indices_showers.append(np.array(np.where(truepointsShowers[i] > 0.8)))"
   ]
  },
  {
   "cell_type": "code",
   "execution_count": 80,
   "metadata": {},
   "outputs": [],
   "source": [
    "end_shower_energies = []\n",
    "\n",
    "for i in range(len(showerid[0])):\n",
    "    end_shower_energies.append(shower_pfo_energies[i][end_indices_showers[i]])"
   ]
  },
  {
   "cell_type": "code",
   "execution_count": 106,
   "metadata": {},
   "outputs": [],
   "source": [
    "end_shower_energies_sum = []\n",
    "\n",
    "for i in range(len(showerid[0])):\n",
    "    end_shower_energies_sum.append(end_shower_energies[i].sum())"
   ]
  },
  {
   "cell_type": "code",
   "execution_count": 108,
   "metadata": {},
   "outputs": [],
   "source": [
    "energy_frac_showers = end_shower_energies_sum / hit_energies_sum_showers"
   ]
  },
  {
   "cell_type": "code",
   "execution_count": 111,
   "metadata": {},
   "outputs": [],
   "source": [
    "weight_tracks = np.ones_like(av_energy_frac_tracks) / len(av_energy_frac_tracks)\n",
    "weight_showers = np.ones_like(av_energy_frac_showers) / len(av_energy_frac_showers)"
   ]
  },
  {
   "cell_type": "code",
   "execution_count": 152,
   "metadata": {},
   "outputs": [
    {
     "data": {
      "image/png": "[encoded data removed]",
      "text/plain": [
       "<Figure size 720x720 with 1 Axes>"
      ]
     },
     "metadata": {
      "needs_background": "light"
     },
     "output_type": "display_data"
    }
   ],
   "source": [
    "fig = plt.figure(1, figsize=(10, 10))\n",
    "plt.hist(energy_frac_tracks, 100, weights = weight_tracks, color = 'g', histtype = u'step', label = 'Tracks')\n",
    "plt.hist(energy_frac_showers, 100, weights = weight_showers, color = 'b', histtype = u'step', label = 'Showers')\n",
    "plt.title('Energies: Tracks and Showers', fontsize = 20)\n",
    "plt.xlabel('Energy (ADC counts)')\n",
    "plt.ylabel('Number of PFOs')\n",
    "\n",
    "plt.legend()\n",
    "        \n",
    "plt.show()"
   ]
  },
  {
   "cell_type": "code",
   "execution_count": 146,
   "metadata": {},
   "outputs": [
    {
     "data": {
      "text/plain": [
       "24098"
      ]
     },
     "execution_count": 146,
     "metadata": {},
     "output_type": "execute_result"
    }
   ],
   "source": [
    "len(trueid)"
   ]
  },
  {
   "cell_type": "code",
   "execution_count": null,
   "metadata": {},
   "outputs": [],
   "source": []
  }
 ],
 "metadata": {
  "kernelspec": {
   "display_name": "Python 3",
   "language": "python",
   "name": "python3"
  },
  "language_info": {
   "codemirror_mode": {
    "name": "ipython",
    "version": 3
   },
   "file_extension": ".py",
   "mimetype": "text/x-python",
   "name": "python",
   "nbconvert_exporter": "python",
   "pygments_lexer": "ipython3",
   "version": "3.7.3"
  }
 },
 "nbformat": 4,
 "nbformat_minor": 4
}
