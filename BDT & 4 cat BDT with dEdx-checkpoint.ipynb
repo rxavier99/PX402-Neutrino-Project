{
 "cells": [
  {
   "cell_type": "code",
   "execution_count": 114,
   "metadata": {},
   "outputs": [],
   "source": [
    "import numpy as np\n",
    "import matplotlib.pyplot as plt\n",
    "from sklearn.tree import DecisionTreeClassifier\n",
    "from sklearn.ensemble import AdaBoostClassifier\n",
    "from sklearn.datasets import make_classification"
   ]
  },
  {
   "cell_type": "code",
   "execution_count": 115,
   "metadata": {},
   "outputs": [],
   "source": [
    "pdg_train = np.abs(np.load('trainpdg.npy'))\n",
    "pdg_test = np.abs(np.load('testpdg.npy'))"
   ]
  },
  {
   "cell_type": "markdown",
   "metadata": {},
   "source": [
    "# Training data sets"
   ]
  },
  {
   "cell_type": "code",
   "execution_count": 116,
   "metadata": {},
   "outputs": [],
   "source": [
    "trainangles = np.load('trainangles.npy', allow_pickle = True)\n",
    "trainenergy = np.load('trainenergies.npy', allow_pickle = True)\n",
    "trainbinfrac = np.load('trainbinfrac.npy', allow_pickle = True)\n",
    "trainrsq = np.load('trainrsquare.npy', allow_pickle = True)\n",
    "trainisTrack = np.load('trainisTrack.npy')\n",
    "traindedx = np.load('dedx_train.npy', allow_pickle = True)"
   ]
  },
  {
   "cell_type": "code",
   "execution_count": 117,
   "metadata": {},
   "outputs": [],
   "source": [
    "x_train = np.array(list(zip(trainangles, trainbinfrac, trainenergy, trainrsq, traindedx)))"
   ]
  },
  {
   "cell_type": "code",
   "execution_count": 118,
   "metadata": {},
   "outputs": [],
   "source": [
    "y_train = trainisTrack"
   ]
  },
  {
   "cell_type": "markdown",
   "metadata": {},
   "source": [
    "# Create and train BDT"
   ]
  },
  {
   "cell_type": "code",
   "execution_count": null,
   "metadata": {},
   "outputs": [],
   "source": [
    "base = DecisionTreeClassifier(max_depth=5)\n",
    "bdt = AdaBoostClassifier(base_estimator=base, n_estimators=200, random_state=0)\n",
    "bdt.fit(x_train, y_train)"
   ]
  },
  {
   "cell_type": "code",
   "execution_count": null,
   "metadata": {},
   "outputs": [],
   "source": [
    "bdt.score(x_train, y_train)"
   ]
  },
  {
   "cell_type": "markdown",
   "metadata": {},
   "source": [
    "# Testing data sets"
   ]
  },
  {
   "cell_type": "code",
   "execution_count": null,
   "metadata": {},
   "outputs": [],
   "source": [
    "testangles = np.load('testangles.npy', allow_pickle = True)\n",
    "testenergy = np.load('testenergies - Copy.npy', allow_pickle = True)\n",
    "testbinfrac = np.load('testbinfrac.npy', allow_pickle = True)\n",
    "testrsq = np.load('testrsquare.npy', allow_pickle = True)\n",
    "testisTrack = np.load('testisTrack.npy')\n",
    "testdedx = np.load('dedx_test.npy', allow_pickle = True)"
   ]
  },
  {
   "cell_type": "code",
   "execution_count": null,
   "metadata": {},
   "outputs": [],
   "source": [
    "x_test = np.array(list(zip(testangles, testbinfrac, testenergy, testrsq, testdedx)))"
   ]
  },
  {
   "cell_type": "code",
   "execution_count": null,
   "metadata": {},
   "outputs": [],
   "source": [
    "y_test = testisTrack"
   ]
  },
  {
   "cell_type": "markdown",
   "metadata": {},
   "source": [
    "# Create and test BDT"
   ]
  },
  {
   "cell_type": "code",
   "execution_count": null,
   "metadata": {},
   "outputs": [],
   "source": [
    "base = DecisionTreeClassifier(max_depth=5)\n",
    "bdt = AdaBoostClassifier(base_estimator=base, n_estimators=200, random_state=0)\n",
    "bdt.fit(x_test, y_test)"
   ]
  },
  {
   "cell_type": "code",
   "execution_count": null,
   "metadata": {},
   "outputs": [],
   "source": [
    "bdt.score(x_test, y_test)"
   ]
  },
  {
   "cell_type": "markdown",
   "metadata": {},
   "source": [
    "# BDT training score"
   ]
  },
  {
   "cell_type": "code",
   "execution_count": null,
   "metadata": {},
   "outputs": [],
   "source": [
    "f_train = bdt.decision_function(x_train)\n",
    "min_f_train = np.round(np.min(f_train), 1)\n",
    "max_f_train = np.round(np.max(f_train), 1)\n",
    "bins = np.linspace(min_f_train, max_f_train, 100)\n",
    "cls_0_f_train = f_train[np.where(y_train == 0)]\n",
    "cls_1_f_train = f_train[np.where(y_train == 1)]\n",
    "weights_0 = np.ones_like(cls_0_f_train) / len(cls_0_f_train)\n",
    "weights_1 = np.ones_like(cls_1_f_train) / len(cls_1_f_train)\n",
    "plt.hist(cls_0_f_train, color='r', weights=weights_0, bins=bins, histtype='step', label='Showers')\n",
    "plt.hist(cls_1_f_train, color='b', weights=weights_1, bins=bins, histtype='step', label='Tracks')\n",
    "plt.legend()"
   ]
  },
  {
   "cell_type": "markdown",
   "metadata": {},
   "source": [
    "# BDT testing score"
   ]
  },
  {
   "cell_type": "code",
   "execution_count": null,
   "metadata": {},
   "outputs": [],
   "source": [
    "#Which one do we talk about training or testing?"
   ]
  },
  {
   "cell_type": "code",
   "execution_count": null,
   "metadata": {},
   "outputs": [],
   "source": [
    "f_test = bdt.decision_function(x_test)\n",
    "min_f_test = np.round(np.min(f_test), 1)\n",
    "max_f_test = np.round(np.max(f_test), 1)\n",
    "bins = np.linspace(min_f_test, max_f_test, 100)\n",
    "cls_0_f_test = f_test[np.where(y_test == 0)]\n",
    "cls_1_f_test = f_test[np.where(y_test == 1)]\n",
    "weights_0 = np.ones_like(cls_0_f_test) / len(cls_0_f_test)\n",
    "weights_1 = np.ones_like(cls_1_f_test) / len(cls_1_f_test)\n",
    "plt.hist(cls_0_f_test, color='r', weights=weights_0, bins=bins, histtype='step', label='Showers')\n",
    "plt.hist(cls_1_f_test, color='b', weights=weights_1, bins=bins, histtype='step', label='Tracks')\n",
    "plt.legend()"
   ]
  },
  {
   "cell_type": "markdown",
   "metadata": {},
   "source": [
    "# Track particle id training sample"
   ]
  },
  {
   "cell_type": "code",
   "execution_count": null,
   "metadata": {},
   "outputs": [],
   "source": [
    "tracks_train = np.where(f_train > 0)[0]\n",
    "tracks_test = np.where(f_test > 0)[0]"
   ]
  },
  {
   "cell_type": "code",
   "execution_count": null,
   "metadata": {},
   "outputs": [],
   "source": [
    "len(tracks_train)"
   ]
  },
  {
   "cell_type": "code",
   "execution_count": null,
   "metadata": {},
   "outputs": [],
   "source": [
    "pdg2_train = pdg_train[tracks_train]"
   ]
  },
  {
   "cell_type": "code",
   "execution_count": null,
   "metadata": {},
   "outputs": [],
   "source": [
    "for n, i in enumerate(pdg2_train):\n",
    "    if i == 11:\n",
    "        pdg2_train[n] = 0\n",
    "    elif i == 22:\n",
    "        pdg2_train[n] = 0\n",
    "    elif i == 321: \n",
    "        pdg2_train[n] = 0\n",
    "    elif i == 2112: \n",
    "        pdg2_train[n] = 0\n",
    "    elif i == 3112:\n",
    "        pdg2_train[n] = 0\n",
    "    elif i == 3222:\n",
    "        pdg2_train[n] = 0      "
   ]
  },
  {
   "cell_type": "markdown",
   "metadata": {},
   "source": [
    "# Track particle id testing sample"
   ]
  },
  {
   "cell_type": "code",
   "execution_count": null,
   "metadata": {},
   "outputs": [],
   "source": [
    "pdg2_test = pdg_test[tracks_test]"
   ]
  },
  {
   "cell_type": "code",
   "execution_count": null,
   "metadata": {},
   "outputs": [],
   "source": [
    "set(pdg2_test)"
   ]
  },
  {
   "cell_type": "code",
   "execution_count": null,
   "metadata": {},
   "outputs": [],
   "source": [
    "for n, i in enumerate(pdg2_test):\n",
    "    if i == 11:\n",
    "        pdg2_test[n] = 0\n",
    "    elif i == 22:\n",
    "        pdg2_test[n] = 0\n",
    "    elif i == 321: \n",
    "        pdg2_test[n] = 0\n",
    "    elif i == 2112: \n",
    "        pdg2_test[n] = 0\n",
    "    elif i == 3112:\n",
    "        pdg2_test[n] = 0\n",
    "    elif i == 3222:\n",
    "        pdg2_test[n] = 0      "
   ]
  },
  {
   "cell_type": "code",
   "execution_count": null,
   "metadata": {},
   "outputs": [],
   "source": [
    "tracks_train = np.where(f_train > 0)[0]\n",
    "tracks_test = np.where(f_test > 0)[0]"
   ]
  },
  {
   "cell_type": "code",
   "execution_count": null,
   "metadata": {},
   "outputs": [],
   "source": [
    "trainangles_tracks = trainangles[tracks_train]\n",
    "trainenergy_tracks = trainenergy[tracks_train]\n",
    "trainbinfrac_tracks= trainbinfrac[tracks_train]\n",
    "trainrsq_tracks = trainrsq[tracks_train]\n",
    "traindedx_tracks = traindedx[tracks_train]"
   ]
  },
  {
   "cell_type": "code",
   "execution_count": null,
   "metadata": {},
   "outputs": [],
   "source": [
    "testangles_tracks = testangles[tracks_test]\n",
    "testenergy_tracks = testenergy[tracks_test]\n",
    "testbinfrac_tracks = testbinfrac[tracks_test]\n",
    "testrsq_tracks = testrsq[tracks_test]\n",
    "testdedx_tracks = testdedx[tracks_test]"
   ]
  },
  {
   "cell_type": "code",
   "execution_count": null,
   "metadata": {},
   "outputs": [],
   "source": [
    "#Variables values with bdt score > 0\n",
    "np.save('trainangles_t_dedx.npy', trainangles_tracks)\n",
    "np.save('trainenergy_t_dedx.npy', trainenergy_tracks)\n",
    "np.save('trainbinfrac_t_dedx.npy', trainbinfrac_tracks)\n",
    "np.save('trainrsq_t_dedx.npy', trainrsq_tracks)\n",
    "np.save('traindedx_t.npy', traindedx_tracks)"
   ]
  },
  {
   "cell_type": "code",
   "execution_count": null,
   "metadata": {},
   "outputs": [],
   "source": [
    "np.save('testangles_t_dedx.npy', testangles_tracks)\n",
    "np.save('testenergy_t_dedx.npy', testenergy_tracks)\n",
    "np.save('testbinfrac_t_dedx.npy', testbinfrac_tracks)\n",
    "np.save('testrsq_t_dedx.npy', testrsq_tracks)\n",
    "np.save('testdedx_t.npy', testdedx_tracks)"
   ]
  },
  {
   "cell_type": "code",
   "execution_count": null,
   "metadata": {},
   "outputs": [],
   "source": [
    "plt.hist(testenergy_tracks, 100)\n",
    "plt.show()"
   ]
  },
  {
   "cell_type": "code",
   "execution_count": null,
   "metadata": {},
   "outputs": [],
   "source": [
    "np.save('pdg2_train_dedx.npy', pdg2_train)\n",
    "np.save('pdg2_test_dedx.npy', pdg2_test)"
   ]
  },
  {
   "cell_type": "code",
   "execution_count": 29,
   "metadata": {},
   "outputs": [
    {
     "data": {
      "text/plain": [
       "{0, 13, 211, 2212}"
      ]
     },
     "execution_count": 29,
     "metadata": {},
     "output_type": "execute_result"
    }
   ],
   "source": [
    "set(pdg2_train)"
   ]
  },
  {
   "cell_type": "code",
   "execution_count": 30,
   "metadata": {},
   "outputs": [
    {
     "data": {
      "text/plain": [
       "78513"
      ]
     },
     "execution_count": 30,
     "metadata": {},
     "output_type": "execute_result"
    }
   ],
   "source": [
    "len(pdg2_train)"
   ]
  },
  {
   "cell_type": "code",
   "execution_count": null,
   "metadata": {},
   "outputs": [],
   "source": []
  },
  {
   "cell_type": "code",
   "execution_count": 31,
   "metadata": {},
   "outputs": [],
   "source": [
    "#PDGs predicted by the 4 cat BDT\n",
    "pred_train = np.load('fourcatdedx_pred_train.npy')\n",
    "pred_test = np.load('fourcatdedx_pred_test.npy')"
   ]
  },
  {
   "cell_type": "code",
   "execution_count": 32,
   "metadata": {
    "scrolled": true
   },
   "outputs": [
    {
     "data": {
      "text/plain": [
       "array([  13, 2212, 2212,   13, 2212, 2212, 2212,   13, 2212,   13,  211,\n",
       "         13,   13,   13, 2212,   13,    0, 2212, 2212, 2212,   13,   13,\n",
       "       2212,   13,   13,   13, 2212,   13, 2212, 2212, 2212,  211, 2212,\n",
       "       2212, 2212, 2212,   13,   13, 2212, 2212,   13, 2212,   13, 2212,\n",
       "         13, 2212,   13, 2212, 2212, 2212, 2212, 2212,   13,   13, 2212,\n",
       "       2212,   13,   13,   13,  211,   13,   13,  211,   13,   13, 2212,\n",
       "         13,   13, 2212,   13,  211, 2212,   13,   13,   13, 2212,   13,\n",
       "          0, 2212, 2212,   13,   13, 2212, 2212,  211,   13, 2212, 2212,\n",
       "         13, 2212,   13,   13,   13,   13,    0,   13,   13,  211,   13,\n",
       "         13])"
      ]
     },
     "execution_count": 32,
     "metadata": {},
     "output_type": "execute_result"
    }
   ],
   "source": [
    "pred_train[:100]"
   ]
  },
  {
   "cell_type": "code",
   "execution_count": 33,
   "metadata": {},
   "outputs": [
    {
     "data": {
      "text/plain": [
       "array([  13, 2212, 2212,   13, 2212, 2212, 2212,   13, 2212,   13,  211,\n",
       "         13,   13,   13, 2212,   13,    0,    0, 2212, 2212,   13, 2212,\n",
       "       2212, 2212, 2212, 2212, 2212,    0, 2212, 2212,   13, 2212, 2212,\n",
       "       2212,   13, 2212,   13,   13,   13, 2212,   13, 2212,   13,   13,\n",
       "         13, 2212,   13, 2212, 2212, 2212, 2212, 2212, 2212,   13, 2212,\n",
       "       2212,   13,   13,   13,   13,   13,   13,  211,   13, 2212, 2212,\n",
       "         13,   13, 2212,   13,  211, 2212,   13,   13,   13,   13,   13,\n",
       "          0, 2212, 2212,  211,   13, 2212, 2212, 2212, 2212,   13, 2212,\n",
       "         13, 2212,   13,   13,    0,   13, 2212,   13,   13,  211,  211,\n",
       "        211])"
      ]
     },
     "execution_count": 33,
     "metadata": {},
     "output_type": "execute_result"
    }
   ],
   "source": [
    "#True PDG values\n",
    "pdg2_train[:100]"
   ]
  },
  {
   "cell_type": "code",
   "execution_count": 34,
   "metadata": {},
   "outputs": [],
   "source": [
    "true_muon_train = np.where(pdg2_train == 13)[0]\n",
    "true_proton_train = np.where(pdg2_train == 2212)[0]\n",
    "true_pion_train = np.where(pdg2_train == 211)[0]\n",
    "true_other_train = np.where(pdg2_train == 0)[0]"
   ]
  },
  {
   "cell_type": "code",
   "execution_count": 35,
   "metadata": {},
   "outputs": [],
   "source": [
    "pred_muon_train = np.where(pred_train == 13)[0]\n",
    "pred_proton_train = np.where(pred_train == 2212)[0]\n",
    "pred_pion_train = np.where(pred_train == 211)[0]\n",
    "pred_other_train = np.where(pred_train == 0)[0]"
   ]
  },
  {
   "cell_type": "code",
   "execution_count": 36,
   "metadata": {},
   "outputs": [],
   "source": [
    "mumu_train = len(np.intersect1d(true_muon_train, pred_muon_train))/len(true_muon_train)\n",
    "protprot_train = len(np.intersect1d(true_proton_train, pred_proton_train))/len(true_proton_train)\n",
    "pipi_train = len(np.intersect1d(true_pion_train, pred_pion_train))/len(true_pion_train)\n",
    "otherother_train = len(np.intersect1d(true_other_train, pred_other_train))/len(true_other_train)"
   ]
  },
  {
   "cell_type": "code",
   "execution_count": 37,
   "metadata": {},
   "outputs": [
    {
     "data": {
      "text/plain": [
       "0.7572710598716101"
      ]
     },
     "execution_count": 37,
     "metadata": {},
     "output_type": "execute_result"
    }
   ],
   "source": [
    "mumu_train"
   ]
  },
  {
   "cell_type": "code",
   "execution_count": 38,
   "metadata": {},
   "outputs": [
    {
     "data": {
      "text/plain": [
       "0.8040379714933774"
      ]
     },
     "execution_count": 38,
     "metadata": {},
     "output_type": "execute_result"
    }
   ],
   "source": [
    "protprot_train"
   ]
  },
  {
   "cell_type": "code",
   "execution_count": 39,
   "metadata": {},
   "outputs": [
    {
     "data": {
      "text/plain": [
       "0.2191806683028129"
      ]
     },
     "execution_count": 39,
     "metadata": {},
     "output_type": "execute_result"
    }
   ],
   "source": [
    "pipi_train"
   ]
  },
  {
   "cell_type": "code",
   "execution_count": 40,
   "metadata": {},
   "outputs": [
    {
     "data": {
      "text/plain": [
       "0.5288971748171518"
      ]
     },
     "execution_count": 40,
     "metadata": {},
     "output_type": "execute_result"
    }
   ],
   "source": [
    "otherother_train"
   ]
  },
  {
   "cell_type": "code",
   "execution_count": 41,
   "metadata": {},
   "outputs": [],
   "source": [
    "muprot_train = len(np.intersect1d(true_muon_train, pred_proton_train))/len(true_muon_train)\n",
    "mupi_train = len(np.intersect1d(true_muon_train, pred_pion_train))/len(true_muon_train)\n",
    "muother_train = len(np.intersect1d(true_muon_train, pred_other_train))/len(true_muon_train)"
   ]
  },
  {
   "cell_type": "code",
   "execution_count": 42,
   "metadata": {},
   "outputs": [
    {
     "data": {
      "text/plain": [
       "0.19078344032490502"
      ]
     },
     "execution_count": 42,
     "metadata": {},
     "output_type": "execute_result"
    }
   ],
   "source": [
    "muprot_train"
   ]
  },
  {
   "cell_type": "code",
   "execution_count": 43,
   "metadata": {
    "scrolled": true
   },
   "outputs": [
    {
     "data": {
      "text/plain": [
       "0.02341805319009564"
      ]
     },
     "execution_count": 43,
     "metadata": {},
     "output_type": "execute_result"
    }
   ],
   "source": [
    "mupi_train"
   ]
  },
  {
   "cell_type": "code",
   "execution_count": 44,
   "metadata": {},
   "outputs": [
    {
     "data": {
      "text/plain": [
       "0.02852744661338923"
      ]
     },
     "execution_count": 44,
     "metadata": {},
     "output_type": "execute_result"
    }
   ],
   "source": [
    "muother_train"
   ]
  },
  {
   "cell_type": "code",
   "execution_count": 45,
   "metadata": {},
   "outputs": [],
   "source": [
    "protmu_train = len(np.intersect1d(true_proton_train, pred_muon_train))/len(true_proton_train)\n",
    "protpi_train = len(np.intersect1d(true_proton_train, pred_pion_train))/len(true_proton_train)\n",
    "protother_train = len(np.intersect1d(true_proton_train, pred_other_train))/len(true_proton_train)"
   ]
  },
  {
   "cell_type": "code",
   "execution_count": 46,
   "metadata": {},
   "outputs": [
    {
     "data": {
      "text/plain": [
       "0.15331410489765057"
      ]
     },
     "execution_count": 46,
     "metadata": {},
     "output_type": "execute_result"
    }
   ],
   "source": [
    "protmu_train"
   ]
  },
  {
   "cell_type": "code",
   "execution_count": 47,
   "metadata": {},
   "outputs": [
    {
     "data": {
      "text/plain": [
       "0.012797177340315309"
      ]
     },
     "execution_count": 47,
     "metadata": {},
     "output_type": "execute_result"
    }
   ],
   "source": [
    "protpi_train"
   ]
  },
  {
   "cell_type": "code",
   "execution_count": 48,
   "metadata": {},
   "outputs": [
    {
     "data": {
      "text/plain": [
       "0.029850746268656716"
      ]
     },
     "execution_count": 48,
     "metadata": {},
     "output_type": "execute_result"
    }
   ],
   "source": [
    "protother_train"
   ]
  },
  {
   "cell_type": "code",
   "execution_count": 49,
   "metadata": {},
   "outputs": [],
   "source": [
    "pimu_train = len(np.intersect1d(true_pion_train, pred_muon_train))/len(true_pion_train) \n",
    "piprot_train = len(np.intersect1d(true_pion_train, pred_proton_train))/len(true_pion_train)\n",
    "piother_train = len(np.intersect1d(true_pion_train, pred_other_train))/len(true_pion_train)"
   ]
  },
  {
   "cell_type": "code",
   "execution_count": 50,
   "metadata": {},
   "outputs": [
    {
     "data": {
      "text/plain": [
       "0.4217481593354729"
      ]
     },
     "execution_count": 50,
     "metadata": {},
     "output_type": "execute_result"
    }
   ],
   "source": [
    "pimu_train"
   ]
  },
  {
   "cell_type": "code",
   "execution_count": 51,
   "metadata": {},
   "outputs": [
    {
     "data": {
      "text/plain": [
       "0.30186898244289223"
      ]
     },
     "execution_count": 51,
     "metadata": {},
     "output_type": "execute_result"
    }
   ],
   "source": [
    "piprot_train"
   ]
  },
  {
   "cell_type": "code",
   "execution_count": 52,
   "metadata": {},
   "outputs": [
    {
     "data": {
      "text/plain": [
       "0.05720218991882198"
      ]
     },
     "execution_count": 52,
     "metadata": {},
     "output_type": "execute_result"
    }
   ],
   "source": [
    "piother_train"
   ]
  },
  {
   "cell_type": "code",
   "execution_count": 53,
   "metadata": {},
   "outputs": [],
   "source": [
    "othermu_train = len(np.intersect1d(true_other_train, pred_muon_train))/len(true_other_train) \n",
    "otherprot_train = len(np.intersect1d(true_other_train, pred_proton_train))/len(true_other_train)\n",
    "otherpi_train = len(np.intersect1d(true_other_train, pred_pion_train))/len(true_other_train)"
   ]
  },
  {
   "cell_type": "code",
   "execution_count": 54,
   "metadata": {},
   "outputs": [
    {
     "data": {
      "text/plain": [
       "0.1970457478846981"
      ]
     },
     "execution_count": 54,
     "metadata": {},
     "output_type": "execute_result"
    }
   ],
   "source": [
    "othermu_train"
   ]
  },
  {
   "cell_type": "code",
   "execution_count": 55,
   "metadata": {},
   "outputs": [
    {
     "data": {
      "text/plain": [
       "0.25799512404990677"
      ]
     },
     "execution_count": 55,
     "metadata": {},
     "output_type": "execute_result"
    }
   ],
   "source": [
    "otherprot_train"
   ]
  },
  {
   "cell_type": "code",
   "execution_count": 56,
   "metadata": {},
   "outputs": [
    {
     "data": {
      "text/plain": [
       "0.016061953248243225"
      ]
     },
     "execution_count": 56,
     "metadata": {},
     "output_type": "execute_result"
    }
   ],
   "source": [
    "otherpi_train"
   ]
  },
  {
   "cell_type": "code",
   "execution_count": null,
   "metadata": {},
   "outputs": [],
   "source": []
  },
  {
   "cell_type": "code",
   "execution_count": 57,
   "metadata": {},
   "outputs": [],
   "source": [
    "true_muon_test = np.where(pdg2_test == 13)[0]\n",
    "true_proton_test = np.where(pdg2_test == 2212)[0]\n",
    "true_pion_test = np.where(pdg2_test == 211)[0]\n",
    "true_other_test = np.where(pdg2_test == 0)[0]"
   ]
  },
  {
   "cell_type": "code",
   "execution_count": 58,
   "metadata": {},
   "outputs": [],
   "source": [
    "pred_muon_test = np.where(pred_test == 13)[0]\n",
    "pred_proton_test = np.where(pred_test == 2212)[0]\n",
    "pred_pion_test = np.where(pred_test == 211)[0]\n",
    "pred_other_test = np.where(pred_test == 0)[0]"
   ]
  },
  {
   "cell_type": "code",
   "execution_count": 59,
   "metadata": {},
   "outputs": [],
   "source": [
    "mumu_test = len(np.intersect1d(true_muon_test, pred_muon_test))/len(true_muon_test)\n",
    "protprot_test = len(np.intersect1d(true_proton_test, pred_proton_test))/len(true_proton_test)\n",
    "pipi_test = len(np.intersect1d(true_pion_test, pred_pion_test))/len(true_pion_test)\n",
    "otherother_test = len(np.intersect1d(true_other_test, pred_other_test))/len(true_other_test)"
   ]
  },
  {
   "cell_type": "code",
   "execution_count": 60,
   "metadata": {},
   "outputs": [
    {
     "data": {
      "text/plain": [
       "0.745804572224685"
      ]
     },
     "execution_count": 60,
     "metadata": {},
     "output_type": "execute_result"
    }
   ],
   "source": [
    "mumu_test"
   ]
  },
  {
   "cell_type": "code",
   "execution_count": 61,
   "metadata": {},
   "outputs": [
    {
     "data": {
      "text/plain": [
       "0.8025697781136965"
      ]
     },
     "execution_count": 61,
     "metadata": {},
     "output_type": "execute_result"
    }
   ],
   "source": [
    "protprot_test"
   ]
  },
  {
   "cell_type": "code",
   "execution_count": 62,
   "metadata": {},
   "outputs": [
    {
     "data": {
      "text/plain": [
       "0.24513809445987905"
      ]
     },
     "execution_count": 62,
     "metadata": {},
     "output_type": "execute_result"
    }
   ],
   "source": [
    "pipi_test"
   ]
  },
  {
   "cell_type": "code",
   "execution_count": 63,
   "metadata": {},
   "outputs": [
    {
     "data": {
      "text/plain": [
       "0.36463331048663467"
      ]
     },
     "execution_count": 63,
     "metadata": {},
     "output_type": "execute_result"
    }
   ],
   "source": [
    "otherother_test"
   ]
  },
  {
   "cell_type": "code",
   "execution_count": 64,
   "metadata": {},
   "outputs": [],
   "source": [
    "muprot_test = len(np.intersect1d(true_muon_test, pred_proton_test))/len(true_muon_test)\n",
    "mupi_test = len(np.intersect1d(true_muon_test, pred_pion_test))/len(true_muon_test)\n",
    "muother_test = len(np.intersect1d(true_muon_test, pred_other_test))/len(true_muon_test)"
   ]
  },
  {
   "cell_type": "code",
   "execution_count": 65,
   "metadata": {},
   "outputs": [
    {
     "data": {
      "text/plain": [
       "0.19853080868849343"
      ]
     },
     "execution_count": 65,
     "metadata": {},
     "output_type": "execute_result"
    }
   ],
   "source": [
    "muprot_test"
   ]
  },
  {
   "cell_type": "code",
   "execution_count": 66,
   "metadata": {
    "scrolled": true
   },
   "outputs": [
    {
     "data": {
      "text/plain": [
       "0.03964283452599582"
      ]
     },
     "execution_count": 66,
     "metadata": {},
     "output_type": "execute_result"
    }
   ],
   "source": [
    "mupi_test"
   ]
  },
  {
   "cell_type": "code",
   "execution_count": 67,
   "metadata": {},
   "outputs": [
    {
     "data": {
      "text/plain": [
       "0.016021784560825786"
      ]
     },
     "execution_count": 67,
     "metadata": {},
     "output_type": "execute_result"
    }
   ],
   "source": [
    "muother_test"
   ]
  },
  {
   "cell_type": "code",
   "execution_count": 68,
   "metadata": {},
   "outputs": [],
   "source": [
    "protmu_test = len(np.intersect1d(true_proton_test, pred_muon_test))/len(true_proton_test)\n",
    "protpi_test = len(np.intersect1d(true_proton_test, pred_pion_test))/len(true_proton_test)\n",
    "protother_test = len(np.intersect1d(true_proton_test, pred_other_test))/len(true_proton_test)"
   ]
  },
  {
   "cell_type": "code",
   "execution_count": 69,
   "metadata": {},
   "outputs": [
    {
     "data": {
      "text/plain": [
       "0.16268962910975543"
      ]
     },
     "execution_count": 69,
     "metadata": {},
     "output_type": "execute_result"
    }
   ],
   "source": [
    "protmu_test"
   ]
  },
  {
   "cell_type": "code",
   "execution_count": 70,
   "metadata": {},
   "outputs": [
    {
     "data": {
      "text/plain": [
       "0.018058629811585597"
      ]
     },
     "execution_count": 70,
     "metadata": {},
     "output_type": "execute_result"
    }
   ],
   "source": [
    "protpi_test"
   ]
  },
  {
   "cell_type": "code",
   "execution_count": 71,
   "metadata": {},
   "outputs": [
    {
     "data": {
      "text/plain": [
       "0.01668196296496248"
      ]
     },
     "execution_count": 71,
     "metadata": {},
     "output_type": "execute_result"
    }
   ],
   "source": [
    "protother_test"
   ]
  },
  {
   "cell_type": "code",
   "execution_count": 72,
   "metadata": {},
   "outputs": [],
   "source": [
    "pimu_test = len(np.intersect1d(true_pion_test, pred_muon_test))/len(true_pion_test) \n",
    "piprot_test = len(np.intersect1d(true_pion_test, pred_proton_test))/len(true_pion_test)\n",
    "piother_test = len(np.intersect1d(true_pion_test, pred_other_test))/len(true_pion_test)"
   ]
  },
  {
   "cell_type": "code",
   "execution_count": 73,
   "metadata": {},
   "outputs": [
    {
     "data": {
      "text/plain": [
       "0.42212779865991173"
      ]
     },
     "execution_count": 73,
     "metadata": {},
     "output_type": "execute_result"
    }
   ],
   "source": [
    "pimu_test"
   ]
  },
  {
   "cell_type": "code",
   "execution_count": 74,
   "metadata": {},
   "outputs": [
    {
     "data": {
      "text/plain": [
       "0.30495178950808954"
      ]
     },
     "execution_count": 74,
     "metadata": {},
     "output_type": "execute_result"
    }
   ],
   "source": [
    "piprot_test"
   ]
  },
  {
   "cell_type": "code",
   "execution_count": 75,
   "metadata": {},
   "outputs": [
    {
     "data": {
      "text/plain": [
       "0.027782317372119628"
      ]
     },
     "execution_count": 75,
     "metadata": {},
     "output_type": "execute_result"
    }
   ],
   "source": [
    "piother_test"
   ]
  },
  {
   "cell_type": "code",
   "execution_count": 76,
   "metadata": {},
   "outputs": [],
   "source": [
    "othermu_test = len(np.intersect1d(true_other_test, pred_muon_test))/len(true_other_test) \n",
    "otherprot_test = len(np.intersect1d(true_other_test, pred_proton_test))/len(true_other_test)\n",
    "otherpi_test = len(np.intersect1d(true_other_test, pred_pion_test))/len(true_other_test)"
   ]
  },
  {
   "cell_type": "code",
   "execution_count": 77,
   "metadata": {},
   "outputs": [
    {
     "data": {
      "text/plain": [
       "0.27393191683801693"
      ]
     },
     "execution_count": 77,
     "metadata": {},
     "output_type": "execute_result"
    }
   ],
   "source": [
    "othermu_test"
   ]
  },
  {
   "cell_type": "code",
   "execution_count": 78,
   "metadata": {},
   "outputs": [
    {
     "data": {
      "text/plain": [
       "0.3390450079963445"
      ]
     },
     "execution_count": 78,
     "metadata": {},
     "output_type": "execute_result"
    }
   ],
   "source": [
    "otherprot_test"
   ]
  },
  {
   "cell_type": "code",
   "execution_count": 79,
   "metadata": {},
   "outputs": [
    {
     "data": {
      "text/plain": [
       "0.022389764679003884"
      ]
     },
     "execution_count": 79,
     "metadata": {},
     "output_type": "execute_result"
    }
   ],
   "source": [
    "otherpi_test"
   ]
  },
  {
   "cell_type": "code",
   "execution_count": 80,
   "metadata": {
    "scrolled": true
   },
   "outputs": [
    {
     "data": {
      "text/plain": [
       "78513"
      ]
     },
     "execution_count": 80,
     "metadata": {},
     "output_type": "execute_result"
    }
   ],
   "source": [
    "len(pdg2_train)"
   ]
  },
  {
   "cell_type": "markdown",
   "metadata": {},
   "source": [
    "# BDT assessment"
   ]
  },
  {
   "cell_type": "code",
   "execution_count": 81,
   "metadata": {},
   "outputs": [],
   "source": [
    "muonscalledmuons = len(np.intersect1d(true_muon_test, pred_muon_test))\n",
    "muonscalledprotons = len(np.intersect1d(true_muon_test, pred_proton_test))\n",
    "muonscalledpions = len(np.intersect1d(true_muon_test, pred_pion_test))\n",
    "muonscalledother = len(np.intersect1d(true_muon_test, pred_other_test))"
   ]
  },
  {
   "cell_type": "code",
   "execution_count": 82,
   "metadata": {},
   "outputs": [],
   "source": [
    "pionscalledpions = len(np.intersect1d(true_pion_test, pred_pion_test))\n",
    "pionscalledmuons = len(np.intersect1d(true_pion_test, pred_muon_test))\n",
    "pionscalledprotons = len(np.intersect1d(true_pion_test, pred_proton_test))\n",
    "pionscalledother = len(np.intersect1d(true_pion_test, pred_other_test))"
   ]
  },
  {
   "cell_type": "code",
   "execution_count": 83,
   "metadata": {},
   "outputs": [],
   "source": [
    "protcalledprot = len(np.intersect1d(true_proton_test, pred_proton_test))\n",
    "protcalledmu = len(np.intersect1d(true_proton_test, pred_muon_test))\n",
    "protcalledpi = len(np.intersect1d(true_proton_test, pred_pion_test))\n",
    "protcalledother = len(np.intersect1d(true_proton_test, pred_other_test))"
   ]
  },
  {
   "cell_type": "code",
   "execution_count": 84,
   "metadata": {},
   "outputs": [
    {
     "data": {
      "text/plain": [
       "0.745804572224685"
      ]
     },
     "execution_count": 84,
     "metadata": {},
     "output_type": "execute_result"
    }
   ],
   "source": [
    "mu_completeness = muonscalledmuons / ((muonscalledmuons) + (muonscalledprotons) + (muonscalledpions) + (muonscalledother))\n",
    "mu_completeness"
   ]
  },
  {
   "cell_type": "code",
   "execution_count": 85,
   "metadata": {},
   "outputs": [
    {
     "data": {
      "text/plain": [
       "0.24513809445987905"
      ]
     },
     "execution_count": 85,
     "metadata": {},
     "output_type": "execute_result"
    }
   ],
   "source": [
    "pi_completeness = pionscalledpions / ((pionscalledpions) + (pionscalledmuons) + (pionscalledprotons) + (pionscalledother))\n",
    "pi_completeness"
   ]
  },
  {
   "cell_type": "code",
   "execution_count": 86,
   "metadata": {},
   "outputs": [
    {
     "data": {
      "text/plain": [
       "0.8025697781136965"
      ]
     },
     "execution_count": 86,
     "metadata": {},
     "output_type": "execute_result"
    }
   ],
   "source": [
    "proton_completeness = protcalledprot / ((protcalledprot) + (protcalledpi) + (protcalledmu) + (protcalledother))\n",
    "proton_completeness "
   ]
  },
  {
   "cell_type": "code",
   "execution_count": 111,
   "metadata": {},
   "outputs": [],
   "source": [
    "piaspi = np.intersect1d(true_pion_test, pred_pion_test)\n",
    "piasmu = np.intersect1d(true_pion_test, pred_muon_test)\n",
    "piasprot = np.intersect1d(true_pion_test, pred_proton_test)"
   ]
  },
  {
   "cell_type": "code",
   "execution_count": 112,
   "metadata": {},
   "outputs": [],
   "source": [
    "np.save('piaspi_dedx.npy', piaspi)\n",
    "np.save('piasmu_dedx.npy', piasmu)\n",
    "np.save('piasprot_dedx.npy', piasprot)"
   ]
  },
  {
   "cell_type": "code",
   "execution_count": 89,
   "metadata": {
    "scrolled": true
   },
   "outputs": [],
   "source": [
    "wirePos_test = np.load('test_wirePos.npy')\n",
    "driftPos_test = np.load('test_driftPos.npy')"
   ]
  },
  {
   "cell_type": "code",
   "execution_count": 90,
   "metadata": {},
   "outputs": [],
   "source": [
    "wirePos_tracks = wirePos_test[tracks_test]\n",
    "driftPos_tracks = driftPos_test[tracks_test]"
   ]
  },
  {
   "cell_type": "markdown",
   "metadata": {},
   "source": [
    "# Pions identified as pions"
   ]
  },
  {
   "cell_type": "code",
   "execution_count": 91,
   "metadata": {},
   "outputs": [
    {
     "data": {
      "image/png": "[encoded data removed]",
      "text/plain": [
       "<Figure size 360x720 with 1 Axes>"
      ]
     },
     "metadata": {
      "needs_background": "light"
     },
     "output_type": "display_data"
    }
   ],
   "source": [
    "plt.figure(figsize=(5,10))\n",
    "plt.scatter(np.concatenate(driftPos_test[piaspi[:10]]), np.concatenate(wirePos_test[piaspi[:10]]), color = 'orange', s = 10)\n",
    "plt.xlabel('Drift position (cm)')\n",
    "plt.ylabel('Wire position (cm)')\n",
    "plt.title('Pions identified as pions', fontsize = 20)\n",
    "plt.savefig('pionsaspionsfourcatdedx.png')"
   ]
  },
  {
   "cell_type": "code",
   "execution_count": 92,
   "metadata": {
    "scrolled": false
   },
   "outputs": [
    {
     "data": {
      "image/png": "[encoded data removed]",
      "text/plain": [
       "<Figure size 360x720 with 1 Axes>"
      ]
     },
     "metadata": {
      "needs_background": "light"
     },
     "output_type": "display_data"
    }
   ],
   "source": [
    "plt.figure(figsize=(5,10))\n",
    "plt.scatter(np.concatenate(driftPos_test[piasmu[:10]]), np.concatenate(wirePos_test[piasmu[:10]]), color = 'orange', s = 10)\n",
    "plt.xlabel('Drift position (cm)')\n",
    "plt.ylabel('Wire position (cm)')\n",
    "plt.title('Pions identified as muons', fontsize = 20)\n",
    "plt.savefig('pionsasmuonsfourcatdedx.png')"
   ]
  },
  {
   "cell_type": "markdown",
   "metadata": {},
   "source": [
    "# Pions identified as protons"
   ]
  },
  {
   "cell_type": "code",
   "execution_count": 93,
   "metadata": {},
   "outputs": [
    {
     "data": {
      "image/png": "[encoded data removed]",
      "text/plain": [
       "<Figure size 360x720 with 1 Axes>"
      ]
     },
     "metadata": {
      "needs_background": "light"
     },
     "output_type": "display_data"
    }
   ],
   "source": [
    "plt.figure(figsize=(5,10))\n",
    "plt.scatter(np.concatenate(driftPos_test[piasprot[:10]]), np.concatenate(wirePos_test[piasprot[:10]]), color = 'orange', s = 10)\n",
    "plt.xlabel('Drift position (cm)')\n",
    "plt.ylabel('Wire position (cm)')\n",
    "plt.title('Pions identified as protons', fontsize = 20)\n",
    "plt.savefig('pionsasprotonsfourcatdedx.png')\n",
    "plt.show()"
   ]
  },
  {
   "cell_type": "markdown",
   "metadata": {},
   "source": [
    "# BDT accuracy training"
   ]
  },
  {
   "cell_type": "code",
   "execution_count": 94,
   "metadata": {},
   "outputs": [],
   "source": [
    "showers_train = np.where(f_train < 0)[0]\n",
    "showers_test = np.where(f_test < 0)[0]"
   ]
  },
  {
   "cell_type": "code",
   "execution_count": 95,
   "metadata": {},
   "outputs": [],
   "source": [
    "truetracks_train = np.where(trainisTrack == 1)[0]\n",
    "trueshowers_train = np.where(trainisTrack == 0)[0]"
   ]
  },
  {
   "cell_type": "code",
   "execution_count": 96,
   "metadata": {},
   "outputs": [],
   "source": [
    "truetracks_test = np.where(testisTrack == 1)[0]\n",
    "trueshowers_test = np.where(testisTrack == 0)[0]"
   ]
  },
  {
   "cell_type": "code",
   "execution_count": 97,
   "metadata": {
    "scrolled": true
   },
   "outputs": [],
   "source": [
    "trackscalledtracks_train = np.intersect1d(tracks_train, truetracks_train)\n",
    "trackscalledshowers_train = np.intersect1d(showers_train, truetracks_train)\n",
    "showerscalledshowers_train = np.intersect1d(showers_train, trueshowers_train)\n",
    "showerscalledtracks_train = np.intersect1d(tracks_train, trueshowers_train)"
   ]
  },
  {
   "cell_type": "code",
   "execution_count": 98,
   "metadata": {},
   "outputs": [],
   "source": [
    "accuracy = (len(trackscalledtracks_train) + len(showerscalledshowers_train)) / (len(truetracks_train) + len(trueshowers_train))"
   ]
  },
  {
   "cell_type": "code",
   "execution_count": 99,
   "metadata": {},
   "outputs": [
    {
     "data": {
      "text/plain": [
       "0.9034163555464635"
      ]
     },
     "execution_count": 99,
     "metadata": {},
     "output_type": "execute_result"
    }
   ],
   "source": [
    "accuracy"
   ]
  },
  {
   "cell_type": "markdown",
   "metadata": {},
   "source": [
    "# BDT purity training"
   ]
  },
  {
   "cell_type": "code",
   "execution_count": 100,
   "metadata": {},
   "outputs": [],
   "source": [
    "purity = 1 - (len(showerscalledtracks_train) / len(truetracks_train))"
   ]
  },
  {
   "cell_type": "code",
   "execution_count": 101,
   "metadata": {},
   "outputs": [
    {
     "data": {
      "text/plain": [
       "0.9208246306180862"
      ]
     },
     "execution_count": 101,
     "metadata": {},
     "output_type": "execute_result"
    }
   ],
   "source": [
    "purity"
   ]
  },
  {
   "cell_type": "markdown",
   "metadata": {},
   "source": [
    "# BDT completeness training"
   ]
  },
  {
   "cell_type": "code",
   "execution_count": 102,
   "metadata": {},
   "outputs": [],
   "source": [
    "completeness = len(trackscalledtracks_train)/len(truetracks_train)"
   ]
  },
  {
   "cell_type": "code",
   "execution_count": 103,
   "metadata": {},
   "outputs": [
    {
     "data": {
      "text/plain": [
       "0.9330857894329697"
      ]
     },
     "execution_count": 103,
     "metadata": {},
     "output_type": "execute_result"
    }
   ],
   "source": [
    "completeness"
   ]
  },
  {
   "cell_type": "markdown",
   "metadata": {},
   "source": [
    "# BDT accuracy testing"
   ]
  },
  {
   "cell_type": "code",
   "execution_count": 104,
   "metadata": {
    "scrolled": true
   },
   "outputs": [],
   "source": [
    "trackscalledtracks_test = np.intersect1d(tracks_test, truetracks_test)\n",
    "trackscalledshowers_test = np.intersect1d(showers_test, truetracks_test)\n",
    "showerscalledshowers_test = np.intersect1d(showers_test, trueshowers_test)\n",
    "showerscalledtracks_test = np.intersect1d(tracks_test, trueshowers_test)"
   ]
  },
  {
   "cell_type": "code",
   "execution_count": 105,
   "metadata": {},
   "outputs": [],
   "source": [
    "accuracy_test = (len(trackscalledtracks_test) + len(showerscalledshowers_test)) / (len(truetracks_test) + len(trueshowers_test))"
   ]
  },
  {
   "cell_type": "code",
   "execution_count": 106,
   "metadata": {},
   "outputs": [
    {
     "data": {
      "text/plain": [
       "0.949686650112333"
      ]
     },
     "execution_count": 106,
     "metadata": {},
     "output_type": "execute_result"
    }
   ],
   "source": [
    "accuracy_test"
   ]
  },
  {
   "cell_type": "markdown",
   "metadata": {},
   "source": [
    "# BDT purity testing"
   ]
  },
  {
   "cell_type": "code",
   "execution_count": 107,
   "metadata": {},
   "outputs": [],
   "source": [
    "purity_test = 1 - (len(showerscalledtracks_test) / len(truetracks_test))"
   ]
  },
  {
   "cell_type": "code",
   "execution_count": 108,
   "metadata": {},
   "outputs": [
    {
     "data": {
      "text/plain": [
       "0.9555512894349524"
      ]
     },
     "execution_count": 108,
     "metadata": {},
     "output_type": "execute_result"
    }
   ],
   "source": [
    "purity_test"
   ]
  },
  {
   "cell_type": "markdown",
   "metadata": {},
   "source": [
    "# BDT completeness testing"
   ]
  },
  {
   "cell_type": "code",
   "execution_count": 109,
   "metadata": {},
   "outputs": [],
   "source": [
    "completeness_test = len(trackscalledtracks_test)/len(truetracks_test)"
   ]
  },
  {
   "cell_type": "code",
   "execution_count": 110,
   "metadata": {},
   "outputs": [
    {
     "data": {
      "text/plain": [
       "0.9682088692647342"
      ]
     },
     "execution_count": 110,
     "metadata": {},
     "output_type": "execute_result"
    }
   ],
   "source": [
    "completeness_test"
   ]
  }
 ],
 "metadata": {
  "kernelspec": {
   "display_name": "Python 3",
   "language": "python",
   "name": "python3"
  },
  "language_info": {
   "codemirror_mode": {
    "name": "ipython",
    "version": 3
   },
   "file_extension": ".py",
   "mimetype": "text/x-python",
   "name": "python",
   "nbconvert_exporter": "python",
   "pygments_lexer": "ipython3",
   "version": "3.7.3"
  }
 },
 "nbformat": 4,
 "nbformat_minor": 2
}
