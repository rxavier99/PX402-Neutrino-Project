{
 "cells": [
  {
   "cell_type": "code",
   "execution_count": 2,
   "metadata": {},
   "outputs": [],
   "source": [
    "import numpy as np\n",
    "import uproot\n",
    "import matplotlib.pyplot as plt\n",
    "import math"
   ]
  },
  {
   "cell_type": "code",
   "execution_count": 3,
   "metadata": {},
   "outputs": [],
   "source": [
    "myFile = uproot.open('alltestfiles.root')"
   ]
  },
  {
   "cell_type": "code",
   "execution_count": 4,
   "metadata": {},
   "outputs": [],
   "source": [
    "tree = myFile['TestTree']"
   ]
  },
  {
   "cell_type": "code",
   "execution_count": 5,
   "metadata": {},
   "outputs": [],
   "source": [
    "eventId = tree.array('eventId')\n",
    "pfoId = tree.array('pfoId')\n",
    "driftPos = tree.array('hitDriftPositionsW')\n",
    "wirePos = tree.array('hitWirePositionsW')\n",
    "pdg = tree.array('bestMCParticlePdgCode')\n",
    "isTrack = tree.array('bestMCParticleIsTrack')\n",
    "completeness = tree.array('completeness')\n",
    "purity = tree.array('purity')\n",
    "\n",
    "#Why do we need to close the file?"
   ]
  },
  {
   "cell_type": "markdown",
   "metadata": {},
   "source": [
    "# Calculate means"
   ]
  },
  {
   "cell_type": "code",
   "execution_count": 6,
   "metadata": {},
   "outputs": [],
   "source": [
    "drift_pos_av = driftPos.mean()\n",
    "wire_pos_av = wirePos.mean()"
   ]
  },
  {
   "cell_type": "markdown",
   "metadata": {},
   "source": [
    "# Calculate gradient"
   ]
  },
  {
   "cell_type": "code",
   "execution_count": 7,
   "metadata": {},
   "outputs": [
    {
     "name": "stderr",
     "output_type": "stream",
     "text": [
      "C:\\Users\\r.xavier\\Anaconda3\\lib\\site-packages\\ipykernel_launcher.py:6: RuntimeWarning: invalid value encountered in true_divide\n",
      "  \n"
     ]
    }
   ],
   "source": [
    "drift_comp = driftPos - drift_pos_av\n",
    "wire_comp = wirePos - wire_pos_av\n",
    "drift_comp_sq = drift_comp ** 2\n",
    "numerator = (drift_comp * wire_comp).sum()\n",
    "denominator = (drift_comp_sq).sum()\n",
    "m = numerator / denominator\n",
    "c = wire_pos_av - m * drift_pos_av"
   ]
  },
  {
   "cell_type": "code",
   "execution_count": 19,
   "metadata": {},
   "outputs": [
    {
     "name": "stdout",
     "output_type": "stream",
     "text": [
      "54.65656191736431 967.0797\n"
     ]
    },
    {
     "data": {
      "text/plain": [
       "1.1051616115330531"
      ]
     },
     "execution_count": 19,
     "metadata": {},
     "output_type": "execute_result"
    }
   ],
   "source": [
    "# #y values for regression line of PFO-0\n",
    "\n",
    "# y = m[0]*driftPos[0] + c[0]\n",
    "\n",
    "# #first x and y values for regression line of PFO-0\n",
    "# origin_x = (y[0] - c[0]) / m[0]\n",
    "# origin_y = y[0]\n",
    "\n",
    "# print(origin_x, origin_y)\n",
    "\n",
    "# #x and y values for random hit in PFO-0\n",
    "# hit_x = driftPos[0][60]\n",
    "# hit_y = wirePos[0][60]\n",
    "\n",
    "# #gradient of line from regression line to hit\n",
    "# m2 = (hit_y - origin_y) / (hit_x - origin_x)\n",
    "\n",
    "# tan_theta = abs((m2 - m[0]) / (1 + m2 * m[0]))\n",
    "\n",
    "# np.arctan(tan_theta) * (180 / np.pi)"
   ]
  },
  {
   "cell_type": "markdown",
   "metadata": {},
   "source": [
    "# Cuts on purity and completeness"
   ]
  },
  {
   "cell_type": "code",
   "execution_count": 7,
   "metadata": {},
   "outputs": [],
   "source": [
    "#Python list comprehension: loop over driftPos array,\n",
    "#for every element i.e. every hit,\n",
    "#tell me the length and store that in a numpy array idx_len.\n",
    "select_pfos_len = np.array([ len(x) for x in driftPos])\n",
    "\n",
    "track_pfos = np.where((completeness > 0.79) & (purity > 0.89) & (select_pfos_len > 0) & (isTrack == 1))\n",
    "\n",
    "shower_pfos = np.where((completeness > 0.79) & (purity > 0.89) & (select_pfos_len > 0) & (isTrack == 0))"
   ]
  },
  {
   "cell_type": "markdown",
   "metadata": {},
   "source": [
    "# Line plotting"
   ]
  },
  {
   "cell_type": "code",
   "execution_count": 56,
   "metadata": {
    "scrolled": true
   },
   "outputs": [],
   "source": [
    "y_values = []\n",
    "m_values = []\n",
    "c_values = []\n",
    "\n",
    "for i in range(len(driftPos)):\n",
    "    y = m[i]*driftPos[i] + c[i]\n",
    "#     fig = plt.figure(figsize = (10, 15))\n",
    "#     plt.scatter(driftPos[i], wirePos[i], color = 'b')\n",
    "#     plt.plot(driftPos[i], y, color = 'r', linewidth = 3) \n",
    "\n",
    "    y_values.append(y)\n",
    "    \n",
    "    m_values.append(m[i])\n",
    "    \n",
    "    c_values.append(c[i])"
   ]
  },
  {
   "cell_type": "code",
   "execution_count": 57,
   "metadata": {},
   "outputs": [
    {
     "name": "stdout",
     "output_type": "stream",
     "text": [
      "55030\n"
     ]
    }
   ],
   "source": [
    "print(len(c_values))"
   ]
  },
  {
   "cell_type": "code",
   "execution_count": 59,
   "metadata": {},
   "outputs": [
    {
     "ename": "IndexError",
     "evalue": "index 0 is out of bounds for axis 0 with size 0",
     "output_type": "error",
     "traceback": [
      "\u001b[1;31m---------------------------------------------------------------------------\u001b[0m",
      "\u001b[1;31mIndexError\u001b[0m                                Traceback (most recent call last)",
      "\u001b[1;32m<ipython-input-59-301854c2d218>\u001b[0m in \u001b[0;36m<module>\u001b[1;34m\u001b[0m\n\u001b[0;32m      6\u001b[0m     \u001b[1;31m#Array of first x and y values for 55030 PFOs\u001b[0m\u001b[1;33m\u001b[0m\u001b[1;33m\u001b[0m\u001b[1;33m\u001b[0m\u001b[0m\n\u001b[0;32m      7\u001b[0m \u001b[1;33m\u001b[0m\u001b[0m\n\u001b[1;32m----> 8\u001b[1;33m     \u001b[0morigin_y\u001b[0m \u001b[1;33m=\u001b[0m \u001b[0my_values\u001b[0m\u001b[1;33m[\u001b[0m\u001b[0mi\u001b[0m\u001b[1;33m]\u001b[0m\u001b[1;33m[\u001b[0m\u001b[1;36m0\u001b[0m\u001b[1;33m]\u001b[0m\u001b[1;33m\u001b[0m\u001b[1;33m\u001b[0m\u001b[0m\n\u001b[0m\u001b[0;32m      9\u001b[0m \u001b[1;33m\u001b[0m\u001b[0m\n\u001b[0;32m     10\u001b[0m     \u001b[0morigin_x\u001b[0m \u001b[1;33m=\u001b[0m \u001b[1;33m(\u001b[0m\u001b[1;33m(\u001b[0m\u001b[0my_values\u001b[0m\u001b[1;33m[\u001b[0m\u001b[0mi\u001b[0m\u001b[1;33m]\u001b[0m\u001b[1;33m[\u001b[0m\u001b[1;36m0\u001b[0m\u001b[1;33m]\u001b[0m\u001b[1;33m)\u001b[0m \u001b[1;33m-\u001b[0m \u001b[0mc\u001b[0m\u001b[1;33m[\u001b[0m\u001b[0mi\u001b[0m\u001b[1;33m]\u001b[0m\u001b[1;33m)\u001b[0m \u001b[1;33m/\u001b[0m \u001b[0mm\u001b[0m\u001b[1;33m[\u001b[0m\u001b[0mi\u001b[0m\u001b[1;33m]\u001b[0m\u001b[1;33m\u001b[0m\u001b[1;33m\u001b[0m\u001b[0m\n",
      "\u001b[1;31mIndexError\u001b[0m: index 0 is out of bounds for axis 0 with size 0"
     ]
    }
   ],
   "source": [
    "first_y = []\n",
    "first_x = []\n",
    "\n",
    "for i in range(len(y_values)):\n",
    "    \n",
    "    #Array of first x and y values for 55030 PFOs\n",
    "    \n",
    "    origin_y = y_values[i][0]\n",
    "    \n",
    "    origin_x = ((y_values[i][0]) - c[i]) / m[i]\n",
    "    \n",
    "    first_y.append(origin_y)\n",
    "    \n",
    "    first_x.append(origin_x)"
   ]
  },
  {
   "cell_type": "code",
   "execution_count": 84,
   "metadata": {},
   "outputs": [
    {
     "data": {
      "text/plain": [
       "54"
      ]
     },
     "execution_count": 84,
     "metadata": {},
     "output_type": "execute_result"
    }
   ],
   "source": [
    "m2_num = []\n",
    "m2_denom = []\n",
    "\n",
    "for i in range(len(first_y)):\n",
    "    m2_num.append(first_y[i] - wirePos)\n",
    "    \n",
    "for i in range(len(first_x)):\n",
    "    m2_denom.append(first_x[i] - driftPos)"
   ]
  }
 ],
 "metadata": {
  "kernelspec": {
   "display_name": "Python 3",
   "language": "python",
   "name": "python3"
  },
  "language_info": {
   "codemirror_mode": {
    "name": "ipython",
    "version": 3
   },
   "file_extension": ".py",
   "mimetype": "text/x-python",
   "name": "python",
   "nbconvert_exporter": "python",
   "pygments_lexer": "ipython3",
   "version": "3.7.3"
  }
 },
 "nbformat": 4,
 "nbformat_minor": 2
}
