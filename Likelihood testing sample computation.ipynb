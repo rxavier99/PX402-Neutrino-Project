{
 "cells": [
  {
   "cell_type": "code",
   "execution_count": 1,
   "metadata": {},
   "outputs": [],
   "source": [
    "import numpy as np\n",
    "import uproot\n",
    "import matplotlib.pyplot as plt"
   ]
  },
  {
   "cell_type": "code",
   "execution_count": 2,
   "metadata": {},
   "outputs": [],
   "source": [
    "myFile = uproot.open('testing_testfiles.root')"
   ]
  },
  {
   "cell_type": "code",
   "execution_count": 3,
   "metadata": {},
   "outputs": [],
   "source": [
    "tree = myFile['TestTree']"
   ]
  },
  {
   "cell_type": "code",
   "execution_count": 4,
   "metadata": {},
   "outputs": [],
   "source": [
    "eventId = tree.array('eventId')\n",
    "pfoId = tree.array('pfoId')\n",
    "driftPos = tree.array('hitDriftPositionsW')\n",
    "wirePos = tree.array('hitWirePositionsW')\n",
    "pdg = tree.array('bestMCParticlePdgCode')\n",
    "isTrack = tree.array('bestMCParticleIsTrack')\n",
    "completeness = tree.array('completeness')\n",
    "purity = tree.array('purity')\n",
    "nHitsW = tree.array('nHitsInPfoW')\n",
    "nHitsU = tree.array('nHitsInPfoU')\n",
    "nHitsV = tree.array('nHitsInPfoV')\n",
    "vertexdriftPos = tree.array('vertexDriftPosition')\n",
    "vertexwirePos = tree.array('vertexWirePositionW')\n",
    "hitEnergiesW = tree.array('hitEnergiesW')\n",
    "particles = len(pfoId)"
   ]
  },
  {
   "cell_type": "markdown",
   "metadata": {},
   "source": [
    "# Calculation of energy"
   ]
  },
  {
   "cell_type": "markdown",
   "metadata": {},
   "source": [
    "## Get identities of good pfos"
   ]
  },
  {
   "cell_type": "code",
   "execution_count": 5,
   "metadata": {},
   "outputs": [],
   "source": [
    "comppureid = np.intersect1d(np.where(completeness > 0.89),np.where(purity > 0.89))\n",
    "goodhits = []\n",
    "for i in range(particles):\n",
    "    if len(wirePos[i]) > 5:\n",
    "        goodhits.append(i)\n",
    "trueid = np.intersect1d(comppureid,goodhits)"
   ]
  },
  {
   "cell_type": "markdown",
   "metadata": {},
   "source": [
    "## Regress the lines of best fit"
   ]
  },
  {
   "cell_type": "code",
   "execution_count": 6,
   "metadata": {},
   "outputs": [],
   "source": [
    "#Find means in wire and drift for each pfo\n",
    "wireav = wirePos[trueid].mean()\n",
    "driftav = driftPos[trueid].mean()\n",
    "\n",
    "#Find slope and intercept of lines of best fit\n",
    "driftdiff = driftPos[trueid] - driftav\n",
    "wirediff = wirePos[trueid] - wireav\n",
    "driftwire = driftdiff*wirediff\n",
    "driftsq = driftdiff**2\n",
    "nume = driftwire.sum()\n",
    "denom = driftsq.sum()\n",
    "slope = nume/denom\n",
    "intercept = wireav - slope*driftav\n",
    "slopezero = np.where(slope==0.0)"
   ]
  },
  {
   "cell_type": "code",
   "execution_count": 7,
   "metadata": {},
   "outputs": [],
   "source": [
    "slopezero = np.where(slope==0.0)\n",
    "for i in slopezero:\n",
    "    slope = np.delete(slope,i)\n",
    "    intercept =np.delete(intercept,i)\n",
    "    trueid = np.delete(trueid,i)"
   ]
  },
  {
   "cell_type": "markdown",
   "metadata": {},
   "source": [
    "## First and last points of each pfo"
   ]
  },
  {
   "cell_type": "code",
   "execution_count": 8,
   "metadata": {},
   "outputs": [],
   "source": [
    "wirePos_sorted = []\n",
    "driftPos_sorted = []\n",
    "\n",
    "for i in range(len(wirePos)):\n",
    "    wirePos_sorted.append(np.sort(wirePos[i]))\n",
    "    \n",
    "for i in range(len(driftPos)):\n",
    "    driftPos_sorted.append(np.sort(driftPos[i]))"
   ]
  },
  {
   "cell_type": "code",
   "execution_count": 9,
   "metadata": {},
   "outputs": [],
   "source": [
    "wirePosstart = []\n",
    "wirePosend = []\n",
    "driftPosstart = []\n",
    "driftPosend = []\n",
    "for i in trueid:\n",
    "    wirePosstart.append(wirePos_sorted[i][0])\n",
    "    wirePosend.append(wirePos_sorted[i][-1])\n",
    "    driftPosstart.append(driftPos_sorted[i][0])\n",
    "    driftPosend.append(driftPos_sorted[i][-1])"
   ]
  },
  {
   "cell_type": "code",
   "execution_count": 10,
   "metadata": {},
   "outputs": [],
   "source": [
    "## First and last points of each pfo\n",
    "\n",
    "wirePos_sorted = []\n",
    "driftPos_sorted = []\n",
    "\n",
    "for i in range(len(wirePos)):\n",
    "    wirePos_sorted.append(np.sort(wirePos[i]))\n",
    "    \n",
    "for i in range(len(driftPos)):\n",
    "    driftPos_sorted.append(np.sort(driftPos[i]))\n",
    "\n",
    "wirePosstart = []\n",
    "wirePosend = []\n",
    "driftPosstart = []\n",
    "driftPosend = []\n",
    "for i in trueid:\n",
    "    wirePosstart.append(wirePos_sorted[i][0])\n",
    "    wirePosend.append(wirePos_sorted[i][-1])\n",
    "    driftPosstart.append(driftPos_sorted[i][0])\n",
    "    driftPosend.append(driftPos_sorted[i][-1])"
   ]
  },
  {
   "cell_type": "markdown",
   "metadata": {},
   "source": [
    "## Regress end points to line of best fit"
   ]
  },
  {
   "cell_type": "code",
   "execution_count": 11,
   "metadata": {},
   "outputs": [],
   "source": [
    "xstart = []\n",
    "xend = []\n",
    "ystart = []\n",
    "yend = []\n",
    "for i in range(len(trueid)):\n",
    "    if slope[i] != 0:\n",
    "        slopeinv = -1.0/slope[i]\n",
    "        startintercept = wirePosstart[i] - driftPosstart[i]*slopeinv\n",
    "        endintercept = wirePosend[i] - driftPosend[i]*slopeinv\n",
    "        xbegin = (startintercept - intercept[i])/(slope[i] - slopeinv)\n",
    "        ybegin = slope[i]*xbegin + intercept[i]\n",
    "        xfinish = (endintercept - intercept[i])/(slope[i]-slopeinv)\n",
    "        yfinish = slope[i]*xfinish + intercept[i]\n",
    "        xstart.append(xbegin)\n",
    "        xend.append(xfinish)\n",
    "        ystart.append(ybegin)\n",
    "        yend.append(yfinish)\n",
    "    else:\n",
    "        xstart.append(driftPosstart[i])\n",
    "        xend.append(driftPosend[i])\n",
    "        ystart.append(wirePosstart[i])\n",
    "        yend.append(wirePosend[i])\n",
    "        "
   ]
  },
  {
   "cell_type": "markdown",
   "metadata": {},
   "source": [
    "# Line lengths"
   ]
  },
  {
   "cell_type": "code",
   "execution_count": 12,
   "metadata": {},
   "outputs": [],
   "source": [
    "linelength = []\n",
    "for i in range(len(xstart)):\n",
    "    xdiff = xend[i] - xstart[i]\n",
    "    ydiff = yend[i] - ystart[i]\n",
    "    lensq = xdiff**2 +ydiff**2\n",
    "    length = np.sqrt(lensq)\n",
    "    linelength.append(length)"
   ]
  },
  {
   "cell_type": "markdown",
   "metadata": {},
   "source": [
    "# Regress all pfo points to line gosh this took 5ever"
   ]
  },
  {
   "cell_type": "code",
   "execution_count": 13,
   "metadata": {},
   "outputs": [],
   "source": [
    "xpoints = []\n",
    "ypoints = []\n",
    "for i in range(len(trueid)):\n",
    "    xcoord = []\n",
    "    ycoord = []\n",
    "    a = trueid[i]\n",
    "    if slope[i] == 0.0:\n",
    "        xcoord.append(driftPos[a])\n",
    "        ycoord.append(wirePos[a])\n",
    "    else:\n",
    "        for j in range(len(wirePos[a])):\n",
    "            slopeinv = -1.0/slope[i]\n",
    "            pointintercept = wirePos[a][j] - driftPos[a][j]*slopeinv\n",
    "            xpoint = (pointintercept - intercept[i])/(slope[i] - slopeinv)\n",
    "            ypoint = slope[i]*xpoint + intercept[i]\n",
    "            xcoord.append(xpoint)\n",
    "            ycoord.append(ypoint)\n",
    "    xpoints.append(xcoord)\n",
    "    ypoints.append(ycoord)"
   ]
  },
  {
   "cell_type": "markdown",
   "metadata": {},
   "source": [
    "# Normalise positions of regressed points for banter"
   ]
  },
  {
   "cell_type": "code",
   "execution_count": 14,
   "metadata": {},
   "outputs": [],
   "source": [
    "pointsnorm = []\n",
    "for i in range(len(trueid)):\n",
    "    pointcoordnorm = []\n",
    "    for j in range(len(xpoints[i])):\n",
    "        xdifference = xpoints[i][j] - xpoints[i][0]\n",
    "        lengf = xpoints[i][-1] - xpoints[i][0]\n",
    "        normlength = xdifference/lengf\n",
    "        pointcoordnorm.append(normlength)\n",
    "    pointsnorm.append(pointcoordnorm)"
   ]
  },
  {
   "cell_type": "markdown",
   "metadata": {},
   "source": [
    "# Order those regressed points along the line praise be to argsort"
   ]
  },
  {
   "cell_type": "code",
   "execution_count": 15,
   "metadata": {},
   "outputs": [],
   "source": [
    "pointorder = []\n",
    "for i in range(len(trueid)):\n",
    "    lengthorder = np.argsort(pointsnorm[i])\n",
    "    pointorder.append(lengthorder)"
   ]
  },
  {
   "cell_type": "markdown",
   "metadata": {},
   "source": [
    "# Reorganise regressed points according to position, not gender or race"
   ]
  },
  {
   "cell_type": "code",
   "execution_count": 16,
   "metadata": {},
   "outputs": [],
   "source": [
    "xpointsorder = []\n",
    "ypointsorder = []\n",
    "for i in range(len(trueid)):\n",
    "    xpfosort = [xpoints for _,xpoints in sorted(zip(pointorder[i],xpoints[i]))]\n",
    "    ypfosort = [ypoints for _,ypoints in sorted(zip(pointorder[i],ypoints[i]))]\n",
    "    xpointsorder.append(xpfosort)\n",
    "    ypointsorder.append(ypfosort)"
   ]
  },
  {
   "cell_type": "markdown",
   "metadata": {},
   "source": [
    "# Find new lengths due to reordered points."
   ]
  },
  {
   "cell_type": "code",
   "execution_count": 17,
   "metadata": {},
   "outputs": [],
   "source": [
    "truelinelength = []\n",
    "for i in range(len(xstart)):\n",
    "    xdiff = xpointsorder[i][-1] - xpointsorder[i][0]\n",
    "    ydiff = ypointsorder[i][-1] - ypointsorder[i][0]\n",
    "    lensq = xdiff**2 + ydiff**2\n",
    "    length = np.sqrt(lensq)\n",
    "    truelinelength.append(length)"
   ]
  },
  {
   "cell_type": "markdown",
   "metadata": {},
   "source": [
    "# Find new normalised point positions "
   ]
  },
  {
   "cell_type": "code",
   "execution_count": 18,
   "metadata": {},
   "outputs": [],
   "source": [
    "truepointsnorm = []\n",
    "for i in range(len(trueid)):\n",
    "    truepointcoordnorm = []\n",
    "    a = trueid[i]\n",
    "    for j in range(len(xpointsorder[i])):\n",
    "        xdifference = xpointsorder[i][j] - xpointsorder[i][0]\n",
    "        ydifference = ypointsorder[i][j] - ypointsorder[i][0]\n",
    "        lengthsq = xdifference**2 + ydifference**2\n",
    "        truelen = np.sqrt(lengthsq)\n",
    "        normlength = truelen/truelinelength[i]\n",
    "        truepointcoordnorm.append(normlength)\n",
    "    truepointsnorm.append(truepointcoordnorm)"
   ]
  },
  {
   "cell_type": "markdown",
   "metadata": {},
   "source": [
    "# Energy of hits > 0.8 along the line"
   ]
  },
  {
   "cell_type": "code",
   "execution_count": 19,
   "metadata": {},
   "outputs": [],
   "source": [
    "end_indices = []\n",
    "\n",
    "for i in range(len(truepointsnorm)):\n",
    "    indices_end = np.where(np.array(truepointsnorm[i]) > 0.8)\n",
    "    end_indices.append(indices_end[0])"
   ]
  },
  {
   "cell_type": "code",
   "execution_count": 20,
   "metadata": {},
   "outputs": [],
   "source": [
    "pfo_energies = hitEnergiesW[trueid]"
   ]
  },
  {
   "cell_type": "code",
   "execution_count": 21,
   "metadata": {},
   "outputs": [],
   "source": [
    "total_pfo_energies_sum = pfo_energies.sum()"
   ]
  },
  {
   "cell_type": "code",
   "execution_count": 22,
   "metadata": {},
   "outputs": [],
   "source": [
    "end_pfo_energies = []\n",
    "\n",
    "for i in range(len(trueid)):\n",
    "    end_pfo_energies.append(pfo_energies[i][end_indices[i]])"
   ]
  },
  {
   "cell_type": "code",
   "execution_count": 23,
   "metadata": {},
   "outputs": [],
   "source": [
    "end_pfo_energies_sum = []\n",
    "\n",
    "for i in range(len(trueid)):\n",
    "    end_pfo_energies_sum.append(end_pfo_energies[i].sum())"
   ]
  },
  {
   "cell_type": "code",
   "execution_count": 24,
   "metadata": {},
   "outputs": [],
   "source": [
    "energy_frac = end_pfo_energies_sum / total_pfo_energies_sum"
   ]
  },
  {
   "cell_type": "markdown",
   "metadata": {},
   "source": [
    "# Calculation of angles"
   ]
  },
  {
   "cell_type": "markdown",
   "metadata": {},
   "source": [
    "# Calculate means"
   ]
  },
  {
   "cell_type": "code",
   "execution_count": 25,
   "metadata": {},
   "outputs": [],
   "source": [
    "drift_pos_av = driftPos.mean()\n",
    "wire_pos_av = wirePos.mean()"
   ]
  },
  {
   "cell_type": "markdown",
   "metadata": {},
   "source": [
    "# Calculate gradient"
   ]
  },
  {
   "cell_type": "code",
   "execution_count": 26,
   "metadata": {},
   "outputs": [
    {
     "name": "stderr",
     "output_type": "stream",
     "text": [
      "C:\\Users\\r.xavier\\Anaconda3\\lib\\site-packages\\ipykernel_launcher.py:6: RuntimeWarning: invalid value encountered in true_divide\n",
      "  \n"
     ]
    }
   ],
   "source": [
    "drift_comp = driftPos - drift_pos_av\n",
    "wire_comp = wirePos - wire_pos_av\n",
    "drift_comp_sq = drift_comp ** 2\n",
    "numerator = (drift_comp * wire_comp).sum()\n",
    "denominator = (drift_comp_sq).sum()\n",
    "m = numerator / denominator\n",
    "c = wire_pos_av - m * drift_pos_av"
   ]
  },
  {
   "cell_type": "code",
   "execution_count": 27,
   "metadata": {},
   "outputs": [
    {
     "data": {
      "text/plain": [
       "326107"
      ]
     },
     "execution_count": 27,
     "metadata": {},
     "output_type": "execute_result"
    }
   ],
   "source": [
    "len(vertexwirePos)"
   ]
  },
  {
   "cell_type": "code",
   "execution_count": 28,
   "metadata": {},
   "outputs": [],
   "source": [
    "select_wirePos = wirePos[trueid]\n",
    "\n",
    "select_driftPos = driftPos[trueid]\n",
    "\n",
    "select_vertexwirePos = vertexwirePos[trueid]\n",
    "\n",
    "select_vertexdriftPos = vertexdriftPos[trueid]\n",
    "\n",
    "m_trueid = m[trueid]\n",
    "\n",
    "c_trueid = c[trueid]"
   ]
  },
  {
   "cell_type": "code",
   "execution_count": 29,
   "metadata": {},
   "outputs": [
    {
     "data": {
      "text/plain": [
       "326107"
      ]
     },
     "execution_count": 29,
     "metadata": {},
     "output_type": "execute_result"
    }
   ],
   "source": [
    "len(vertexdriftPos)"
   ]
  },
  {
   "cell_type": "markdown",
   "metadata": {},
   "source": [
    "# Plot regression lines"
   ]
  },
  {
   "cell_type": "code",
   "execution_count": 30,
   "metadata": {},
   "outputs": [],
   "source": [
    "y_values = []\n",
    "m_values = []\n",
    "c_values = []\n",
    "\n",
    "\n",
    "for i in range(len(trueid)):\n",
    "    y = m_trueid[i]*select_driftPos[i] + c_trueid[i]\n",
    "    \n",
    "#     fig = plt.figure(figsize = (10, 15))\n",
    "#     plt.scatter(select_driftPos[i], select_wirePos[i], color = 'b', s = 1)\n",
    "#     plt.plot(select_driftPos[i], y, color = 'r', linewidth = 3) \n",
    "\n",
    "\n",
    "    y_values.append(y)\n",
    "    m_values.append(m_trueid[i])\n",
    "    c_values.append(c_trueid[i])"
   ]
  },
  {
   "cell_type": "markdown",
   "metadata": {},
   "source": [
    "# Get first x and y values for each PFO regression line"
   ]
  },
  {
   "cell_type": "code",
   "execution_count": 31,
   "metadata": {},
   "outputs": [],
   "source": [
    "first_y = []\n",
    "first_x = []\n",
    "last_x = []\n",
    "last_y = []\n",
    "\n",
    "for i in range(len(trueid)):\n",
    "    \n",
    "    origin_x = select_driftPos[i][0]\n",
    "    \n",
    "    origin_y = (m_values[i] * select_driftPos[i][0]) + c_values[i]\n",
    "    \n",
    "    end_x = select_driftPos[i][-1]\n",
    "    \n",
    "    end_y = (m_values[i] * select_driftPos[i][-1]) + c_values[i]\n",
    "    \n",
    "    first_y.append(origin_y)\n",
    "    \n",
    "    first_x.append(origin_x)\n",
    "    \n",
    "    last_y.append(end_y)\n",
    "    \n",
    "    last_x.append(end_x)"
   ]
  },
  {
   "cell_type": "markdown",
   "metadata": {},
   "source": [
    "# Regression line vector"
   ]
  },
  {
   "cell_type": "code",
   "execution_count": 32,
   "metadata": {},
   "outputs": [],
   "source": [
    "d_zero = ((select_vertexwirePos - first_y) ** 2) + ((select_vertexdriftPos - first_x) ** 2)\n",
    "d_end = ((select_vertexwirePos - last_y) ** 2) + ((select_vertexdriftPos - last_x) ** 2)"
   ]
  },
  {
   "cell_type": "code",
   "execution_count": 33,
   "metadata": {},
   "outputs": [],
   "source": [
    "x_sinc = []\n",
    "y_sinc = []\n",
    "\n",
    "x_origin = []\n",
    "y_origin = []\n",
    "\n",
    "for i in range(len(trueid)):\n",
    "    \n",
    "    origin_x, origin_y = (first_x[i], first_y[i]) if d_zero[i] < d_end[i] else (last_x[i], last_y[i])\n",
    "    \n",
    "    x_origin.append(origin_x)\n",
    "    \n",
    "    y_origin.append(origin_y)\n",
    "    \n",
    "    sinc_x, sinc_y = (first_x[i], first_y[i]) if d_zero[i] >= d_end[i] else (last_x[i], last_y[i])\n",
    "    \n",
    "    x_sinc.append(sinc_x)\n",
    "    \n",
    "    y_sinc.append(sinc_y)"
   ]
  },
  {
   "cell_type": "code",
   "execution_count": 34,
   "metadata": {},
   "outputs": [],
   "source": [
    "x_line_vector = np.array(x_sinc) - np.array(x_origin)\n",
    "y_line_vector = np.array(y_sinc) - np.array(y_origin)"
   ]
  },
  {
   "cell_type": "code",
   "execution_count": 35,
   "metadata": {},
   "outputs": [],
   "source": [
    "mag_line = np.sqrt((x_line_vector ** 2) + (y_line_vector ** 2))"
   ]
  },
  {
   "cell_type": "markdown",
   "metadata": {},
   "source": [
    "# Hit vector"
   ]
  },
  {
   "cell_type": "code",
   "execution_count": 36,
   "metadata": {},
   "outputs": [],
   "source": [
    "x_hit_vector = select_driftPos - x_origin\n",
    "y_hit_vector = select_wirePos - y_origin"
   ]
  },
  {
   "cell_type": "code",
   "execution_count": 37,
   "metadata": {},
   "outputs": [],
   "source": [
    "mag_hit = np.sqrt((x_hit_vector ** 2) + (y_hit_vector ** 2))"
   ]
  },
  {
   "cell_type": "markdown",
   "metadata": {},
   "source": [
    "# Calculate angle"
   ]
  },
  {
   "cell_type": "code",
   "execution_count": 38,
   "metadata": {},
   "outputs": [],
   "source": [
    "theta_num = (x_line_vector * x_hit_vector) + (y_line_vector * y_hit_vector)\n",
    "theta_denom = mag_line * mag_hit\n",
    "theta = theta_num / theta_denom"
   ]
  },
  {
   "cell_type": "code",
   "execution_count": 39,
   "metadata": {},
   "outputs": [
    {
     "name": "stderr",
     "output_type": "stream",
     "text": [
      "C:\\Users\\r.xavier\\Anaconda3\\lib\\site-packages\\awkward\\array\\jagged.py:1043: RuntimeWarning: invalid value encountered in arccos\n",
      "  result = getattr(ufunc, method)(*inputs, **kwargs)\n"
     ]
    }
   ],
   "source": [
    "angle = np.degrees(np.arccos(theta))\n",
    "av_theta = (angle.mean())"
   ]
  },
  {
   "cell_type": "markdown",
   "metadata": {},
   "source": [
    "# Compute probabilties using PDFs"
   ]
  },
  {
   "cell_type": "code",
   "execution_count": 40,
   "metadata": {},
   "outputs": [],
   "source": [
    "energies_tracks = np.load('energies_tracks_pdf.npy')\n",
    "energies_showers = np.load('energies_showers_pdf.npy')\n",
    "angles_tracks = np.load('angles_tracks_pdf.npy')\n",
    "angles_showers = np.load('angles_showers_pdf.npy')"
   ]
  },
  {
   "cell_type": "code",
   "execution_count": 144,
   "metadata": {},
   "outputs": [],
   "source": [
    "bin_num_energies = []\n",
    "\n",
    "for i in range(len(energy_frac)):\n",
    "    bin_num_energies.append((int(round(energy_frac[i] * 500))))"
   ]
  },
  {
   "cell_type": "code",
   "execution_count": 145,
   "metadata": {},
   "outputs": [],
   "source": [
    "energy_prob_tracks = []\n",
    "\n",
    "for i in range(len(energy_frac)):\n",
    "     energy_prob_tracks.append(energies_tracks[0][bin_num_energies[i]])"
   ]
  },
  {
   "cell_type": "code",
   "execution_count": 147,
   "metadata": {},
   "outputs": [],
   "source": [
    "energy_prob_showers = []\n",
    "\n",
    "for i in range(len(energy_frac)):\n",
    "     energy_prob_showers.append(energies_showers[0][bin_num_energies[i]])"
   ]
  },
  {
   "cell_type": "code",
   "execution_count": 161,
   "metadata": {},
   "outputs": [],
   "source": [
    "bin_num_angles = []\n",
    "\n",
    "for i in range(len(av_theta)):\n",
    "    bin_num_angles.append((int(round(av_theta[i] * 500)/180)))"
   ]
  },
  {
   "cell_type": "code",
   "execution_count": 162,
   "metadata": {},
   "outputs": [],
   "source": [
    "angle_prob_tracks = []\n",
    "\n",
    "for i in range(len(av_theta)):\n",
    "    angle_prob_tracks.append(angles_tracks[0][bin_num_angles[i]])"
   ]
  },
  {
   "cell_type": "code",
   "execution_count": 163,
   "metadata": {},
   "outputs": [],
   "source": [
    "angle_prob_showers = []\n",
    "\n",
    "for i in range(len(av_theta)):\n",
    "    angle_prob_showers.append(angles_showers[0][bin_num_angles[i]])"
   ]
  },
  {
   "cell_type": "code",
   "execution_count": 175,
   "metadata": {},
   "outputs": [],
   "source": [
    "p_track = np.array(energy_prob_tracks) * np.array(angle_prob_showers)\n",
    "p_shower = np.array(energy_prob_showers) * np.array(angle_prob_showers)"
   ]
  },
  {
   "cell_type": "markdown",
   "metadata": {},
   "source": [
    "# LIKELIHOOD "
   ]
  },
  {
   "cell_type": "code",
   "execution_count": 176,
   "metadata": {},
   "outputs": [
    {
     "name": "stderr",
     "output_type": "stream",
     "text": [
      "C:\\Users\\r.xavier\\Anaconda3\\lib\\site-packages\\ipykernel_launcher.py:1: RuntimeWarning: invalid value encountered in true_divide\n",
      "  \"\"\"Entry point for launching an IPython kernel.\n"
     ]
    }
   ],
   "source": [
    "l = p_track/(p_track+p_shower)"
   ]
  },
  {
   "cell_type": "code",
   "execution_count": 178,
   "metadata": {},
   "outputs": [
    {
     "data": {
      "image/png": "[encoded data removed]",
      "text/plain": [
       "<Figure size 432x288 with 1 Axes>"
      ]
     },
     "metadata": {
      "needs_background": "light"
     },
     "output_type": "display_data"
    }
   ],
   "source": [
    "plt.hist(l, 100)\n",
    "plt.show()"
   ]
  },
  {
   "cell_type": "code",
   "execution_count": null,
   "metadata": {},
   "outputs": [],
   "source": []
  }
 ],
 "metadata": {
  "kernelspec": {
   "display_name": "Python 3",
   "language": "python",
   "name": "python3"
  },
  "language_info": {
   "codemirror_mode": {
    "name": "ipython",
    "version": 3
   },
   "file_extension": ".py",
   "mimetype": "text/x-python",
   "name": "python",
   "nbconvert_exporter": "python",
   "pygments_lexer": "ipython3",
   "version": "3.7.3"
  }
 },
 "nbformat": 4,
 "nbformat_minor": 2
}
