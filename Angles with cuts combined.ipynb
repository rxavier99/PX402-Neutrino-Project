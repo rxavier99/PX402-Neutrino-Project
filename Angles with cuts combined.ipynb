{
 "cells": [
  {
   "cell_type": "code",
   "execution_count": 35,
   "metadata": {},
   "outputs": [],
   "source": [
    "import numpy as np\n",
    "import uproot\n",
    "import matplotlib.pyplot as plt\n",
    "import math"
   ]
  },
  {
   "cell_type": "code",
   "execution_count": 193,
   "metadata": {},
   "outputs": [],
   "source": [
    "myFile = uproot.open('alltestfiles.root')"
   ]
  },
  {
   "cell_type": "code",
   "execution_count": 194,
   "metadata": {},
   "outputs": [],
   "source": [
    "tree = myFile['TestTree']"
   ]
  },
  {
   "cell_type": "code",
   "execution_count": 195,
   "metadata": {},
   "outputs": [],
   "source": [
    "eventId = tree.array('eventId')\n",
    "pfoId = tree.array('pfoId')\n",
    "driftPos = tree.array('hitDriftPositionsW')\n",
    "wirePos = tree.array('hitWirePositionsW')\n",
    "pdg = tree.array('bestMCParticlePdgCode')\n",
    "isTrack = tree.array('bestMCParticleIsTrack')\n",
    "completeness = tree.array('completeness')\n",
    "purity = tree.array('purity')\n",
    "nHitsW = tree.array('nHitsInPfoW')\n",
    "nHitsU = tree.array('nHitsInPfoU')\n",
    "nHitsV = tree.array('nHitsInPfoV')"
   ]
  },
  {
   "cell_type": "markdown",
   "metadata": {},
   "source": [
    "# Calculate means"
   ]
  },
  {
   "cell_type": "code",
   "execution_count": 196,
   "metadata": {},
   "outputs": [],
   "source": [
    "drift_pos_av = driftPos.mean()\n",
    "wire_pos_av = wirePos.mean()"
   ]
  },
  {
   "cell_type": "markdown",
   "metadata": {},
   "source": [
    "# Calculate gradient"
   ]
  },
  {
   "cell_type": "code",
   "execution_count": 197,
   "metadata": {},
   "outputs": [
    {
     "name": "stderr",
     "output_type": "stream",
     "text": [
      "C:\\Users\\r.xavier\\Anaconda3\\lib\\site-packages\\ipykernel_launcher.py:6: RuntimeWarning: invalid value encountered in true_divide\n",
      "  \n"
     ]
    }
   ],
   "source": [
    "drift_comp = driftPos - drift_pos_av\n",
    "wire_comp = wirePos - wire_pos_av\n",
    "drift_comp_sq = drift_comp ** 2\n",
    "numerator = (drift_comp * wire_comp).sum()\n",
    "denominator = (drift_comp_sq).sum()\n",
    "m = numerator / denominator\n",
    "c = wire_pos_av - m * drift_pos_av"
   ]
  },
  {
   "cell_type": "code",
   "execution_count": 198,
   "metadata": {},
   "outputs": [],
   "source": [
    "# #y values for regression line of PFO-0\n",
    "\n",
    "# y = m[0]*driftPos[0] + c[0]\n",
    "\n",
    "# #first x and y values for regression line of PFO-0\n",
    "# origin_x = (y[0] - c[0]) / m[0]\n",
    "# origin_y = y[0]\n",
    "\n",
    "# print(origin_x, origin_y)\n",
    "\n",
    "# #x and y values for random hit in PFO-0\n",
    "# hit_x = driftPos[0][60]\n",
    "# hit_y = wirePos[0][60]\n",
    "\n",
    "# #gradient of line from regression line to hit\n",
    "# m2 = (hit_y - origin_y) / (hit_x - origin_x)\n",
    "\n",
    "# tan_theta = abs((m2 - m[0]) / (1 + m2 * m[0]))\n",
    "\n",
    "# np.arctan(tan_theta) * (180 / np.pi)"
   ]
  },
  {
   "cell_type": "markdown",
   "metadata": {},
   "source": [
    "# Cuts on purity and completeness"
   ]
  },
  {
   "cell_type": "code",
   "execution_count": 199,
   "metadata": {},
   "outputs": [],
   "source": [
    "pfo_hits = np.array([ len(x) for x in driftPos])\n",
    "\n",
    "track_pfos = np.where((completeness > 0.9) & (purity > 0.89) & (pfo_hits > 5) & isTrack == 1)\n",
    "\n",
    "shower_pfos = np.where((completeness > 0.9) & (purity > 0.89) & (pfo_hits > 5) & isTrack == 0)\n",
    "\n",
    "select_wirePos_tracks = wirePos[track_pfos]\n",
    "\n",
    "select_driftPos_tracks = driftPos[track_pfos]\n",
    "\n",
    "select_wirePos_showers = wirePos[shower_pfos]\n",
    "\n",
    "select_driftPos_showers = driftPos[shower_pfos]"
   ]
  },
  {
   "cell_type": "markdown",
   "metadata": {},
   "source": [
    "# Plot tracks"
   ]
  },
  {
   "cell_type": "code",
   "execution_count": 200,
   "metadata": {},
   "outputs": [],
   "source": [
    "y_values_tracks = []\n",
    "m_values_tracks = []\n",
    "c_values_tracks = []\n",
    "\n",
    "for i in track_pfos[0]:\n",
    "    y = m[i]*driftPos[i] + c[i]\n",
    "#     fig = plt.figure(figsize = (10, 15))\n",
    "#     plt.scatter(driftPos[i], wirePos[i], color = 'b')\n",
    "#     plt.plot(driftPos[i], y, color = 'r', linewidth = 3) \n",
    "\n",
    "    y_values_tracks.append(y)\n",
    "    \n",
    "    m_values_tracks.append(m[i])\n",
    "    \n",
    "    c_values_tracks.append(c[i])"
   ]
  },
  {
   "cell_type": "markdown",
   "metadata": {},
   "source": [
    "# Plot showers"
   ]
  },
  {
   "cell_type": "code",
   "execution_count": 201,
   "metadata": {},
   "outputs": [],
   "source": [
    "y_values_showers = []\n",
    "m_values_showers = []\n",
    "c_values_showers = []\n",
    "\n",
    "for i in shower_pfos[0]:\n",
    "    y = m[i]*driftPos[i] + c[i]\n",
    "#     fig = plt.figure(figsize = (10, 15))\n",
    "#     plt.scatter(driftPos[i], wirePos[i], color = 'b')\n",
    "#     plt.plot(driftPos[i], y, color = 'r', linewidth = 3) \n",
    "\n",
    "    y_values_showers.append(y)\n",
    "    \n",
    "    m_values_showers.append(m[i])\n",
    "    \n",
    "    c_values_showers.append(c[i])"
   ]
  },
  {
   "cell_type": "markdown",
   "metadata": {},
   "source": [
    "# Tracks: Get first x and y values for each PFO regression line"
   ]
  },
  {
   "cell_type": "code",
   "execution_count": 202,
   "metadata": {},
   "outputs": [
    {
     "name": "stderr",
     "output_type": "stream",
     "text": [
      "C:\\Users\\r.xavier\\Anaconda3\\lib\\site-packages\\ipykernel_launcher.py:10: RuntimeWarning: divide by zero encountered in double_scalars\n",
      "  # Remove the CWD from sys.path while we load stuff.\n"
     ]
    }
   ],
   "source": [
    "first_y_tracks = []\n",
    "first_x_tracks = []\n",
    "\n",
    "for i in range(len(y_values_tracks)):\n",
    "    \n",
    "    #Array of first x and y values for 32961 PFOs\n",
    "    \n",
    "    origin_y = y_values_tracks[i][0]\n",
    "    \n",
    "    origin_x = ((y_values_tracks[i][0]) - c[i]) / m[i]\n",
    "    \n",
    "    first_y_tracks.append(origin_y)\n",
    "    \n",
    "    first_x_tracks.append(origin_x)"
   ]
  },
  {
   "cell_type": "markdown",
   "metadata": {},
   "source": [
    "# Showers: Get first x and y values for each PFO regression line\n"
   ]
  },
  {
   "cell_type": "code",
   "execution_count": 203,
   "metadata": {},
   "outputs": [
    {
     "ename": "IndexError",
     "evalue": "index 0 is out of bounds for axis 0 with size 0",
     "output_type": "error",
     "traceback": [
      "\u001b[1;31m---------------------------------------------------------------------------\u001b[0m",
      "\u001b[1;31mIndexError\u001b[0m                                Traceback (most recent call last)",
      "\u001b[1;32m<ipython-input-203-fa16e6072a0e>\u001b[0m in \u001b[0;36m<module>\u001b[1;34m\u001b[0m\n\u001b[0;32m      6\u001b[0m     \u001b[1;31m#Array of first x and y values for 32961 PFOs\u001b[0m\u001b[1;33m\u001b[0m\u001b[1;33m\u001b[0m\u001b[1;33m\u001b[0m\u001b[0m\n\u001b[0;32m      7\u001b[0m \u001b[1;33m\u001b[0m\u001b[0m\n\u001b[1;32m----> 8\u001b[1;33m     \u001b[0morigin_y\u001b[0m \u001b[1;33m=\u001b[0m \u001b[0my_values_showers\u001b[0m\u001b[1;33m[\u001b[0m\u001b[0mi\u001b[0m\u001b[1;33m]\u001b[0m\u001b[1;33m[\u001b[0m\u001b[1;36m0\u001b[0m\u001b[1;33m]\u001b[0m\u001b[1;33m\u001b[0m\u001b[1;33m\u001b[0m\u001b[0m\n\u001b[0m\u001b[0;32m      9\u001b[0m \u001b[1;33m\u001b[0m\u001b[0m\n\u001b[0;32m     10\u001b[0m     \u001b[0morigin_x\u001b[0m \u001b[1;33m=\u001b[0m \u001b[1;33m(\u001b[0m\u001b[1;33m(\u001b[0m\u001b[0my_values_showers\u001b[0m\u001b[1;33m[\u001b[0m\u001b[0mi\u001b[0m\u001b[1;33m]\u001b[0m\u001b[1;33m[\u001b[0m\u001b[1;36m0\u001b[0m\u001b[1;33m]\u001b[0m\u001b[1;33m)\u001b[0m \u001b[1;33m-\u001b[0m \u001b[0mc\u001b[0m\u001b[1;33m[\u001b[0m\u001b[0mi\u001b[0m\u001b[1;33m]\u001b[0m\u001b[1;33m)\u001b[0m \u001b[1;33m/\u001b[0m \u001b[0mm\u001b[0m\u001b[1;33m[\u001b[0m\u001b[0mi\u001b[0m\u001b[1;33m]\u001b[0m\u001b[1;33m\u001b[0m\u001b[1;33m\u001b[0m\u001b[0m\n",
      "\u001b[1;31mIndexError\u001b[0m: index 0 is out of bounds for axis 0 with size 0"
     ]
    }
   ],
   "source": [
    "first_y_showers = []\n",
    "first_x_showers = []\n",
    "\n",
    "for i in range(len(y_values_showers)):\n",
    "    \n",
    "    #Array of first x and y values for 32961 PFOs\n",
    "    \n",
    "    origin_y = y_values_showers[i][0]\n",
    "    \n",
    "    origin_x = ((y_values_showers[i][0]) - c[i]) / m[i]\n",
    "    \n",
    "    first_y_showers.append(origin_y)\n",
    "    \n",
    "    first_x_showers.append(origin_x)"
   ]
  },
  {
   "cell_type": "markdown",
   "metadata": {},
   "source": [
    "# Tracks: Calculate gradient of line between each hit and regression line"
   ]
  },
  {
   "cell_type": "code",
   "execution_count": null,
   "metadata": {},
   "outputs": [],
   "source": [
    "m2_num_tracks = []\n",
    "m2_denom_tracks = []\n",
    "\n",
    "for i in range(len(first_y_tracks)):\n",
    "    m2_num_tracks.append(first_y_tracks[i] - select_wirePos_tracks[i])\n",
    "    \n",
    "for i in range(len(first_x_tracks)):\n",
    "    m2_denom_tracks.append(first_x_tracks[i] - select_driftPos_tracks[i])\n",
    "    \n",
    "m2_tracks = np.array(m2_num_tracks) / np.array(m2_denom_tracks)"
   ]
  },
  {
   "cell_type": "markdown",
   "metadata": {},
   "source": [
    "# Showers: Calculate gradient of line between each hit and regression line\n"
   ]
  },
  {
   "cell_type": "code",
   "execution_count": null,
   "metadata": {},
   "outputs": [],
   "source": [
    "m2_num_showers = []\n",
    "m2_denom_showers = []\n",
    "\n",
    "for i in range(len(first_y_showers)):\n",
    "    m2_num_showers.append(first_y_showers[i] - select_wirePos_showers[i])\n",
    "    \n",
    "for i in range(len(first_x_showers)):\n",
    "    m2_denom_showers.append(first_x_showers[i] - select_driftPos_showers[i])\n",
    "    \n",
    "m2_showers = np.array(m2_num_showers) / np.array(m2_denom_showers)"
   ]
  },
  {
   "cell_type": "markdown",
   "metadata": {},
   "source": [
    "# Tracks: Calculate tan theta"
   ]
  },
  {
   "cell_type": "code",
   "execution_count": null,
   "metadata": {},
   "outputs": [],
   "source": [
    "theta_tracks = []\n",
    "\n",
    "for i in range(len(first_y_tracks)):\n",
    "    \n",
    "    tan_theta_num = m_values_tracks[i] - m2_tracks[i]\n",
    "    \n",
    "    tan_theta_denom = 1 + (m_values_tracks[i] * m2_tracks[i])\n",
    "    \n",
    "    tan_theta = abs(tan_theta_num / tan_theta_denom)\n",
    "    \n",
    "    theta_tracks.append(np.arctan(tan_theta))"
   ]
  },
  {
   "cell_type": "code",
   "execution_count": null,
   "metadata": {},
   "outputs": [],
   "source": [
    "#Flatten the list of lists\n",
    "\n",
    "tracks_angles = [y for x in theta_tracks for y in x]"
   ]
  },
  {
   "cell_type": "markdown",
   "metadata": {},
   "source": [
    "# Showers: Calculate tan theta"
   ]
  },
  {
   "cell_type": "code",
   "execution_count": null,
   "metadata": {},
   "outputs": [],
   "source": [
    "theta_showers = []\n",
    "\n",
    "for i in range(len(first_y_showers)):\n",
    "    \n",
    "    tan_theta_num = m_values_showers[i] - m2_showers[i]\n",
    "    \n",
    "    tan_theta_denom = 1 + (m_values_showers[i] * m2_showers[i])\n",
    "    \n",
    "    tan_theta = abs(tan_theta_num / tan_theta_denom)\n",
    "    \n",
    "    theta_showers.append(np.arctan(tan_theta))"
   ]
  },
  {
   "cell_type": "code",
   "execution_count": null,
   "metadata": {},
   "outputs": [],
   "source": [
    "showers_angles = [y for x in theta_showers for y in x]"
   ]
  },
  {
   "cell_type": "markdown",
   "metadata": {},
   "source": [
    "# Plot distribution of angles"
   ]
  },
  {
   "cell_type": "code",
   "execution_count": 204,
   "metadata": {},
   "outputs": [
    {
     "data": {
      "image/png": "[encoded data removed]",
      "text/plain": [
       "<Figure size 720x720 with 1 Axes>"
      ]
     },
     "metadata": {
      "needs_background": "light"
     },
     "output_type": "display_data"
    }
   ],
   "source": [
    "fig = plt.figure(1, figsize=(10, 10))\n",
    "plt.hist(tracks_angles, 50, color = 'g')\n",
    "plt.title('Angles: Tracks', fontsize = 20)\n",
    "plt.xlabel('Angle (radians)')\n",
    "plt.ylabel('Number of PFOs')\n",
    "\n",
    "plt.show()"
   ]
  },
  {
   "cell_type": "code",
   "execution_count": 205,
   "metadata": {},
   "outputs": [
    {
     "data": {
      "image/png": "[encoded data removed]",
      "text/plain": [
       "<Figure size 720x720 with 1 Axes>"
      ]
     },
     "metadata": {
      "needs_background": "light"
     },
     "output_type": "display_data"
    }
   ],
   "source": [
    "fig = plt.figure(1, figsize=(10, 10))\n",
    "plt.hist(flattened_list, 50, color = 'b')\n",
    "plt.title('Angles: Showers', fontsize = 20)\n",
    "plt.xlabel('Angle (radians)')\n",
    "plt.ylabel('Number of PFOs')\n",
    "\n",
    "plt.show()"
   ]
  },
  {
   "cell_type": "code",
   "execution_count": 206,
   "metadata": {},
   "outputs": [
    {
     "data": {
      "image/png": "[encoded data removed]",
      "text/plain": [
       "<Figure size 720x720 with 1 Axes>"
      ]
     },
     "metadata": {
      "needs_background": "light"
     },
     "output_type": "display_data"
    }
   ],
   "source": [
    "fig = plt.figure(1, figsize=(10, 10))\n",
    "plt.hist(tracks_angles, 50, density = True, color = 'g', histtype = u'step')\n",
    "plt.hist(showers_angles, 50, density = True, color = 'b', histtype = u'step')\n",
    "plt.title('Angles: Tracks and Showers', fontsize = 20)\n",
    "plt.xlabel('Angle (radians)')\n",
    "plt.ylabel('Number of PFOs')\n",
    "\n",
    "\n",
    "plt.legend('TS')\n",
    "        \n",
    "plt.show()"
   ]
  },
  {
   "cell_type": "code",
   "execution_count": null,
   "metadata": {},
   "outputs": [],
   "source": []
  }
 ],
 "metadata": {
  "kernelspec": {
   "display_name": "Python 3",
   "language": "python",
   "name": "python3"
  },
  "language_info": {
   "codemirror_mode": {
    "name": "ipython",
    "version": 3
   },
   "file_extension": ".py",
   "mimetype": "text/x-python",
   "name": "python",
   "nbconvert_exporter": "python",
   "pygments_lexer": "ipython3",
   "version": "3.7.3"
  }
 },
 "nbformat": 4,
 "nbformat_minor": 2
}
