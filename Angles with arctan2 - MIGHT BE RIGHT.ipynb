{
 "cells": [
  {
   "cell_type": "code",
   "execution_count": 2,
   "metadata": {},
   "outputs": [],
   "source": [
    "import numpy as np\n",
    "import uproot\n",
    "import matplotlib.pyplot as plt"
   ]
  },
  {
   "cell_type": "code",
   "execution_count": 3,
   "metadata": {},
   "outputs": [],
   "source": [
    "myFile = uproot.open('TestFiles.root')"
   ]
  },
  {
   "cell_type": "code",
   "execution_count": 4,
   "metadata": {},
   "outputs": [],
   "source": [
    "tree = myFile['TestTree']"
   ]
  },
  {
   "cell_type": "code",
   "execution_count": 5,
   "metadata": {},
   "outputs": [],
   "source": [
    "eventId = tree.array('eventId')\n",
    "pfoId = tree.array('pfoId')\n",
    "driftPos = tree.array('hitDriftPositionsW')\n",
    "wirePos = tree.array('hitWirePositionsW')\n",
    "pdg = tree.array('bestMCParticlePdgCode')\n",
    "isTrack = tree.array('bestMCParticleIsTrack')\n",
    "completeness = tree.array('completeness')\n",
    "purity = tree.array('purity')\n",
    "nHitsW = tree.array('nHitsInPfoW')\n",
    "nHitsU = tree.array('nHitsInPfoU')\n",
    "nHitsV = tree.array('nHitsInPfoV')\n",
    "vertexdriftPos = tree.array('vertexDriftPosition')\n",
    "vertexwirePos = tree.array('vertexWirePositionW')"
   ]
  },
  {
   "cell_type": "code",
   "execution_count": 6,
   "metadata": {},
   "outputs": [],
   "source": [
    "drift_pos_av = driftPos.mean()\n",
    "wire_pos_av = wirePos.mean()"
   ]
  },
  {
   "cell_type": "code",
   "execution_count": 7,
   "metadata": {},
   "outputs": [
    {
     "name": "stderr",
     "output_type": "stream",
     "text": [
      "C:\\Users\\r.xavier\\Anaconda3\\lib\\site-packages\\ipykernel_launcher.py:6: RuntimeWarning: invalid value encountered in true_divide\n",
      "  \n"
     ]
    }
   ],
   "source": [
    "drift_comp = driftPos - drift_pos_av\n",
    "wire_comp = wirePos - wire_pos_av\n",
    "drift_comp_sq = drift_comp ** 2\n",
    "numerator = (drift_comp * wire_comp).sum()\n",
    "denominator = (drift_comp_sq).sum()\n",
    "m = numerator / denominator\n",
    "c = wire_pos_av - m * drift_pos_av"
   ]
  },
  {
   "cell_type": "code",
   "execution_count": 8,
   "metadata": {},
   "outputs": [],
   "source": [
    "pfo_hits = np.array([ len(x) for x in wirePos])\n",
    "\n",
    "track_pfos = np.where((completeness > 0.9) & (purity > 0.9) & (pfo_hits > 0) & (isTrack == 1))\n",
    "\n",
    "shower_pfos = np.where((completeness > 0.9) & (purity > 0.9) & (pfo_hits > 0) & (isTrack == 0))\n",
    "\n",
    "select_wirePos_tracks = wirePos[track_pfos]\n",
    "\n",
    "select_driftPos_tracks = driftPos[track_pfos]\n",
    "\n",
    "select_wirePos_showers = wirePos[shower_pfos]\n",
    "\n",
    "select_driftPos_showers = driftPos[shower_pfos]\n",
    "\n",
    "m_tracks = m[track_pfos]\n",
    "\n",
    "c_tracks = c[track_pfos]\n",
    "\n",
    "m_showers = m[shower_pfos]\n",
    "\n",
    "c_showers = c[shower_pfos]"
   ]
  },
  {
   "cell_type": "markdown",
   "metadata": {},
   "source": [
    "# Tracks: Plot regression line"
   ]
  },
  {
   "cell_type": "code",
   "execution_count": 56,
   "metadata": {},
   "outputs": [],
   "source": [
    "y_values_tracks = []\n",
    "m_values_tracks = []\n",
    "c_values_tracks = []\n",
    "\n",
    "for i in range(len(track_pfos[0])):\n",
    "        \n",
    "    y = m_tracks[i]*select_driftPos_tracks[i] + c_tracks[i]\n",
    "#     fig = plt.figure(figsize = (10, 15))\n",
    "#     plt.scatter(select_driftPos_tracks[i], select_wirePos_tracks[i], color = 'b')\n",
    "#     plt.plot(select_driftPos_tracks[i], y, color = 'r', linewidth = 3) \n",
    "#     plt.scatter(last_x_tracks[i], last_y_tracks[i], color = 'g', s = 150)\n",
    "    \n",
    "    y_values_tracks.append(y)\n",
    "\n",
    "    m_values_tracks.append(m_tracks[i])\n",
    "\n",
    "    c_values_tracks.append(c_tracks[i])"
   ]
  },
  {
   "cell_type": "markdown",
   "metadata": {},
   "source": [
    "# Showers: Plot regression line"
   ]
  },
  {
   "cell_type": "code",
   "execution_count": 57,
   "metadata": {},
   "outputs": [],
   "source": [
    "y_values_showers = []\n",
    "m_values_showers = []\n",
    "c_values_showers = []\n",
    "\n",
    "for i in range(len(shower_pfos[0])):\n",
    "        \n",
    "    y = m_showers[i]*select_driftPos_showers[i] + c_showers[i]\n",
    "#     fig = plt.figure(figsize = (10, 15))\n",
    "#     plt.scatter(select_driftPos_showers[i], select_wirePos_showers[i], color = 'b')\n",
    "#     plt.plot(select_driftPos_showers[i], y, color = 'r', linewidth = 3) \n",
    "\n",
    "    y_values_showers.append(y)\n",
    "    \n",
    "    m_values_showers.append(m_showers[i])\n",
    "\n",
    "    c_values_showers.append(c_showers[i])"
   ]
  },
  {
   "cell_type": "markdown",
   "metadata": {},
   "source": [
    "# Tracks: Get first and last x and y values of regression line"
   ]
  },
  {
   "cell_type": "code",
   "execution_count": 58,
   "metadata": {
    "scrolled": true
   },
   "outputs": [],
   "source": [
    "y_values_tracks_sorted = []\n",
    "\n",
    "for i in range(len(y_values_tracks)):\n",
    "    y_values_tracks_sorted.append(np.sort(y_values_tracks[i]))"
   ]
  },
  {
   "cell_type": "code",
   "execution_count": 59,
   "metadata": {},
   "outputs": [
    {
     "name": "stderr",
     "output_type": "stream",
     "text": [
      "C:\\Users\\r.xavier\\Anaconda3\\lib\\site-packages\\ipykernel_launcher.py:12: RuntimeWarning: invalid value encountered in double_scalars\n",
      "  if sys.path[0] == '':\n",
      "C:\\Users\\r.xavier\\Anaconda3\\lib\\site-packages\\ipykernel_launcher.py:18: RuntimeWarning: invalid value encountered in double_scalars\n"
     ]
    }
   ],
   "source": [
    "first_y_tracks = []\n",
    "first_x_tracks = []\n",
    "last_y_tracks = []\n",
    "last_x_tracks = []\n",
    "\n",
    "for i in range(len(y_values_tracks)):\n",
    "    \n",
    "    first_y = y_values_tracks_sorted[i][0]\n",
    "    \n",
    "    first_y_tracks.append(first_y)\n",
    "    \n",
    "    first_x = ((y_values_tracks_sorted[i][0]) - c_values_tracks[i]) / m_values_tracks[i]\n",
    "    \n",
    "    first_x_tracks.append(first_x)\n",
    "    \n",
    "    last_y_tracks.append(y_values_tracks_sorted[i][-1])\n",
    "    \n",
    "    last_x = ((y_values_tracks_sorted[i][-1]) - c_values_tracks[i]) / m_values_tracks[i]\n",
    "    \n",
    "    last_x_tracks.append(last_x)"
   ]
  },
  {
   "cell_type": "code",
   "execution_count": 60,
   "metadata": {},
   "outputs": [
    {
     "data": {
      "text/plain": [
       "22431"
      ]
     },
     "execution_count": 60,
     "metadata": {},
     "output_type": "execute_result"
    }
   ],
   "source": [
    "len(first_y_tracks)"
   ]
  },
  {
   "cell_type": "code",
   "execution_count": 61,
   "metadata": {},
   "outputs": [
    {
     "data": {
      "text/plain": [
       "22431"
      ]
     },
     "execution_count": 61,
     "metadata": {},
     "output_type": "execute_result"
    }
   ],
   "source": [
    "len(first_x_tracks)"
   ]
  },
  {
   "cell_type": "markdown",
   "metadata": {},
   "source": [
    "# Showers: Get first and last x and y values of regression line"
   ]
  },
  {
   "cell_type": "code",
   "execution_count": 62,
   "metadata": {},
   "outputs": [],
   "source": [
    "y_values_showers_sorted = []\n",
    "\n",
    "for i in range(len(y_values_showers)):\n",
    "    y_values_showers_sorted.append(np.sort(y_values_showers[i]))"
   ]
  },
  {
   "cell_type": "code",
   "execution_count": 63,
   "metadata": {},
   "outputs": [],
   "source": [
    "first_y_showers = []\n",
    "first_x_showers = []\n",
    "last_y_showers = []\n",
    "last_x_showers = []\n",
    "\n",
    "for i in range(len(y_values_showers)):\n",
    "    \n",
    "    first_y = y_values_showers_sorted[i][0]\n",
    "    \n",
    "    first_y_showers.append(first_y)\n",
    "    \n",
    "    first_x = ((y_values_showers_sorted[i][0]) - c_values_showers[i]) / m_values_showers[i]\n",
    "    \n",
    "    first_x_showers.append(first_x)\n",
    "    \n",
    "    last_y_showers.append(y_values_showers_sorted[i][-1])\n",
    "    \n",
    "    last_x = ((y_values_showers_sorted[i][-1]) - c_values_showers[i]) / m_values_showers[i]\n",
    "    \n",
    "    last_x_showers.append(last_x)"
   ]
  },
  {
   "cell_type": "markdown",
   "metadata": {},
   "source": [
    "# Tracks: angle betweeen regression line and each hit"
   ]
  },
  {
   "cell_type": "code",
   "execution_count": 71,
   "metadata": {},
   "outputs": [],
   "source": [
    "av_theta_track = []\n",
    "\n",
    "for i in range(len(track_pfos[0])):\n",
    "    \n",
    "    if m_values_tracks[i] > 0:\n",
    "        line_theta_track = np.degrees(np.arctan2(first_y_tracks[i], first_x_tracks[i])) \n",
    "        hit_theta_track = np.degrees(np.arctan2(select_wirePos_tracks[i], select_driftPos_tracks[i]))\n",
    "        \n",
    "    else:\n",
    "        line_theta_track = np.degrees(np.arctan2(last_y_tracks[i], last_x_tracks[i])) \n",
    "        hit_theta_track = np.degrees(np.arctan2(select_wirePos_tracks[i], select_driftPos_tracks[i]))\n",
    "\n",
    "    theta_track = abs(line_theta_track - hit_theta_track)\n",
    "    \n",
    "    av_theta_track.append(theta_track.mean())"
   ]
  },
  {
   "cell_type": "markdown",
   "metadata": {},
   "source": [
    "# Showers: angle between regression line and each hit"
   ]
  },
  {
   "cell_type": "code",
   "execution_count": 77,
   "metadata": {},
   "outputs": [],
   "source": [
    "av_theta_shower = []\n",
    "\n",
    "for i in range(len(shower_pfos[0])):\n",
    "    \n",
    "    if m_values_showers[i] > 0:\n",
    "        line_theta_showers = np.degrees(np.arctan2(first_y_showers[i], first_x_showers[i])) \n",
    "        hit_theta_shower = np.degrees(np.arctan2(select_wirePos_showers[i], select_driftPos_showers[i]))\n",
    "        \n",
    "    else:\n",
    "        line_theta_shower = np.degrees(np.arctan2(last_y_showers[i], last_x_showers[i])) \n",
    "        hit_theta_shower = np.degrees(np.arctan2(select_wirePos_showers[i], select_driftPos_showers[i]))\n",
    "\n",
    "    theta_shower = abs(line_theta_shower - hit_theta_shower)\n",
    "    \n",
    "    av_theta_shower.append(theta_shower.mean())"
   ]
  },
  {
   "cell_type": "markdown",
   "metadata": {},
   "source": [
    "# PLOTS"
   ]
  },
  {
   "cell_type": "code",
   "execution_count": 83,
   "metadata": {},
   "outputs": [
    {
     "data": {
      "image/png": "[encoded data removed]",
      "text/plain": [
       "<Figure size 720x720 with 1 Axes>"
      ]
     },
     "metadata": {
      "needs_background": "light"
     },
     "output_type": "display_data"
    }
   ],
   "source": [
    "fig = plt.figure(1, figsize=(10, 10))\n",
    "plt.hist(av_theta_track, 100, color = 'g')\n",
    "plt.title('Angles: Tracks', fontsize = 20)\n",
    "plt.xlabel('Angle (degrees)')\n",
    "plt.ylabel('Number of PFOs')\n",
    "\n",
    "plt.show()"
   ]
  },
  {
   "cell_type": "code",
   "execution_count": 84,
   "metadata": {},
   "outputs": [
    {
     "data": {
      "image/png": "[encoded data removed]",
      "text/plain": [
       "<Figure size 720x720 with 1 Axes>"
      ]
     },
     "metadata": {
      "needs_background": "light"
     },
     "output_type": "display_data"
    }
   ],
   "source": [
    "fig = plt.figure(1, figsize=(10, 10))\n",
    "plt.hist(av_theta_shower, 100, color = 'g')\n",
    "plt.title('Angles: Showers', fontsize = 20)\n",
    "plt.xlabel('Angle (degrees)')\n",
    "plt.ylabel('Number of PFOs')\n",
    "\n",
    "plt.show()"
   ]
  },
  {
   "cell_type": "code",
   "execution_count": 85,
   "metadata": {},
   "outputs": [],
   "source": [
    "weight_tracks = np.ones_like(av_theta_track) / len(av_theta_track)\n",
    "weight_showers = np.ones_like(av_theta_shower) / len(av_theta_shower)"
   ]
  },
  {
   "cell_type": "code",
   "execution_count": 86,
   "metadata": {},
   "outputs": [
    {
     "data": {
      "image/png": "[encoded data removed]",
      "text/plain": [
       "<Figure size 720x720 with 1 Axes>"
      ]
     },
     "metadata": {
      "needs_background": "light"
     },
     "output_type": "display_data"
    }
   ],
   "source": [
    "fig = plt.figure(1, figsize=(10, 10))\n",
    "plt.hist(av_theta_track, 100, (0, 100), weights = weight_tracks, color = 'g', histtype = u'step')\n",
    "plt.hist(av_theta_shower, 100, (0, 100), weights = weight_showers, color = 'b', histtype = u'step')\n",
    "plt.title('Angles: Tracks and Showers', fontsize = 20)\n",
    "plt.xlabel('Angle (degrees)')\n",
    "plt.ylabel('Number of PFOs')\n",
    "\n",
    "\n",
    "plt.legend('TS')\n",
    "        \n",
    "plt.show()"
   ]
  },
  {
   "cell_type": "code",
   "execution_count": null,
   "metadata": {},
   "outputs": [],
   "source": []
  }
 ],
 "metadata": {
  "kernelspec": {
   "display_name": "Python 3",
   "language": "python",
   "name": "python3"
  },
  "language_info": {
   "codemirror_mode": {
    "name": "ipython",
    "version": 3
   },
   "file_extension": ".py",
   "mimetype": "text/x-python",
   "name": "python",
   "nbconvert_exporter": "python",
   "pygments_lexer": "ipython3",
   "version": "3.7.3"
  }
 },
 "nbformat": 4,
 "nbformat_minor": 2
}
