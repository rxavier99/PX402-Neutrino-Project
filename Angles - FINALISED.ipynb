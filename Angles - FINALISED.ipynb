{
 "cells": [
  {
   "cell_type": "code",
   "execution_count": 1,
   "metadata": {},
   "outputs": [],
   "source": [
    "import numpy as np\n",
    "import uproot\n",
    "import matplotlib.pyplot as plt"
   ]
  },
  {
   "cell_type": "code",
   "execution_count": 2,
   "metadata": {},
   "outputs": [],
   "source": [
    "myFile = uproot.open('TestFiles.root')"
   ]
  },
  {
   "cell_type": "code",
   "execution_count": 3,
   "metadata": {},
   "outputs": [],
   "source": [
    "tree = myFile['TestTree']"
   ]
  },
  {
   "cell_type": "code",
   "execution_count": 4,
   "metadata": {},
   "outputs": [],
   "source": [
    "eventId = tree.array('eventId')\n",
    "pfoId = tree.array('pfoId')\n",
    "driftPos = tree.array('hitDriftPositionsW')\n",
    "wirePos = tree.array('hitWirePositionsW')\n",
    "pdg = tree.array('bestMCParticlePdgCode')\n",
    "isTrack = tree.array('bestMCParticleIsTrack')\n",
    "completeness = tree.array('completeness')\n",
    "purity = tree.array('purity')\n",
    "nHitsW = tree.array('nHitsInPfoW')\n",
    "nHitsU = tree.array('nHitsInPfoU')\n",
    "nHitsV = tree.array('nHitsInPfoV')\n",
    "vertexdriftPos = tree.array('vertexDriftPosition')\n",
    "vertexwirePos = tree.array('vertexWirePositionW')"
   ]
  },
  {
   "cell_type": "markdown",
   "metadata": {},
   "source": [
    "# Calculate means"
   ]
  },
  {
   "cell_type": "code",
   "execution_count": 5,
   "metadata": {},
   "outputs": [],
   "source": [
    "drift_pos_av = driftPos.mean()\n",
    "wire_pos_av = wirePos.mean()"
   ]
  },
  {
   "cell_type": "markdown",
   "metadata": {},
   "source": [
    "# Calculate gradient"
   ]
  },
  {
   "cell_type": "code",
   "execution_count": 6,
   "metadata": {},
   "outputs": [
    {
     "name": "stderr",
     "output_type": "stream",
     "text": [
      "C:\\Users\\r.xavier\\Anaconda3\\lib\\site-packages\\ipykernel_launcher.py:6: RuntimeWarning: invalid value encountered in true_divide\n",
      "  \n"
     ]
    }
   ],
   "source": [
    "drift_comp = driftPos - drift_pos_av\n",
    "wire_comp = wirePos - wire_pos_av\n",
    "drift_comp_sq = drift_comp ** 2\n",
    "numerator = (drift_comp * wire_comp).sum()\n",
    "denominator = (drift_comp_sq).sum()\n",
    "m = numerator / denominator\n",
    "c = wire_pos_av - m * drift_pos_av"
   ]
  },
  {
   "cell_type": "markdown",
   "metadata": {},
   "source": [
    "# Cuts on purity and completeness"
   ]
  },
  {
   "cell_type": "code",
   "execution_count": 7,
   "metadata": {},
   "outputs": [],
   "source": [
    "pfo_hits = np.array([ len(x) for x in wirePos])\n",
    "\n",
    "track_pfos = np.where((completeness > 0.9) & (purity > 0.89) & (pfo_hits > 5) & (isTrack == 1))\n",
    "\n",
    "shower_pfos = np.where((completeness > 0.9) & (purity > 0.89) & (pfo_hits > 5) & (isTrack == 0))\n",
    "\n",
    "select_wirePos_tracks = wirePos[track_pfos]\n",
    "\n",
    "select_driftPos_tracks = driftPos[track_pfos]\n",
    "\n",
    "select_wirePos_showers = wirePos[shower_pfos]\n",
    "\n",
    "select_driftPos_showers = driftPos[shower_pfos]\n",
    "\n",
    "vertexdriftPos_tracks = vertexdriftPos[track_pfos]\n",
    "\n",
    "vertexwirePos_tracks = vertexwirePos[track_pfos]\n",
    "\n",
    "vertexdriftPos_showers = vertexdriftPos[shower_pfos]\n",
    "\n",
    "vertexwirePos_showers = vertexwirePos[shower_pfos]\n",
    "\n",
    "m_tracks = m[track_pfos]\n",
    "\n",
    "c_tracks = c[track_pfos]\n",
    "\n",
    "m_showers = m[shower_pfos]\n",
    "\n",
    "c_showers = c[shower_pfos]"
   ]
  },
  {
   "cell_type": "markdown",
   "metadata": {},
   "source": [
    "# Plot tracks"
   ]
  },
  {
   "cell_type": "code",
   "execution_count": 8,
   "metadata": {
    "scrolled": false
   },
   "outputs": [],
   "source": [
    "y_values_tracks = []\n",
    "m_values_tracks = []\n",
    "c_values_tracks = []\n",
    "\n",
    "for i in range(len(track_pfos[0])):\n",
    "        \n",
    "        y = m_tracks[i]*select_driftPos_tracks[i] + c_tracks[i]\n",
    "#         fig = plt.figure(figsize = (10, 15))\n",
    "#         plt.scatter(select_driftPos_tracks[i], select_wirePos_tracks[i], color = 'b', s = 1)\n",
    "#         plt.plot(select_driftPos_tracks[i], y, color = 'r', linewidth = 3) \n",
    "#         plt.scatter(x_origin_tracks[i], y_origin_tracks[i], color = 'g', s = 150)\n",
    "#         plt.scatter(select_driftPos_tracks[1][100], select_wirePos_tracks[1][100], color = 'g', s = 150, marker = 'x')\n",
    "\n",
    "        y_values_tracks.append(y)\n",
    "\n",
    "        m_values_tracks.append(m_tracks[i])\n",
    "\n",
    "        c_values_tracks.append(c_tracks[i])"
   ]
  },
  {
   "cell_type": "markdown",
   "metadata": {},
   "source": [
    "# Plot showers"
   ]
  },
  {
   "cell_type": "code",
   "execution_count": 9,
   "metadata": {
    "scrolled": false
   },
   "outputs": [],
   "source": [
    "y_values_showers = []\n",
    "m_values_showers = []\n",
    "c_values_showers = []\n",
    "\n",
    "for i in range(len(shower_pfos[0])):\n",
    "        \n",
    "        y = m_showers[i]*select_driftPos_showers[i] + c_showers[i]\n",
    "#         fig = plt.figure(figsize = (10, 15))\n",
    "#         plt.scatter(select_driftPos_showers[i], select_wirePos_showers[i], color = 'b', s = 1)\n",
    "#         plt.plot(select_driftPos_showers[i], y, color = 'r', linewidth = 3) \n",
    "#         plt.scatter(x_origin_showers[i], y_origin_showers[i], color = 'g', s = 150)\n",
    "#         plt.scatter(vertexdriftPos_showers[i], vertexwirePos_showers[i], color = 'g', s = 150, marker = 'x')\n",
    "\n",
    "        y_values_showers.append(y)\n",
    "\n",
    "        m_values_showers.append(m_showers[i])\n",
    "\n",
    "        c_values_showers.append(c_showers[i])"
   ]
  },
  {
   "cell_type": "markdown",
   "metadata": {},
   "source": [
    "# Tracks: Get first x and y values for each PFO regression line"
   ]
  },
  {
   "cell_type": "code",
   "execution_count": 10,
   "metadata": {},
   "outputs": [],
   "source": [
    "first_y_tracks = []\n",
    "first_x_tracks = []\n",
    "last_x_tracks = []\n",
    "last_y_tracks = []\n",
    "\n",
    "for i in range(len(track_pfos[0])):\n",
    "    \n",
    "    origin_x = select_driftPos_tracks[i][0]\n",
    "    \n",
    "    origin_y = (m_values_tracks[i] * select_driftPos_tracks[i][0]) + c_values_tracks[i]\n",
    "    \n",
    "    end_x = select_driftPos_tracks[i][-1]\n",
    "    \n",
    "    end_y = (m_values_tracks[i] * select_driftPos_tracks[i][-1]) + c_values_tracks[i]\n",
    "    \n",
    "    first_y_tracks.append(origin_y)\n",
    "    \n",
    "    first_x_tracks.append(origin_x)\n",
    "    \n",
    "    last_y_tracks.append(end_y)\n",
    "    \n",
    "    last_x_tracks.append(end_x)"
   ]
  },
  {
   "cell_type": "markdown",
   "metadata": {},
   "source": [
    "# Tracks: Regression line vector"
   ]
  },
  {
   "cell_type": "code",
   "execution_count": 11,
   "metadata": {},
   "outputs": [],
   "source": [
    "d_zero_tracks = ((vertexwirePos_tracks - first_y_tracks) ** 2) + ((vertexdriftPos_tracks - first_x_tracks) ** 2)\n",
    "d_end_tracks = ((vertexwirePos_tracks - last_y_tracks) ** 2) + ((vertexdriftPos_tracks - last_x_tracks) ** 2)"
   ]
  },
  {
   "cell_type": "code",
   "execution_count": 12,
   "metadata": {},
   "outputs": [],
   "source": [
    "x_sinc_tracks = []\n",
    "y_sinc_tracks = []\n",
    "\n",
    "x_origin_tracks = []\n",
    "y_origin_tracks = []\n",
    "\n",
    "for i in range(len(track_pfos[0])):\n",
    "    \n",
    "    x_origin, y_origin = (first_x_tracks[i], first_y_tracks[i]) if d_zero_tracks[i] < d_end_tracks[i] else (last_x_tracks[i], last_y_tracks[i])\n",
    "    \n",
    "    x_origin_tracks.append(x_origin)\n",
    "    \n",
    "    y_origin_tracks.append(y_origin)\n",
    "    \n",
    "    x_sinc, y_sinc = (first_x_tracks[i], first_y_tracks[i]) if d_zero_tracks[i] >= d_end_tracks[i] else (last_x_tracks[i], last_y_tracks[i])\n",
    "    \n",
    "    x_sinc_tracks.append(x_sinc)\n",
    "    \n",
    "    y_sinc_tracks.append(y_sinc)"
   ]
  },
  {
   "cell_type": "code",
   "execution_count": 13,
   "metadata": {},
   "outputs": [],
   "source": [
    "x_line_vector_tracks = np.array(x_sinc_tracks) - np.array(x_origin_tracks)\n",
    "y_line_vector_tracks = np.array(y_sinc_tracks) - np.array(y_origin_tracks)"
   ]
  },
  {
   "cell_type": "code",
   "execution_count": 14,
   "metadata": {},
   "outputs": [],
   "source": [
    "mag_line_tracks = np.sqrt((x_line_vector_tracks ** 2) + (y_line_vector_tracks ** 2))"
   ]
  },
  {
   "cell_type": "markdown",
   "metadata": {},
   "source": [
    "# Tracks: Hits vector"
   ]
  },
  {
   "cell_type": "code",
   "execution_count": 15,
   "metadata": {},
   "outputs": [],
   "source": [
    "x_hit_vector_tracks = select_driftPos_tracks - x_origin_tracks\n",
    "y_hit_vector_tracks = select_wirePos_tracks - y_origin_tracks"
   ]
  },
  {
   "cell_type": "code",
   "execution_count": 16,
   "metadata": {},
   "outputs": [],
   "source": [
    "mag_hit_tracks = np.sqrt((x_hit_vector_tracks ** 2) + (y_hit_vector_tracks ** 2))"
   ]
  },
  {
   "cell_type": "markdown",
   "metadata": {},
   "source": [
    "# Tracks: Calculate angle"
   ]
  },
  {
   "cell_type": "code",
   "execution_count": 17,
   "metadata": {},
   "outputs": [
    {
     "name": "stderr",
     "output_type": "stream",
     "text": [
      "C:\\Users\\r.xavier\\Anaconda3\\lib\\site-packages\\awkward\\array\\jagged.py:1043: RuntimeWarning: invalid value encountered in true_divide\n",
      "  result = getattr(ufunc, method)(*inputs, **kwargs)\n"
     ]
    }
   ],
   "source": [
    "theta_num_tracks = (x_line_vector_tracks * x_hit_vector_tracks) + (y_line_vector_tracks * y_hit_vector_tracks)\n",
    "theta_denom_tracks = mag_line_tracks * mag_hit_tracks\n",
    "theta_tracks = theta_num_tracks / theta_denom_tracks"
   ]
  },
  {
   "cell_type": "code",
   "execution_count": 18,
   "metadata": {},
   "outputs": [
    {
     "name": "stderr",
     "output_type": "stream",
     "text": [
      "C:\\Users\\r.xavier\\Anaconda3\\lib\\site-packages\\awkward\\array\\jagged.py:1043: RuntimeWarning: invalid value encountered in arccos\n",
      "  result = getattr(ufunc, method)(*inputs, **kwargs)\n"
     ]
    }
   ],
   "source": [
    "angle_tracks = np.degrees(np.arccos(theta_tracks))\n",
    "av_theta_tracks = (angle_tracks.mean())"
   ]
  },
  {
   "cell_type": "markdown",
   "metadata": {},
   "source": [
    "# Showers: Get first x and y values for each PFO regression line\n"
   ]
  },
  {
   "cell_type": "code",
   "execution_count": 19,
   "metadata": {},
   "outputs": [],
   "source": [
    "first_y_showers = []\n",
    "first_x_showers = []\n",
    "last_x_showers = []\n",
    "last_y_showers = []\n",
    "\n",
    "for i in range(len(shower_pfos[0])):\n",
    "    \n",
    "    origin_x = select_driftPos_showers[i][0]\n",
    "    \n",
    "    origin_y = (m_values_showers[i] * select_driftPos_showers[i][0]) + c_values_showers[i]\n",
    "    \n",
    "    end_x = select_driftPos_showers[i][-1]\n",
    "    \n",
    "    end_y = (m_values_showers[i] * select_driftPos_showers[i][-1]) + c_values_showers[i]\n",
    "    \n",
    "    first_y_showers.append(origin_y)\n",
    "    \n",
    "    first_x_showers.append(origin_x)\n",
    "    \n",
    "    last_y_showers.append(end_y)\n",
    "    \n",
    "    last_x_showers.append(end_x)"
   ]
  },
  {
   "cell_type": "markdown",
   "metadata": {},
   "source": [
    "# Showers: Regression line vector"
   ]
  },
  {
   "cell_type": "code",
   "execution_count": 20,
   "metadata": {},
   "outputs": [],
   "source": [
    "d_zero_showers = ((vertexwirePos_showers - first_y_showers) ** 2) + ((vertexdriftPos_showers - first_x_showers) ** 2)\n",
    "d_end_showers = ((vertexwirePos_showers - last_y_showers) ** 2) + ((vertexdriftPos_showers - last_x_showers) ** 2)"
   ]
  },
  {
   "cell_type": "code",
   "execution_count": 21,
   "metadata": {},
   "outputs": [],
   "source": [
    "x_sinc_showers = []\n",
    "y_sinc_showers = []\n",
    "\n",
    "x_origin_showers = []\n",
    "y_origin_showers = []\n",
    "\n",
    "for i in range(len(shower_pfos[0])):\n",
    "    \n",
    "    x_origin, y_origin = (first_x_showers[i], first_y_showers[i]) if d_zero_showers[i] < d_end_showers[i] else (last_x_showers[i], last_y_showers[i])\n",
    "    \n",
    "    x_origin_showers.append(x_origin)\n",
    "    \n",
    "    y_origin_showers.append(y_origin)\n",
    "    \n",
    "    x_sinc, y_sinc = (first_x_showers[i], first_y_showers[i]) if d_zero_showers[i] >= d_end_showers[i] else (last_x_showers[i], last_y_showers[i])\n",
    "    \n",
    "    x_sinc_showers.append(x_sinc)\n",
    "    \n",
    "    y_sinc_showers.append(y_sinc)\n",
    "    "
   ]
  },
  {
   "cell_type": "code",
   "execution_count": 22,
   "metadata": {},
   "outputs": [],
   "source": [
    "x_line_vector_showers = np.array(x_sinc_showers) - np.array(x_origin_showers)\n",
    "y_line_vector_showers = np.array(y_sinc_showers) - np.array(y_origin_showers)"
   ]
  },
  {
   "cell_type": "code",
   "execution_count": 23,
   "metadata": {},
   "outputs": [],
   "source": [
    "mag_line_showers = np.sqrt((x_line_vector_showers ** 2) + ((y_line_vector_showers) ** 2))"
   ]
  },
  {
   "cell_type": "markdown",
   "metadata": {},
   "source": [
    "# Showers: Hits vector"
   ]
  },
  {
   "cell_type": "code",
   "execution_count": 24,
   "metadata": {},
   "outputs": [],
   "source": [
    "x_hit_vector_showers =  select_driftPos_showers - x_origin_showers \n",
    "y_hit_vector_showers = select_wirePos_showers - y_origin_showers"
   ]
  },
  {
   "cell_type": "code",
   "execution_count": 25,
   "metadata": {},
   "outputs": [],
   "source": [
    "mag_hit_showers = np.sqrt((x_hit_vector_showers ** 2) + ((y_hit_vector_showers) ** 2))"
   ]
  },
  {
   "cell_type": "markdown",
   "metadata": {},
   "source": [
    "# Showers: Calculate angle"
   ]
  },
  {
   "cell_type": "code",
   "execution_count": 26,
   "metadata": {},
   "outputs": [],
   "source": [
    "theta_num_showers = (x_line_vector_showers * x_hit_vector_showers) + (y_line_vector_showers * y_hit_vector_showers)\n",
    "theta_denom_showers = mag_line_showers * mag_hit_showers\n",
    "theta_showers = theta_num_showers / theta_denom_showers"
   ]
  },
  {
   "cell_type": "code",
   "execution_count": 27,
   "metadata": {},
   "outputs": [],
   "source": [
    "angle_showers = np.degrees(np.arccos(theta_showers))\n",
    "av_theta_showers = (angle_showers.mean())"
   ]
  },
  {
   "cell_type": "code",
   "execution_count": 28,
   "metadata": {
    "scrolled": true
   },
   "outputs": [
    {
     "data": {
      "image/png": "[encoded data removed]",
      "text/plain": [
       "<Figure size 720x720 with 1 Axes>"
      ]
     },
     "metadata": {
      "needs_background": "light"
     },
     "output_type": "display_data"
    }
   ],
   "source": [
    "fig = plt.figure(1, figsize=(10, 10))\n",
    "plt.hist(av_theta_tracks, 100, (0, 10), color = 'g')\n",
    "plt.title('Angles: Tracks', fontsize = 20)\n",
    "plt.xlabel('Angle (degrees)')\n",
    "plt.ylabel('Number of PFOs')\n",
    "\n",
    "plt.show()"
   ]
  },
  {
   "cell_type": "code",
   "execution_count": 29,
   "metadata": {},
   "outputs": [
    {
     "data": {
      "image/png": "[encoded data removed]",
      "text/plain": [
       "<Figure size 720x720 with 1 Axes>"
      ]
     },
     "metadata": {
      "needs_background": "light"
     },
     "output_type": "display_data"
    }
   ],
   "source": [
    "fig = plt.figure(1, figsize=(10, 10))\n",
    "plt.hist(av_theta_showers, 100, color = 'g')\n",
    "plt.title('Angles: Showers', fontsize = 20)\n",
    "plt.xlabel('Angle (degrees)')\n",
    "plt.ylabel('Number of PFOs')\n",
    "\n",
    "plt.show()"
   ]
  },
  {
   "cell_type": "code",
   "execution_count": 54,
   "metadata": {},
   "outputs": [],
   "source": [
    "weight_tracks = np.ones_like(av_theta_tracks) / len(av_theta_tracks)\n",
    "weight_showers = np.ones_like(av_theta_showers) / len(av_theta_showers)"
   ]
  },
  {
   "cell_type": "code",
   "execution_count": 438,
   "metadata": {},
   "outputs": [
    {
     "data": {
      "text/plain": [
       "171.98999687916535"
      ]
     },
     "execution_count": 438,
     "metadata": {},
     "output_type": "execute_result"
    }
   ],
   "source": [
    "av_theta_showers.max()"
   ]
  },
  {
   "cell_type": "code",
   "execution_count": 473,
   "metadata": {
    "scrolled": false
   },
   "outputs": [
    {
     "data": {
      "image/png": "[encoded data removed]",
      "text/plain": [
       "<Figure size 720x720 with 1 Axes>"
      ]
     },
     "metadata": {
      "needs_background": "light"
     },
     "output_type": "display_data"
    }
   ],
   "source": [
    "fig = plt.figure(1, figsize=(10, 10))\n",
    "plt.hist(av_theta_tracks, 100, weights = weight_tracks, color = 'g', histtype = u'step', label = 'Tracks')\n",
    "plt.hist(av_theta_showers, 100, weights = weight_showers, color = 'b', histtype = u'step', label = 'Showers')\n",
    "plt.title('Angles: Tracks and Showers', fontsize = 20)\n",
    "plt.xlabel('Angle (degrees)')\n",
    "plt.ylabel('Number of PFOs')\n",
    "\n",
    "plt.legend()\n",
    "        \n",
    "plt.show()"
   ]
  },
  {
   "cell_type": "markdown",
   "metadata": {},
   "source": [
    "# Assessing perfomance "
   ]
  },
  {
   "cell_type": "code",
   "execution_count": 462,
   "metadata": {},
   "outputs": [],
   "source": [
    "bin_angle_values = np.arange(0.0075, 172, 0.2)"
   ]
  },
  {
   "cell_type": "code",
   "execution_count": 463,
   "metadata": {},
   "outputs": [
    {
     "data": {
      "text/plain": [
       "range(0, 860)"
      ]
     },
     "execution_count": 463,
     "metadata": {},
     "output_type": "execute_result"
    }
   ],
   "source": [
    "range(len(bin_angle_values))"
   ]
  },
  {
   "cell_type": "code",
   "execution_count": 464,
   "metadata": {
    "scrolled": true
   },
   "outputs": [
    {
     "data": {
      "text/plain": [
       "0.007496917213860834"
      ]
     },
     "execution_count": 464,
     "metadata": {},
     "output_type": "execute_result"
    }
   ],
   "source": [
    "np.sort(av_theta_tracks)[0]"
   ]
  },
  {
   "cell_type": "code",
   "execution_count": 465,
   "metadata": {},
   "outputs": [],
   "source": [
    "trueTracksCalledTracks = []\n",
    "\n",
    "for i in range(len(bin_angle_values)):\n",
    "    trueTracksCalledTracks.append(np.where(av_theta_tracks <= bin_angle_values[i])[0])"
   ]
  },
  {
   "cell_type": "code",
   "execution_count": 466,
   "metadata": {},
   "outputs": [
    {
     "data": {
      "text/plain": [
       "500"
      ]
     },
     "execution_count": 466,
     "metadata": {},
     "output_type": "execute_result"
    }
   ],
   "source": [
    "len(trueShowersAsTracks)"
   ]
  },
  {
   "cell_type": "code",
   "execution_count": 467,
   "metadata": {},
   "outputs": [],
   "source": [
    "trueTracksCalledShowers = []\n",
    "\n",
    "for i in range(len(bin_angle_values)):\n",
    "    trueTracksCalledShowers.append(np.where(av_theta_tracks > bin_angle_values[i])[0])"
   ]
  },
  {
   "cell_type": "code",
   "execution_count": 468,
   "metadata": {},
   "outputs": [],
   "source": [
    "trueShowersCalledTracks = []\n",
    "\n",
    "for i in range(len(bin_angle_values)):\n",
    "     trueShowersCalledTracks.append(np.where(av_theta_showers <= bin_angle_values[i])[0])"
   ]
  },
  {
   "cell_type": "code",
   "execution_count": 469,
   "metadata": {},
   "outputs": [],
   "source": [
    "trueShowersCalledShowers = []\n",
    "\n",
    "for i in range(len(bin_angle_values)):\n",
    "    trueShowersCalledShowers.append(np.where(av_theta_showers > bin_angle_values[i])[0])"
   ]
  },
  {
   "cell_type": "code",
   "execution_count": 470,
   "metadata": {},
   "outputs": [],
   "source": [
    "completeness = []\n",
    "\n",
    "for i in range(len(bin_angle_values)):\n",
    "    completeness_num = len(trueTracksCalledTracks[i])\n",
    "    completeness_denom = len(trueTracksCalledTracks[i]) + len(trueTracksCalledShowers[i])\n",
    "    completeness.append(completeness_num / completeness_denom)"
   ]
  },
  {
   "cell_type": "code",
   "execution_count": 471,
   "metadata": {},
   "outputs": [],
   "source": [
    "purity = []\n",
    "\n",
    "for i in range(len(bin_angle_values)):\n",
    "    purity_num = len(trueTracksCalledTracks[i])\n",
    "    purity_denom = len(trueTracksCalledTracks[i]) + len(trueShowersCalledTracks[i])\n",
    "    purity.append(purity_num / purity_denom)"
   ]
  },
  {
   "cell_type": "code",
   "execution_count": 472,
   "metadata": {},
   "outputs": [
    {
     "data": {
      "text/plain": [
       "<matplotlib.collections.PathCollection at 0x1ca906f6588>"
      ]
     },
     "execution_count": 472,
     "metadata": {},
     "output_type": "execute_result"
    },
    {
     "data": {
      "image/png": "[encoded data removed]",
      "text/plain": [
       "<Figure size 720x720 with 1 Axes>"
      ]
     },
     "metadata": {
      "needs_background": "light"
     },
     "output_type": "display_data"
    }
   ],
   "source": [
    "fig = plt.figure(figsize = (10, 10))\n",
    "plt.xlabel('Completeness', fontsize = 10)\n",
    "plt.ylabel('Purity', fontsize = 10)\n",
    "plt.scatter(completeness, purity, s = 10)\n",
    "\n",
    "#plt.scatter(completeness[8], purity[8], color = 'r', s = 150, marker = 'x')\n",
    "plt.scatter(completeness[48], purity[48], color = 'r', s = 150, marker = 'x')"
   ]
  },
  {
   "cell_type": "code",
   "execution_count": null,
   "metadata": {},
   "outputs": [],
   "source": [
    "bin_angle_values[48]"
   ]
  },
  {
   "cell_type": "code",
   "execution_count": 474,
   "metadata": {},
   "outputs": [
    {
     "data": {
      "text/plain": [
       "0.9612910143684323"
      ]
     },
     "execution_count": 474,
     "metadata": {},
     "output_type": "execute_result"
    }
   ],
   "source": [
    "purity[48]"
   ]
  },
  {
   "cell_type": "code",
   "execution_count": 475,
   "metadata": {},
   "outputs": [
    {
     "data": {
      "text/plain": [
       "0.8003035172290662"
      ]
     },
     "execution_count": 475,
     "metadata": {},
     "output_type": "execute_result"
    }
   ],
   "source": [
    "completeness[48]"
   ]
  },
  {
   "cell_type": "code",
   "execution_count": 476,
   "metadata": {},
   "outputs": [
    {
     "data": {
      "image/png": "[encoded data removed]",
      "text/plain": [
       "<Figure size 720x720 with 1 Axes>"
      ]
     },
     "metadata": {
      "needs_background": "light"
     },
     "output_type": "display_data"
    }
   ],
   "source": [
    "fig = plt.figure(1, figsize=(10, 10))\n",
    "plt.hist(av_theta_tracks, 100, weights = weight_tracks, color = 'g', histtype = u'step', label = 'Tracks')\n",
    "plt.hist(av_theta_showers, 100, weights = weight_showers, color = 'b', histtype = u'step', label = 'Showers')\n",
    "plt.title('Angles: Tracks and Showers', fontsize = 20)\n",
    "plt.xlabel('Angle (degrees)')\n",
    "plt.ylabel('Number of PFOs')\n",
    "plt.axvline(x=9.607500000000002, linestyle = 'dashed', color = 'r')\n",
    "\n",
    "plt.legend()\n",
    "        \n",
    "plt.show()"
   ]
  },
  {
   "cell_type": "code",
   "execution_count": null,
   "metadata": {},
   "outputs": [],
   "source": []
  }
 ],
 "metadata": {
  "kernelspec": {
   "display_name": "Python 3",
   "language": "python",
   "name": "python3"
  },
  "language_info": {
   "codemirror_mode": {
    "name": "ipython",
    "version": 3
   },
   "file_extension": ".py",
   "mimetype": "text/x-python",
   "name": "python",
   "nbconvert_exporter": "python",
   "pygments_lexer": "ipython3",
   "version": "3.7.3"
  }
 },
 "nbformat": 4,
 "nbformat_minor": 2
}
